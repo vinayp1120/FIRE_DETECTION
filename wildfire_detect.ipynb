{
  "cells": [
    {
      "cell_type": "markdown",
      "metadata": {
        "id": "view-in-github",
        "colab_type": "text"
      },
      "source": [
        "<a href=\"https://colab.research.google.com/github/vinayp1120/FIRE_DETECTION/blob/main/wildfire_detect.ipynb\" target=\"_parent\"><img src=\"https://colab.research.google.com/assets/colab-badge.svg\" alt=\"Open In Colab\"/></a>"
      ]
    },
    {
      "cell_type": "code",
      "execution_count": null,
      "metadata": {
        "colab": {
          "base_uri": "https://localhost:8080/"
        },
        "id": "JsA_6dFWHA40",
        "outputId": "525e181d-3f6b-415d-fa9d-072e41f0fbca"
      },
      "outputs": [
        {
          "output_type": "stream",
          "name": "stdout",
          "text": [
            "Collecting ultralytics\n",
            "  Downloading ultralytics-8.2.70-py3-none-any.whl.metadata (41 kB)\n",
            "\u001b[?25l     \u001b[90m━━━━━━━━━━━━━━━━━━━━━━━━━━━━━━━━━━━━━━━━\u001b[0m \u001b[32m0.0/41.3 kB\u001b[0m \u001b[31m?\u001b[0m eta \u001b[36m-:--:--\u001b[0m\r\u001b[2K     \u001b[90m━━━━━━━━━━━━━━━━━━━━━━━━━━━━━━━━━━━━━━━━\u001b[0m \u001b[32m41.3/41.3 kB\u001b[0m \u001b[31m2.8 MB/s\u001b[0m eta \u001b[36m0:00:00\u001b[0m\n",
            "\u001b[?25hRequirement already satisfied: numpy<2.0.0,>=1.23.0 in /usr/local/lib/python3.10/dist-packages (from ultralytics) (1.26.4)\n",
            "Requirement already satisfied: matplotlib>=3.3.0 in /usr/local/lib/python3.10/dist-packages (from ultralytics) (3.7.1)\n",
            "Requirement already satisfied: opencv-python>=4.6.0 in /usr/local/lib/python3.10/dist-packages (from ultralytics) (4.10.0.84)\n",
            "Requirement already satisfied: pillow>=7.1.2 in /usr/local/lib/python3.10/dist-packages (from ultralytics) (9.4.0)\n",
            "Requirement already satisfied: pyyaml>=5.3.1 in /usr/local/lib/python3.10/dist-packages (from ultralytics) (6.0.1)\n",
            "Requirement already satisfied: requests>=2.23.0 in /usr/local/lib/python3.10/dist-packages (from ultralytics) (2.31.0)\n",
            "Requirement already satisfied: scipy>=1.4.1 in /usr/local/lib/python3.10/dist-packages (from ultralytics) (1.13.1)\n",
            "Requirement already satisfied: torch>=1.8.0 in /usr/local/lib/python3.10/dist-packages (from ultralytics) (2.3.1+cu121)\n",
            "Requirement already satisfied: torchvision>=0.9.0 in /usr/local/lib/python3.10/dist-packages (from ultralytics) (0.18.1+cu121)\n",
            "Requirement already satisfied: tqdm>=4.64.0 in /usr/local/lib/python3.10/dist-packages (from ultralytics) (4.66.4)\n",
            "Requirement already satisfied: psutil in /usr/local/lib/python3.10/dist-packages (from ultralytics) (5.9.5)\n",
            "Requirement already satisfied: py-cpuinfo in /usr/local/lib/python3.10/dist-packages (from ultralytics) (9.0.0)\n",
            "Requirement already satisfied: pandas>=1.1.4 in /usr/local/lib/python3.10/dist-packages (from ultralytics) (2.1.4)\n",
            "Requirement already satisfied: seaborn>=0.11.0 in /usr/local/lib/python3.10/dist-packages (from ultralytics) (0.13.1)\n",
            "Collecting ultralytics-thop>=2.0.0 (from ultralytics)\n",
            "  Downloading ultralytics_thop-2.0.0-py3-none-any.whl.metadata (8.5 kB)\n",
            "Requirement already satisfied: contourpy>=1.0.1 in /usr/local/lib/python3.10/dist-packages (from matplotlib>=3.3.0->ultralytics) (1.2.1)\n",
            "Requirement already satisfied: cycler>=0.10 in /usr/local/lib/python3.10/dist-packages (from matplotlib>=3.3.0->ultralytics) (0.12.1)\n",
            "Requirement already satisfied: fonttools>=4.22.0 in /usr/local/lib/python3.10/dist-packages (from matplotlib>=3.3.0->ultralytics) (4.53.1)\n",
            "Requirement already satisfied: kiwisolver>=1.0.1 in /usr/local/lib/python3.10/dist-packages (from matplotlib>=3.3.0->ultralytics) (1.4.5)\n",
            "Requirement already satisfied: packaging>=20.0 in /usr/local/lib/python3.10/dist-packages (from matplotlib>=3.3.0->ultralytics) (24.1)\n",
            "Requirement already satisfied: pyparsing>=2.3.1 in /usr/local/lib/python3.10/dist-packages (from matplotlib>=3.3.0->ultralytics) (3.1.2)\n",
            "Requirement already satisfied: python-dateutil>=2.7 in /usr/local/lib/python3.10/dist-packages (from matplotlib>=3.3.0->ultralytics) (2.8.2)\n",
            "Requirement already satisfied: pytz>=2020.1 in /usr/local/lib/python3.10/dist-packages (from pandas>=1.1.4->ultralytics) (2024.1)\n",
            "Requirement already satisfied: tzdata>=2022.1 in /usr/local/lib/python3.10/dist-packages (from pandas>=1.1.4->ultralytics) (2024.1)\n",
            "Requirement already satisfied: charset-normalizer<4,>=2 in /usr/local/lib/python3.10/dist-packages (from requests>=2.23.0->ultralytics) (3.3.2)\n",
            "Requirement already satisfied: idna<4,>=2.5 in /usr/local/lib/python3.10/dist-packages (from requests>=2.23.0->ultralytics) (3.7)\n",
            "Requirement already satisfied: urllib3<3,>=1.21.1 in /usr/local/lib/python3.10/dist-packages (from requests>=2.23.0->ultralytics) (2.0.7)\n",
            "Requirement already satisfied: certifi>=2017.4.17 in /usr/local/lib/python3.10/dist-packages (from requests>=2.23.0->ultralytics) (2024.7.4)\n",
            "Requirement already satisfied: filelock in /usr/local/lib/python3.10/dist-packages (from torch>=1.8.0->ultralytics) (3.15.4)\n",
            "Requirement already satisfied: typing-extensions>=4.8.0 in /usr/local/lib/python3.10/dist-packages (from torch>=1.8.0->ultralytics) (4.12.2)\n",
            "Requirement already satisfied: sympy in /usr/local/lib/python3.10/dist-packages (from torch>=1.8.0->ultralytics) (1.13.1)\n",
            "Requirement already satisfied: networkx in /usr/local/lib/python3.10/dist-packages (from torch>=1.8.0->ultralytics) (3.3)\n",
            "Requirement already satisfied: jinja2 in /usr/local/lib/python3.10/dist-packages (from torch>=1.8.0->ultralytics) (3.1.4)\n",
            "Requirement already satisfied: fsspec in /usr/local/lib/python3.10/dist-packages (from torch>=1.8.0->ultralytics) (2024.6.1)\n",
            "Collecting nvidia-cuda-nvrtc-cu12==12.1.105 (from torch>=1.8.0->ultralytics)\n",
            "  Using cached nvidia_cuda_nvrtc_cu12-12.1.105-py3-none-manylinux1_x86_64.whl.metadata (1.5 kB)\n",
            "Collecting nvidia-cuda-runtime-cu12==12.1.105 (from torch>=1.8.0->ultralytics)\n",
            "  Using cached nvidia_cuda_runtime_cu12-12.1.105-py3-none-manylinux1_x86_64.whl.metadata (1.5 kB)\n",
            "Collecting nvidia-cuda-cupti-cu12==12.1.105 (from torch>=1.8.0->ultralytics)\n",
            "  Using cached nvidia_cuda_cupti_cu12-12.1.105-py3-none-manylinux1_x86_64.whl.metadata (1.6 kB)\n",
            "Collecting nvidia-cudnn-cu12==8.9.2.26 (from torch>=1.8.0->ultralytics)\n",
            "  Using cached nvidia_cudnn_cu12-8.9.2.26-py3-none-manylinux1_x86_64.whl.metadata (1.6 kB)\n",
            "Collecting nvidia-cublas-cu12==12.1.3.1 (from torch>=1.8.0->ultralytics)\n",
            "  Using cached nvidia_cublas_cu12-12.1.3.1-py3-none-manylinux1_x86_64.whl.metadata (1.5 kB)\n",
            "Collecting nvidia-cufft-cu12==11.0.2.54 (from torch>=1.8.0->ultralytics)\n",
            "  Using cached nvidia_cufft_cu12-11.0.2.54-py3-none-manylinux1_x86_64.whl.metadata (1.5 kB)\n",
            "Collecting nvidia-curand-cu12==10.3.2.106 (from torch>=1.8.0->ultralytics)\n",
            "  Using cached nvidia_curand_cu12-10.3.2.106-py3-none-manylinux1_x86_64.whl.metadata (1.5 kB)\n",
            "Collecting nvidia-cusolver-cu12==11.4.5.107 (from torch>=1.8.0->ultralytics)\n",
            "  Using cached nvidia_cusolver_cu12-11.4.5.107-py3-none-manylinux1_x86_64.whl.metadata (1.6 kB)\n",
            "Collecting nvidia-cusparse-cu12==12.1.0.106 (from torch>=1.8.0->ultralytics)\n",
            "  Using cached nvidia_cusparse_cu12-12.1.0.106-py3-none-manylinux1_x86_64.whl.metadata (1.6 kB)\n",
            "Collecting nvidia-nccl-cu12==2.20.5 (from torch>=1.8.0->ultralytics)\n",
            "  Using cached nvidia_nccl_cu12-2.20.5-py3-none-manylinux2014_x86_64.whl.metadata (1.8 kB)\n",
            "Collecting nvidia-nvtx-cu12==12.1.105 (from torch>=1.8.0->ultralytics)\n",
            "  Using cached nvidia_nvtx_cu12-12.1.105-py3-none-manylinux1_x86_64.whl.metadata (1.7 kB)\n",
            "Requirement already satisfied: triton==2.3.1 in /usr/local/lib/python3.10/dist-packages (from torch>=1.8.0->ultralytics) (2.3.1)\n",
            "Collecting nvidia-nvjitlink-cu12 (from nvidia-cusolver-cu12==11.4.5.107->torch>=1.8.0->ultralytics)\n",
            "  Downloading nvidia_nvjitlink_cu12-12.5.82-py3-none-manylinux2014_x86_64.whl.metadata (1.5 kB)\n",
            "Requirement already satisfied: six>=1.5 in /usr/local/lib/python3.10/dist-packages (from python-dateutil>=2.7->matplotlib>=3.3.0->ultralytics) (1.16.0)\n",
            "Requirement already satisfied: MarkupSafe>=2.0 in /usr/local/lib/python3.10/dist-packages (from jinja2->torch>=1.8.0->ultralytics) (2.1.5)\n",
            "Requirement already satisfied: mpmath<1.4,>=1.1.0 in /usr/local/lib/python3.10/dist-packages (from sympy->torch>=1.8.0->ultralytics) (1.3.0)\n",
            "Downloading ultralytics-8.2.70-py3-none-any.whl (862 kB)\n",
            "\u001b[2K   \u001b[90m━━━━━━━━━━━━━━━━━━━━━━━━━━━━━━━━━━━━━━━━\u001b[0m \u001b[32m862.6/862.6 kB\u001b[0m \u001b[31m19.9 MB/s\u001b[0m eta \u001b[36m0:00:00\u001b[0m\n",
            "\u001b[?25hUsing cached nvidia_cublas_cu12-12.1.3.1-py3-none-manylinux1_x86_64.whl (410.6 MB)\n",
            "Using cached nvidia_cuda_cupti_cu12-12.1.105-py3-none-manylinux1_x86_64.whl (14.1 MB)\n",
            "Using cached nvidia_cuda_nvrtc_cu12-12.1.105-py3-none-manylinux1_x86_64.whl (23.7 MB)\n",
            "Using cached nvidia_cuda_runtime_cu12-12.1.105-py3-none-manylinux1_x86_64.whl (823 kB)\n",
            "Using cached nvidia_cudnn_cu12-8.9.2.26-py3-none-manylinux1_x86_64.whl (731.7 MB)\n",
            "Using cached nvidia_cufft_cu12-11.0.2.54-py3-none-manylinux1_x86_64.whl (121.6 MB)\n",
            "Using cached nvidia_curand_cu12-10.3.2.106-py3-none-manylinux1_x86_64.whl (56.5 MB)\n",
            "Using cached nvidia_cusolver_cu12-11.4.5.107-py3-none-manylinux1_x86_64.whl (124.2 MB)\n",
            "Using cached nvidia_cusparse_cu12-12.1.0.106-py3-none-manylinux1_x86_64.whl (196.0 MB)\n",
            "Using cached nvidia_nccl_cu12-2.20.5-py3-none-manylinux2014_x86_64.whl (176.2 MB)\n",
            "Using cached nvidia_nvtx_cu12-12.1.105-py3-none-manylinux1_x86_64.whl (99 kB)\n",
            "Downloading ultralytics_thop-2.0.0-py3-none-any.whl (25 kB)\n",
            "Downloading nvidia_nvjitlink_cu12-12.5.82-py3-none-manylinux2014_x86_64.whl (21.3 MB)\n",
            "\u001b[2K   \u001b[90m━━━━━━━━━━━━━━━━━━━━━━━━━━━━━━━━━━━━━━━━\u001b[0m \u001b[32m21.3/21.3 MB\u001b[0m \u001b[31m70.1 MB/s\u001b[0m eta \u001b[36m0:00:00\u001b[0m\n",
            "\u001b[?25hInstalling collected packages: nvidia-nvtx-cu12, nvidia-nvjitlink-cu12, nvidia-nccl-cu12, nvidia-curand-cu12, nvidia-cufft-cu12, nvidia-cuda-runtime-cu12, nvidia-cuda-nvrtc-cu12, nvidia-cuda-cupti-cu12, nvidia-cublas-cu12, nvidia-cusparse-cu12, nvidia-cudnn-cu12, nvidia-cusolver-cu12, ultralytics-thop, ultralytics\n",
            "Successfully installed nvidia-cublas-cu12-12.1.3.1 nvidia-cuda-cupti-cu12-12.1.105 nvidia-cuda-nvrtc-cu12-12.1.105 nvidia-cuda-runtime-cu12-12.1.105 nvidia-cudnn-cu12-8.9.2.26 nvidia-cufft-cu12-11.0.2.54 nvidia-curand-cu12-10.3.2.106 nvidia-cusolver-cu12-11.4.5.107 nvidia-cusparse-cu12-12.1.0.106 nvidia-nccl-cu12-2.20.5 nvidia-nvjitlink-cu12-12.5.82 nvidia-nvtx-cu12-12.1.105 ultralytics-8.2.70 ultralytics-thop-2.0.0\n"
          ]
        }
      ],
      "source": [
        "!pip install ultralytics"
      ]
    },
    {
      "cell_type": "code",
      "execution_count": null,
      "metadata": {
        "colab": {
          "base_uri": "https://localhost:8080/"
        },
        "id": "4g9ivLNIHEGS",
        "outputId": "1c0919aa-a670-4d91-aa2a-f9a62adcf967"
      },
      "outputs": [
        {
          "output_type": "stream",
          "name": "stdout",
          "text": [
            "Collecting roboflow\n",
            "  Downloading roboflow-1.1.37-py3-none-any.whl.metadata (9.4 kB)\n",
            "Requirement already satisfied: certifi in /usr/local/lib/python3.10/dist-packages (from roboflow) (2024.7.4)\n",
            "Collecting chardet==4.0.0 (from roboflow)\n",
            "  Downloading chardet-4.0.0-py2.py3-none-any.whl.metadata (3.5 kB)\n",
            "Requirement already satisfied: idna==3.7 in /usr/local/lib/python3.10/dist-packages (from roboflow) (3.7)\n",
            "Requirement already satisfied: cycler in /usr/local/lib/python3.10/dist-packages (from roboflow) (0.12.1)\n",
            "Requirement already satisfied: kiwisolver>=1.3.1 in /usr/local/lib/python3.10/dist-packages (from roboflow) (1.4.5)\n",
            "Requirement already satisfied: matplotlib in /usr/local/lib/python3.10/dist-packages (from roboflow) (3.7.1)\n",
            "Requirement already satisfied: numpy>=1.18.5 in /usr/local/lib/python3.10/dist-packages (from roboflow) (1.26.4)\n",
            "Requirement already satisfied: opencv-python-headless==4.10.0.84 in /usr/local/lib/python3.10/dist-packages (from roboflow) (4.10.0.84)\n",
            "Requirement already satisfied: Pillow>=7.1.2 in /usr/local/lib/python3.10/dist-packages (from roboflow) (9.4.0)\n",
            "Requirement already satisfied: python-dateutil in /usr/local/lib/python3.10/dist-packages (from roboflow) (2.8.2)\n",
            "Collecting python-dotenv (from roboflow)\n",
            "  Downloading python_dotenv-1.0.1-py3-none-any.whl.metadata (23 kB)\n",
            "Requirement already satisfied: requests in /usr/local/lib/python3.10/dist-packages (from roboflow) (2.31.0)\n",
            "Requirement already satisfied: six in /usr/local/lib/python3.10/dist-packages (from roboflow) (1.16.0)\n",
            "Requirement already satisfied: urllib3>=1.26.6 in /usr/local/lib/python3.10/dist-packages (from roboflow) (2.0.7)\n",
            "Requirement already satisfied: tqdm>=4.41.0 in /usr/local/lib/python3.10/dist-packages (from roboflow) (4.66.4)\n",
            "Requirement already satisfied: PyYAML>=5.3.1 in /usr/local/lib/python3.10/dist-packages (from roboflow) (6.0.1)\n",
            "Collecting requests-toolbelt (from roboflow)\n",
            "  Downloading requests_toolbelt-1.0.0-py2.py3-none-any.whl.metadata (14 kB)\n",
            "Collecting filetype (from roboflow)\n",
            "  Downloading filetype-1.2.0-py2.py3-none-any.whl.metadata (6.5 kB)\n",
            "Requirement already satisfied: contourpy>=1.0.1 in /usr/local/lib/python3.10/dist-packages (from matplotlib->roboflow) (1.2.1)\n",
            "Requirement already satisfied: fonttools>=4.22.0 in /usr/local/lib/python3.10/dist-packages (from matplotlib->roboflow) (4.53.1)\n",
            "Requirement already satisfied: packaging>=20.0 in /usr/local/lib/python3.10/dist-packages (from matplotlib->roboflow) (24.1)\n",
            "Requirement already satisfied: pyparsing>=2.3.1 in /usr/local/lib/python3.10/dist-packages (from matplotlib->roboflow) (3.1.2)\n",
            "Requirement already satisfied: charset-normalizer<4,>=2 in /usr/local/lib/python3.10/dist-packages (from requests->roboflow) (3.3.2)\n",
            "Downloading roboflow-1.1.37-py3-none-any.whl (76 kB)\n",
            "\u001b[2K   \u001b[90m━━━━━━━━━━━━━━━━━━━━━━━━━━━━━━━━━━━━━━━━\u001b[0m \u001b[32m76.9/76.9 kB\u001b[0m \u001b[31m5.3 MB/s\u001b[0m eta \u001b[36m0:00:00\u001b[0m\n",
            "\u001b[?25hDownloading chardet-4.0.0-py2.py3-none-any.whl (178 kB)\n",
            "\u001b[2K   \u001b[90m━━━━━━━━━━━━━━━━━━━━━━━━━━━━━━━━━━━━━━━━\u001b[0m \u001b[32m178.7/178.7 kB\u001b[0m \u001b[31m12.9 MB/s\u001b[0m eta \u001b[36m0:00:00\u001b[0m\n",
            "\u001b[?25hDownloading filetype-1.2.0-py2.py3-none-any.whl (19 kB)\n",
            "Downloading python_dotenv-1.0.1-py3-none-any.whl (19 kB)\n",
            "Downloading requests_toolbelt-1.0.0-py2.py3-none-any.whl (54 kB)\n",
            "\u001b[2K   \u001b[90m━━━━━━━━━━━━━━━━━━━━━━━━━━━━━━━━━━━━━━━━\u001b[0m \u001b[32m54.5/54.5 kB\u001b[0m \u001b[31m5.2 MB/s\u001b[0m eta \u001b[36m0:00:00\u001b[0m\n",
            "\u001b[?25hInstalling collected packages: filetype, python-dotenv, chardet, requests-toolbelt, roboflow\n",
            "  Attempting uninstall: chardet\n",
            "    Found existing installation: chardet 5.2.0\n",
            "    Uninstalling chardet-5.2.0:\n",
            "      Successfully uninstalled chardet-5.2.0\n",
            "Successfully installed chardet-4.0.0 filetype-1.2.0 python-dotenv-1.0.1 requests-toolbelt-1.0.0 roboflow-1.1.37\n",
            "loading Roboflow workspace...\n",
            "loading Roboflow project...\n"
          ]
        },
        {
          "output_type": "stream",
          "name": "stderr",
          "text": [
            "Downloading Dataset Version Zip in wildfirenew-1 to yolov9:: 100%|██████████| 46465/46465 [00:01<00:00, 27336.56it/s]"
          ]
        },
        {
          "output_type": "stream",
          "name": "stdout",
          "text": [
            "\n"
          ]
        },
        {
          "output_type": "stream",
          "name": "stderr",
          "text": [
            "\n",
            "Extracting Dataset Version Zip to wildfirenew-1 in yolov9:: 100%|██████████| 1364/1364 [00:00<00:00, 2794.96it/s]\n"
          ]
        }
      ],
      "source": [
        "!pip install roboflow\n",
        "\n",
        "from roboflow import Roboflow\n",
        "rf = Roboflow(api_key=\"g6B7lbsTV9ZalEEfjXrF\")\n",
        "project = rf.workspace(\"weapon-detection-ohetg\").project(\"wildfirenew\")\n",
        "version = project.version(1)\n",
        "dataset = version.download(\"yolov9\")\n"
      ]
    },
    {
      "cell_type": "code",
      "execution_count": null,
      "metadata": {
        "colab": {
          "base_uri": "https://localhost:8080/"
        },
        "id": "C9oRVbXLHTEz",
        "outputId": "fc8e65fe-e2d7-44e6-e4a4-73fe4d494d77"
      },
      "outputs": [
        {
          "output_type": "stream",
          "name": "stdout",
          "text": [
            "Ultralytics YOLOv8.2.70 🚀 Python-3.10.12 torch-2.3.1+cu121 CUDA:0 (Tesla T4, 15102MiB)\n",
            "\u001b[34m\u001b[1mengine/trainer: \u001b[0mtask=detect, mode=train, model=yolov9c.pt, data=/content/wildfirenew-1/data.yaml, epochs=20, time=None, patience=100, batch=16, imgsz=640, save=True, save_period=-1, cache=False, device=None, workers=8, project=None, name=train2, exist_ok=False, pretrained=True, optimizer=auto, verbose=True, seed=0, deterministic=True, single_cls=False, rect=False, cos_lr=False, close_mosaic=10, resume=False, amp=True, fraction=1.0, profile=False, freeze=None, multi_scale=False, overlap_mask=True, mask_ratio=4, dropout=0.0, val=True, split=val, save_json=False, save_hybrid=False, conf=None, iou=0.7, max_det=300, half=False, dnn=False, plots=True, source=None, vid_stride=1, stream_buffer=False, visualize=False, augment=False, agnostic_nms=False, classes=None, retina_masks=False, embed=None, show=False, save_frames=False, save_txt=False, save_conf=False, save_crop=False, show_labels=True, show_conf=True, show_boxes=True, line_width=None, format=torchscript, keras=False, optimize=False, int8=False, dynamic=False, simplify=False, opset=None, workspace=4, nms=False, lr0=0.01, lrf=0.01, momentum=0.937, weight_decay=0.0005, warmup_epochs=3.0, warmup_momentum=0.8, warmup_bias_lr=0.1, box=7.5, cls=0.5, dfl=1.5, pose=12.0, kobj=1.0, label_smoothing=0.0, nbs=64, hsv_h=0.015, hsv_s=0.7, hsv_v=0.4, degrees=0.0, translate=0.1, scale=0.5, shear=0.0, perspective=0.0, flipud=0.0, fliplr=0.5, bgr=0.0, mosaic=1.0, mixup=0.0, copy_paste=0.0, auto_augment=randaugment, erasing=0.4, crop_fraction=1.0, cfg=None, tracker=botsort.yaml, save_dir=runs/detect/train2\n",
            "Downloading https://ultralytics.com/assets/Arial.ttf to '/root/.config/Ultralytics/Arial.ttf'...\n"
          ]
        },
        {
          "output_type": "stream",
          "name": "stderr",
          "text": [
            "100%|██████████| 755k/755k [00:00<00:00, 28.1MB/s]\n"
          ]
        },
        {
          "output_type": "stream",
          "name": "stdout",
          "text": [
            "Overriding model.yaml nc=80 with nc=1\n",
            "\n",
            "                   from  n    params  module                                       arguments                     \n",
            "  0                  -1  1      1856  ultralytics.nn.modules.conv.Conv             [3, 64, 3, 2]                 \n",
            "  1                  -1  1     73984  ultralytics.nn.modules.conv.Conv             [64, 128, 3, 2]               \n",
            "  2                  -1  1    212864  ultralytics.nn.modules.block.RepNCSPELAN4    [128, 256, 128, 64, 1]        \n",
            "  3                  -1  1    164352  ultralytics.nn.modules.block.ADown           [256, 256]                    \n",
            "  4                  -1  1    847616  ultralytics.nn.modules.block.RepNCSPELAN4    [256, 512, 256, 128, 1]       \n",
            "  5                  -1  1    656384  ultralytics.nn.modules.block.ADown           [512, 512]                    \n",
            "  6                  -1  1   2857472  ultralytics.nn.modules.block.RepNCSPELAN4    [512, 512, 512, 256, 1]       \n",
            "  7                  -1  1    656384  ultralytics.nn.modules.block.ADown           [512, 512]                    \n",
            "  8                  -1  1   2857472  ultralytics.nn.modules.block.RepNCSPELAN4    [512, 512, 512, 256, 1]       \n",
            "  9                  -1  1    656896  ultralytics.nn.modules.block.SPPELAN         [512, 512, 256]               \n",
            " 10                  -1  1         0  torch.nn.modules.upsampling.Upsample         [None, 2, 'nearest']          \n",
            " 11             [-1, 6]  1         0  ultralytics.nn.modules.conv.Concat           [1]                           \n",
            " 12                  -1  1   3119616  ultralytics.nn.modules.block.RepNCSPELAN4    [1024, 512, 512, 256, 1]      \n",
            " 13                  -1  1         0  torch.nn.modules.upsampling.Upsample         [None, 2, 'nearest']          \n",
            " 14             [-1, 4]  1         0  ultralytics.nn.modules.conv.Concat           [1]                           \n",
            " 15                  -1  1    912640  ultralytics.nn.modules.block.RepNCSPELAN4    [1024, 256, 256, 128, 1]      \n",
            " 16                  -1  1    164352  ultralytics.nn.modules.block.ADown           [256, 256]                    \n",
            " 17            [-1, 12]  1         0  ultralytics.nn.modules.conv.Concat           [1]                           \n",
            " 18                  -1  1   2988544  ultralytics.nn.modules.block.RepNCSPELAN4    [768, 512, 512, 256, 1]       \n",
            " 19                  -1  1    656384  ultralytics.nn.modules.block.ADown           [512, 512]                    \n",
            " 20             [-1, 9]  1         0  ultralytics.nn.modules.conv.Concat           [1]                           \n",
            " 21                  -1  1   3119616  ultralytics.nn.modules.block.RepNCSPELAN4    [1024, 512, 512, 256, 1]      \n",
            " 22        [15, 18, 21]  1   5583571  ultralytics.nn.modules.head.Detect           [1, [256, 512, 512]]          \n",
            "YOLOv9c summary: 618 layers, 25,530,003 parameters, 25,529,987 gradients, 103.7 GFLOPs\n",
            "\n",
            "Transferred 931/937 items from pretrained weights\n",
            "\u001b[34m\u001b[1mTensorBoard: \u001b[0mStart with 'tensorboard --logdir runs/detect/train2', view at http://localhost:6006/\n",
            "Freezing layer 'model.22.dfl.conv.weight'\n",
            "\u001b[34m\u001b[1mAMP: \u001b[0mrunning Automatic Mixed Precision (AMP) checks with YOLOv8n...\n",
            "Downloading https://github.com/ultralytics/assets/releases/download/v8.2.0/yolov8n.pt to 'yolov8n.pt'...\n"
          ]
        },
        {
          "output_type": "stream",
          "name": "stderr",
          "text": [
            "100%|██████████| 6.25M/6.25M [00:00<00:00, 121MB/s]\n"
          ]
        },
        {
          "output_type": "stream",
          "name": "stdout",
          "text": [
            "\u001b[34m\u001b[1mAMP: \u001b[0mchecks passed ✅\n"
          ]
        },
        {
          "output_type": "stream",
          "name": "stderr",
          "text": [
            "\u001b[34m\u001b[1mtrain: \u001b[0mScanning /content/wildfirenew-1/train/labels... 556 images, 0 backgrounds, 0 corrupt: 100%|██████████| 556/556 [00:00<00:00, 1975.68it/s]"
          ]
        },
        {
          "output_type": "stream",
          "name": "stdout",
          "text": [
            "\u001b[34m\u001b[1mtrain: \u001b[0mNew cache created: /content/wildfirenew-1/train/labels.cache\n"
          ]
        },
        {
          "output_type": "stream",
          "name": "stderr",
          "text": [
            "\n"
          ]
        },
        {
          "output_type": "stream",
          "name": "stdout",
          "text": [
            "\u001b[34m\u001b[1malbumentations: \u001b[0mBlur(p=0.01, blur_limit=(3, 7)), MedianBlur(p=0.01, blur_limit=(3, 7)), ToGray(p=0.01), CLAHE(p=0.01, clip_limit=(1, 4.0), tile_grid_size=(8, 8))\n"
          ]
        },
        {
          "output_type": "stream",
          "name": "stderr",
          "text": [
            "os.fork() was called. os.fork() is incompatible with multithreaded code, and JAX is multithreaded, so this will likely lead to a deadlock.\n",
            "\u001b[34m\u001b[1mval: \u001b[0mScanning /content/wildfirenew-1/valid/labels... 79 images, 0 backgrounds, 0 corrupt: 100%|██████████| 79/79 [00:00<00:00, 886.44it/s]"
          ]
        },
        {
          "output_type": "stream",
          "name": "stdout",
          "text": [
            "\u001b[34m\u001b[1mval: \u001b[0mNew cache created: /content/wildfirenew-1/valid/labels.cache\n"
          ]
        },
        {
          "output_type": "stream",
          "name": "stderr",
          "text": [
            "\n"
          ]
        },
        {
          "output_type": "stream",
          "name": "stdout",
          "text": [
            "Plotting labels to runs/detect/train2/labels.jpg... \n",
            "\u001b[34m\u001b[1moptimizer:\u001b[0m 'optimizer=auto' found, ignoring 'lr0=0.01' and 'momentum=0.937' and determining best 'optimizer', 'lr0' and 'momentum' automatically... \n",
            "\u001b[34m\u001b[1moptimizer:\u001b[0m AdamW(lr=0.002, momentum=0.9) with parameter groups 154 weight(decay=0.0), 161 weight(decay=0.0005), 160 bias(decay=0.0)\n",
            "\u001b[34m\u001b[1mTensorBoard: \u001b[0mmodel graph visualization added ✅\n",
            "Image sizes 640 train, 640 val\n",
            "Using 2 dataloader workers\n",
            "Logging results to \u001b[1mruns/detect/train2\u001b[0m\n",
            "Starting training for 20 epochs...\n",
            "\n",
            "      Epoch    GPU_mem   box_loss   cls_loss   dfl_loss  Instances       Size\n"
          ]
        },
        {
          "output_type": "stream",
          "name": "stderr",
          "text": [
            "       1/20      11.1G      2.512      4.563      2.391         41        640: 100%|██████████| 35/35 [00:30<00:00,  1.16it/s]\n",
            "                 Class     Images  Instances      Box(P          R      mAP50  mAP50-95): 100%|██████████| 3/3 [00:03<00:00,  1.00s/it]"
          ]
        },
        {
          "output_type": "stream",
          "name": "stdout",
          "text": [
            "                   all         79        122    0.00752     0.0164    0.00386    0.00135\n"
          ]
        },
        {
          "output_type": "stream",
          "name": "stderr",
          "text": [
            "\n"
          ]
        },
        {
          "output_type": "stream",
          "name": "stdout",
          "text": [
            "\n",
            "      Epoch    GPU_mem   box_loss   cls_loss   dfl_loss  Instances       Size\n"
          ]
        },
        {
          "output_type": "stream",
          "name": "stderr",
          "text": [
            "       2/20      11.2G       2.69      3.574      2.597         43        640: 100%|██████████| 35/35 [00:26<00:00,  1.33it/s]\n",
            "                 Class     Images  Instances      Box(P          R      mAP50  mAP50-95): 100%|██████████| 3/3 [00:01<00:00,  2.01it/s]"
          ]
        },
        {
          "output_type": "stream",
          "name": "stdout",
          "text": [
            "                   all         79        122    0.00752     0.0164    0.00386    0.00135\n"
          ]
        },
        {
          "output_type": "stream",
          "name": "stderr",
          "text": [
            "\n"
          ]
        },
        {
          "output_type": "stream",
          "name": "stdout",
          "text": [
            "\n",
            "      Epoch    GPU_mem   box_loss   cls_loss   dfl_loss  Instances       Size\n"
          ]
        },
        {
          "output_type": "stream",
          "name": "stderr",
          "text": [
            "       3/20      11.2G      2.685      3.614      2.614         33        640: 100%|██████████| 35/35 [00:26<00:00,  1.34it/s]\n",
            "                 Class     Images  Instances      Box(P          R      mAP50  mAP50-95): 100%|██████████| 3/3 [00:01<00:00,  1.97it/s]"
          ]
        },
        {
          "output_type": "stream",
          "name": "stdout",
          "text": [
            "                   all         79        122    0.00752     0.0164    0.00386    0.00135\n"
          ]
        },
        {
          "output_type": "stream",
          "name": "stderr",
          "text": [
            "\n"
          ]
        },
        {
          "output_type": "stream",
          "name": "stdout",
          "text": [
            "\n",
            "      Epoch    GPU_mem   box_loss   cls_loss   dfl_loss  Instances       Size\n"
          ]
        },
        {
          "output_type": "stream",
          "name": "stderr",
          "text": [
            "       4/20      11.3G      2.587      3.572      2.548         38        640: 100%|██████████| 35/35 [00:26<00:00,  1.34it/s]\n",
            "                 Class     Images  Instances      Box(P          R      mAP50  mAP50-95): 100%|██████████| 3/3 [00:01<00:00,  1.71it/s]"
          ]
        },
        {
          "output_type": "stream",
          "name": "stdout",
          "text": [
            "                   all         79        122   7.35e-05     0.0082   3.72e-05   3.72e-06\n"
          ]
        },
        {
          "output_type": "stream",
          "name": "stderr",
          "text": [
            "\n"
          ]
        },
        {
          "output_type": "stream",
          "name": "stdout",
          "text": [
            "\n",
            "      Epoch    GPU_mem   box_loss   cls_loss   dfl_loss  Instances       Size\n"
          ]
        },
        {
          "output_type": "stream",
          "name": "stderr",
          "text": [
            "       5/20      11.2G      2.578      3.488      2.511         31        640: 100%|██████████| 35/35 [00:26<00:00,  1.32it/s]\n",
            "                 Class     Images  Instances      Box(P          R      mAP50  mAP50-95): 100%|██████████| 3/3 [00:01<00:00,  1.94it/s]"
          ]
        },
        {
          "output_type": "stream",
          "name": "stdout",
          "text": [
            "                   all         79        122     0.0334     0.0164    0.00257   0.000953\n"
          ]
        },
        {
          "output_type": "stream",
          "name": "stderr",
          "text": [
            "\n"
          ]
        },
        {
          "output_type": "stream",
          "name": "stdout",
          "text": [
            "\n",
            "      Epoch    GPU_mem   box_loss   cls_loss   dfl_loss  Instances       Size\n"
          ]
        },
        {
          "output_type": "stream",
          "name": "stderr",
          "text": [
            "       6/20      11.3G       2.54      3.431      2.462         22        640: 100%|██████████| 35/35 [00:26<00:00,  1.30it/s]\n",
            "                 Class     Images  Instances      Box(P          R      mAP50  mAP50-95): 100%|██████████| 3/3 [00:01<00:00,  1.88it/s]"
          ]
        },
        {
          "output_type": "stream",
          "name": "stdout",
          "text": [
            "                   all         79        122     0.0945     0.0246    0.00848    0.00283\n"
          ]
        },
        {
          "output_type": "stream",
          "name": "stderr",
          "text": [
            "\n"
          ]
        },
        {
          "output_type": "stream",
          "name": "stdout",
          "text": [
            "\n",
            "      Epoch    GPU_mem   box_loss   cls_loss   dfl_loss  Instances       Size\n"
          ]
        },
        {
          "output_type": "stream",
          "name": "stderr",
          "text": [
            "       7/20      11.3G      2.444      3.354      2.406         35        640: 100%|██████████| 35/35 [00:26<00:00,  1.30it/s]\n",
            "                 Class     Images  Instances      Box(P          R      mAP50  mAP50-95): 100%|██████████| 3/3 [00:01<00:00,  1.60it/s]"
          ]
        },
        {
          "output_type": "stream",
          "name": "stdout",
          "text": [
            "                   all         79        122      0.173     0.0656     0.0482     0.0143\n"
          ]
        },
        {
          "output_type": "stream",
          "name": "stderr",
          "text": [
            "\n"
          ]
        },
        {
          "output_type": "stream",
          "name": "stdout",
          "text": [
            "\n",
            "      Epoch    GPU_mem   box_loss   cls_loss   dfl_loss  Instances       Size\n"
          ]
        },
        {
          "output_type": "stream",
          "name": "stderr",
          "text": [
            "       8/20      11.3G      2.359      3.282      2.368         33        640: 100%|██████████| 35/35 [00:26<00:00,  1.30it/s]\n",
            "                 Class     Images  Instances      Box(P          R      mAP50  mAP50-95): 100%|██████████| 3/3 [00:01<00:00,  1.86it/s]"
          ]
        },
        {
          "output_type": "stream",
          "name": "stdout",
          "text": [
            "                   all         79        122      0.422      0.115     0.0895     0.0323\n"
          ]
        },
        {
          "output_type": "stream",
          "name": "stderr",
          "text": [
            "\n"
          ]
        },
        {
          "output_type": "stream",
          "name": "stdout",
          "text": [
            "\n",
            "      Epoch    GPU_mem   box_loss   cls_loss   dfl_loss  Instances       Size\n"
          ]
        },
        {
          "output_type": "stream",
          "name": "stderr",
          "text": [
            "       9/20      11.2G      2.338      3.197      2.351         38        640: 100%|██████████| 35/35 [00:26<00:00,  1.30it/s]\n",
            "                 Class     Images  Instances      Box(P          R      mAP50  mAP50-95): 100%|██████████| 3/3 [00:01<00:00,  1.84it/s]"
          ]
        },
        {
          "output_type": "stream",
          "name": "stdout",
          "text": [
            "                   all         79        122     0.0938      0.189      0.065     0.0218\n"
          ]
        },
        {
          "output_type": "stream",
          "name": "stderr",
          "text": [
            "\n"
          ]
        },
        {
          "output_type": "stream",
          "name": "stdout",
          "text": [
            "\n",
            "      Epoch    GPU_mem   box_loss   cls_loss   dfl_loss  Instances       Size\n"
          ]
        },
        {
          "output_type": "stream",
          "name": "stderr",
          "text": [
            "      10/20      11.2G      2.285      3.126      2.288         31        640: 100%|██████████| 35/35 [00:27<00:00,  1.28it/s]\n",
            "                 Class     Images  Instances      Box(P          R      mAP50  mAP50-95): 100%|██████████| 3/3 [00:01<00:00,  1.75it/s]"
          ]
        },
        {
          "output_type": "stream",
          "name": "stdout",
          "text": [
            "                   all         79        122      0.195      0.107     0.0869     0.0327\n"
          ]
        },
        {
          "output_type": "stream",
          "name": "stderr",
          "text": [
            "\n"
          ]
        },
        {
          "output_type": "stream",
          "name": "stdout",
          "text": [
            "Closing dataloader mosaic\n",
            "\u001b[34m\u001b[1malbumentations: \u001b[0mBlur(p=0.01, blur_limit=(3, 7)), MedianBlur(p=0.01, blur_limit=(3, 7)), ToGray(p=0.01), CLAHE(p=0.01, clip_limit=(1, 4.0), tile_grid_size=(8, 8))\n"
          ]
        },
        {
          "output_type": "stream",
          "name": "stderr",
          "text": [
            "os.fork() was called. os.fork() is incompatible with multithreaded code, and JAX is multithreaded, so this will likely lead to a deadlock.\n"
          ]
        },
        {
          "output_type": "stream",
          "name": "stdout",
          "text": [
            "\n",
            "      Epoch    GPU_mem   box_loss   cls_loss   dfl_loss  Instances       Size\n"
          ]
        },
        {
          "output_type": "stream",
          "name": "stderr",
          "text": [
            "      11/20      11.2G      2.379      3.214      2.424         20        640: 100%|██████████| 35/35 [00:29<00:00,  1.18it/s]\n",
            "                 Class     Images  Instances      Box(P          R      mAP50  mAP50-95): 100%|██████████| 3/3 [00:01<00:00,  1.82it/s]"
          ]
        },
        {
          "output_type": "stream",
          "name": "stdout",
          "text": [
            "                   all         79        122      0.182      0.188     0.0978     0.0417\n"
          ]
        },
        {
          "output_type": "stream",
          "name": "stderr",
          "text": [
            "\n"
          ]
        },
        {
          "output_type": "stream",
          "name": "stdout",
          "text": [
            "\n",
            "      Epoch    GPU_mem   box_loss   cls_loss   dfl_loss  Instances       Size\n"
          ]
        },
        {
          "output_type": "stream",
          "name": "stderr",
          "text": [
            "      12/20      11.3G      2.291      3.065      2.379         15        640: 100%|██████████| 35/35 [00:27<00:00,  1.29it/s]\n",
            "                 Class     Images  Instances      Box(P          R      mAP50  mAP50-95): 100%|██████████| 3/3 [00:01<00:00,  1.83it/s]"
          ]
        },
        {
          "output_type": "stream",
          "name": "stdout",
          "text": [
            "                   all         79        122      0.126      0.082      0.053     0.0213\n"
          ]
        },
        {
          "output_type": "stream",
          "name": "stderr",
          "text": [
            "\n"
          ]
        },
        {
          "output_type": "stream",
          "name": "stdout",
          "text": [
            "\n",
            "      Epoch    GPU_mem   box_loss   cls_loss   dfl_loss  Instances       Size\n"
          ]
        },
        {
          "output_type": "stream",
          "name": "stderr",
          "text": [
            "      13/20      11.5G      2.273      2.985      2.363         21        640: 100%|██████████| 35/35 [00:27<00:00,  1.29it/s]\n",
            "                 Class     Images  Instances      Box(P          R      mAP50  mAP50-95): 100%|██████████| 3/3 [00:01<00:00,  1.84it/s]"
          ]
        },
        {
          "output_type": "stream",
          "name": "stdout",
          "text": [
            "                   all         79        122      0.255      0.172      0.162     0.0736\n"
          ]
        },
        {
          "output_type": "stream",
          "name": "stderr",
          "text": [
            "\n"
          ]
        },
        {
          "output_type": "stream",
          "name": "stdout",
          "text": [
            "\n",
            "      Epoch    GPU_mem   box_loss   cls_loss   dfl_loss  Instances       Size\n"
          ]
        },
        {
          "output_type": "stream",
          "name": "stderr",
          "text": [
            "      14/20      11.3G      2.206      2.932      2.328         19        640: 100%|██████████| 35/35 [00:27<00:00,  1.28it/s]\n",
            "                 Class     Images  Instances      Box(P          R      mAP50  mAP50-95): 100%|██████████| 3/3 [00:01<00:00,  1.85it/s]"
          ]
        },
        {
          "output_type": "stream",
          "name": "stdout",
          "text": [
            "                   all         79        122       0.55      0.238      0.267       0.12\n"
          ]
        },
        {
          "output_type": "stream",
          "name": "stderr",
          "text": [
            "\n"
          ]
        },
        {
          "output_type": "stream",
          "name": "stdout",
          "text": [
            "\n",
            "      Epoch    GPU_mem   box_loss   cls_loss   dfl_loss  Instances       Size\n"
          ]
        },
        {
          "output_type": "stream",
          "name": "stderr",
          "text": [
            "      15/20      11.3G      2.169      2.857       2.29         20        640: 100%|██████████| 35/35 [00:27<00:00,  1.29it/s]\n",
            "                 Class     Images  Instances      Box(P          R      mAP50  mAP50-95): 100%|██████████| 3/3 [00:01<00:00,  1.87it/s]"
          ]
        },
        {
          "output_type": "stream",
          "name": "stdout",
          "text": [
            "                   all         79        122      0.603      0.336       0.38      0.161\n"
          ]
        },
        {
          "output_type": "stream",
          "name": "stderr",
          "text": [
            "\n"
          ]
        },
        {
          "output_type": "stream",
          "name": "stdout",
          "text": [
            "\n",
            "      Epoch    GPU_mem   box_loss   cls_loss   dfl_loss  Instances       Size\n"
          ]
        },
        {
          "output_type": "stream",
          "name": "stderr",
          "text": [
            "      16/20      11.2G      2.146      2.747       2.24         27        640: 100%|██████████| 35/35 [00:27<00:00,  1.29it/s]\n",
            "                 Class     Images  Instances      Box(P          R      mAP50  mAP50-95): 100%|██████████| 3/3 [00:01<00:00,  1.89it/s]"
          ]
        },
        {
          "output_type": "stream",
          "name": "stdout",
          "text": [
            "                   all         79        122      0.633       0.32      0.369      0.181\n"
          ]
        },
        {
          "output_type": "stream",
          "name": "stderr",
          "text": [
            "\n"
          ]
        },
        {
          "output_type": "stream",
          "name": "stdout",
          "text": [
            "\n",
            "      Epoch    GPU_mem   box_loss   cls_loss   dfl_loss  Instances       Size\n"
          ]
        },
        {
          "output_type": "stream",
          "name": "stderr",
          "text": [
            "      17/20      11.5G      2.067      2.659      2.188         17        640: 100%|██████████| 35/35 [00:27<00:00,  1.29it/s]\n",
            "                 Class     Images  Instances      Box(P          R      mAP50  mAP50-95): 100%|██████████| 3/3 [00:01<00:00,  1.90it/s]"
          ]
        },
        {
          "output_type": "stream",
          "name": "stdout",
          "text": [
            "                   all         79        122      0.517       0.32      0.352      0.169\n"
          ]
        },
        {
          "output_type": "stream",
          "name": "stderr",
          "text": [
            "\n"
          ]
        },
        {
          "output_type": "stream",
          "name": "stdout",
          "text": [
            "\n",
            "      Epoch    GPU_mem   box_loss   cls_loss   dfl_loss  Instances       Size\n"
          ]
        },
        {
          "output_type": "stream",
          "name": "stderr",
          "text": [
            "      18/20      11.2G      2.059      2.576      2.168         21        640: 100%|██████████| 35/35 [00:26<00:00,  1.30it/s]\n",
            "                 Class     Images  Instances      Box(P          R      mAP50  mAP50-95): 100%|██████████| 3/3 [00:01<00:00,  1.73it/s]"
          ]
        },
        {
          "output_type": "stream",
          "name": "stdout",
          "text": [
            "                   all         79        122      0.534      0.369      0.374      0.178\n"
          ]
        },
        {
          "output_type": "stream",
          "name": "stderr",
          "text": [
            "\n"
          ]
        },
        {
          "output_type": "stream",
          "name": "stdout",
          "text": [
            "\n",
            "      Epoch    GPU_mem   box_loss   cls_loss   dfl_loss  Instances       Size\n"
          ]
        },
        {
          "output_type": "stream",
          "name": "stderr",
          "text": [
            "      19/20      11.3G      2.064      2.532      2.158         24        640: 100%|██████████| 35/35 [00:27<00:00,  1.28it/s]\n",
            "                 Class     Images  Instances      Box(P          R      mAP50  mAP50-95): 100%|██████████| 3/3 [00:01<00:00,  1.87it/s]"
          ]
        },
        {
          "output_type": "stream",
          "name": "stdout",
          "text": [
            "                   all         79        122      0.575      0.361      0.427      0.224\n"
          ]
        },
        {
          "output_type": "stream",
          "name": "stderr",
          "text": [
            "\n"
          ]
        },
        {
          "output_type": "stream",
          "name": "stdout",
          "text": [
            "\n",
            "      Epoch    GPU_mem   box_loss   cls_loss   dfl_loss  Instances       Size\n"
          ]
        },
        {
          "output_type": "stream",
          "name": "stderr",
          "text": [
            "      20/20      11.3G      1.998      2.467      2.118         19        640: 100%|██████████| 35/35 [00:27<00:00,  1.28it/s]\n",
            "                 Class     Images  Instances      Box(P          R      mAP50  mAP50-95): 100%|██████████| 3/3 [00:01<00:00,  1.89it/s]"
          ]
        },
        {
          "output_type": "stream",
          "name": "stdout",
          "text": [
            "                   all         79        122      0.667      0.394      0.453       0.23\n"
          ]
        },
        {
          "output_type": "stream",
          "name": "stderr",
          "text": [
            "\n"
          ]
        },
        {
          "output_type": "stream",
          "name": "stdout",
          "text": [
            "\n",
            "20 epochs completed in 0.194 hours.\n",
            "Optimizer stripped from runs/detect/train2/weights/last.pt, 51.6MB\n",
            "Optimizer stripped from runs/detect/train2/weights/best.pt, 51.6MB\n",
            "\n",
            "Validating runs/detect/train2/weights/best.pt...\n",
            "Ultralytics YOLOv8.2.70 🚀 Python-3.10.12 torch-2.3.1+cu121 CUDA:0 (Tesla T4, 15102MiB)\n",
            "YOLOv9c summary (fused): 384 layers, 25,320,019 parameters, 0 gradients, 102.3 GFLOPs\n"
          ]
        },
        {
          "output_type": "stream",
          "name": "stderr",
          "text": [
            "                 Class     Images  Instances      Box(P          R      mAP50  mAP50-95): 100%|██████████| 3/3 [00:02<00:00,  1.23it/s]\n"
          ]
        },
        {
          "output_type": "stream",
          "name": "stdout",
          "text": [
            "                   all         79        122      0.667      0.394      0.454      0.231\n",
            "Speed: 0.2ms preprocess, 16.9ms inference, 0.0ms loss, 3.2ms postprocess per image\n",
            "Results saved to \u001b[1mruns/detect/train2\u001b[0m\n"
          ]
        }
      ],
      "source": [
        "from ultralytics import YOLO\n",
        "model=YOLO('yolov9c.pt')\n",
        "model.train(data=\"/content/wildfirenew-1/data.yaml\",epochs=20,imgsz=640)\n",
        "model.save()"
      ]
    },
    {
      "cell_type": "code",
      "execution_count": null,
      "metadata": {
        "id": "4jrtGhngKNt-",
        "colab": {
          "base_uri": "https://localhost:8080/"
        },
        "outputId": "8afd8490-4fea-41bc-ff3d-11f7e2beb3fd"
      },
      "outputs": [
        {
          "output_type": "stream",
          "name": "stdout",
          "text": [
            "Drive already mounted at /content/drive; to attempt to forcibly remount, call drive.mount(\"/content/drive\", force_remount=True).\n"
          ]
        }
      ],
      "source": [
        "from google.colab import drive\n",
        "drive.mount('/content/drive')"
      ]
    },
    {
      "cell_type": "code",
      "execution_count": null,
      "metadata": {
        "colab": {
          "base_uri": "https://localhost:8080/"
        },
        "id": "hfYUnAGpF9pv",
        "outputId": "0ac9733b-4a89-47f6-9bde-926fc77ab579"
      },
      "outputs": [
        {
          "output_type": "stream",
          "name": "stdout",
          "text": [
            "\n",
            "\n",
            "WARNING ⚠️ inference results will accumulate in RAM unless `stream=True` is passed, causing potential out-of-memory\n",
            "errors for large sources or long-running streams and videos. See https://docs.ultralytics.com/modes/predict/ for help.\n",
            "\n",
            "Example:\n",
            "    results = model(source=..., stream=True)  # generator of Results objects\n",
            "    for r in results:\n",
            "        boxes = r.boxes  # Boxes object for bbox outputs\n",
            "        masks = r.masks  # Masks object for segment masks outputs\n",
            "        probs = r.probs  # Class probabilities for classification outputs\n",
            "\n",
            "video 1/1 (frame 1/1088) /content/drive/MyDrive/videoplayback.webm: 384x640 (no detections), 332.3ms\n",
            "video 1/1 (frame 2/1088) /content/drive/MyDrive/videoplayback.webm: 384x640 (no detections), 32.8ms\n",
            "video 1/1 (frame 3/1088) /content/drive/MyDrive/videoplayback.webm: 384x640 (no detections), 33.4ms\n",
            "video 1/1 (frame 4/1088) /content/drive/MyDrive/videoplayback.webm: 384x640 (no detections), 31.5ms\n",
            "video 1/1 (frame 5/1088) /content/drive/MyDrive/videoplayback.webm: 384x640 (no detections), 31.5ms\n",
            "video 1/1 (frame 6/1088) /content/drive/MyDrive/videoplayback.webm: 384x640 (no detections), 31.5ms\n",
            "video 1/1 (frame 7/1088) /content/drive/MyDrive/videoplayback.webm: 384x640 (no detections), 33.1ms\n",
            "video 1/1 (frame 8/1088) /content/drive/MyDrive/videoplayback.webm: 384x640 (no detections), 31.5ms\n",
            "video 1/1 (frame 9/1088) /content/drive/MyDrive/videoplayback.webm: 384x640 (no detections), 32.4ms\n",
            "video 1/1 (frame 10/1088) /content/drive/MyDrive/videoplayback.webm: 384x640 (no detections), 31.5ms\n",
            "video 1/1 (frame 11/1088) /content/drive/MyDrive/videoplayback.webm: 384x640 (no detections), 31.5ms\n",
            "video 1/1 (frame 12/1088) /content/drive/MyDrive/videoplayback.webm: 384x640 (no detections), 27.4ms\n",
            "video 1/1 (frame 13/1088) /content/drive/MyDrive/videoplayback.webm: 384x640 (no detections), 27.4ms\n",
            "video 1/1 (frame 14/1088) /content/drive/MyDrive/videoplayback.webm: 384x640 (no detections), 27.4ms\n",
            "video 1/1 (frame 15/1088) /content/drive/MyDrive/videoplayback.webm: 384x640 (no detections), 27.5ms\n",
            "video 1/1 (frame 16/1088) /content/drive/MyDrive/videoplayback.webm: 384x640 (no detections), 31.9ms\n",
            "video 1/1 (frame 17/1088) /content/drive/MyDrive/videoplayback.webm: 384x640 (no detections), 27.0ms\n",
            "video 1/1 (frame 18/1088) /content/drive/MyDrive/videoplayback.webm: 384x640 (no detections), 28.3ms\n",
            "video 1/1 (frame 19/1088) /content/drive/MyDrive/videoplayback.webm: 384x640 (no detections), 27.0ms\n",
            "video 1/1 (frame 20/1088) /content/drive/MyDrive/videoplayback.webm: 384x640 (no detections), 27.0ms\n",
            "video 1/1 (frame 21/1088) /content/drive/MyDrive/videoplayback.webm: 384x640 (no detections), 29.3ms\n",
            "video 1/1 (frame 22/1088) /content/drive/MyDrive/videoplayback.webm: 384x640 (no detections), 27.0ms\n",
            "video 1/1 (frame 23/1088) /content/drive/MyDrive/videoplayback.webm: 384x640 (no detections), 29.0ms\n",
            "video 1/1 (frame 24/1088) /content/drive/MyDrive/videoplayback.webm: 384x640 (no detections), 27.1ms\n",
            "video 1/1 (frame 25/1088) /content/drive/MyDrive/videoplayback.webm: 384x640 (no detections), 27.3ms\n",
            "video 1/1 (frame 26/1088) /content/drive/MyDrive/videoplayback.webm: 384x640 (no detections), 27.1ms\n",
            "video 1/1 (frame 27/1088) /content/drive/MyDrive/videoplayback.webm: 384x640 (no detections), 28.9ms\n",
            "video 1/1 (frame 28/1088) /content/drive/MyDrive/videoplayback.webm: 384x640 (no detections), 27.0ms\n",
            "video 1/1 (frame 29/1088) /content/drive/MyDrive/videoplayback.webm: 384x640 (no detections), 26.9ms\n",
            "video 1/1 (frame 30/1088) /content/drive/MyDrive/videoplayback.webm: 384x640 (no detections), 27.0ms\n",
            "video 1/1 (frame 31/1088) /content/drive/MyDrive/videoplayback.webm: 384x640 (no detections), 26.9ms\n",
            "video 1/1 (frame 32/1088) /content/drive/MyDrive/videoplayback.webm: 384x640 (no detections), 26.9ms\n",
            "video 1/1 (frame 33/1088) /content/drive/MyDrive/videoplayback.webm: 384x640 (no detections), 27.0ms\n",
            "video 1/1 (frame 34/1088) /content/drive/MyDrive/videoplayback.webm: 384x640 (no detections), 27.0ms\n",
            "video 1/1 (frame 35/1088) /content/drive/MyDrive/videoplayback.webm: 384x640 (no detections), 27.1ms\n",
            "video 1/1 (frame 36/1088) /content/drive/MyDrive/videoplayback.webm: 384x640 (no detections), 27.0ms\n",
            "video 1/1 (frame 37/1088) /content/drive/MyDrive/videoplayback.webm: 384x640 (no detections), 26.9ms\n",
            "video 1/1 (frame 38/1088) /content/drive/MyDrive/videoplayback.webm: 384x640 (no detections), 26.9ms\n",
            "video 1/1 (frame 39/1088) /content/drive/MyDrive/videoplayback.webm: 384x640 (no detections), 36.5ms\n",
            "video 1/1 (frame 40/1088) /content/drive/MyDrive/videoplayback.webm: 384x640 (no detections), 28.5ms\n",
            "video 1/1 (frame 41/1088) /content/drive/MyDrive/videoplayback.webm: 384x640 (no detections), 29.3ms\n",
            "video 1/1 (frame 42/1088) /content/drive/MyDrive/videoplayback.webm: 384x640 (no detections), 29.0ms\n",
            "video 1/1 (frame 43/1088) /content/drive/MyDrive/videoplayback.webm: 384x640 (no detections), 29.0ms\n",
            "video 1/1 (frame 44/1088) /content/drive/MyDrive/videoplayback.webm: 384x640 (no detections), 26.9ms\n",
            "video 1/1 (frame 45/1088) /content/drive/MyDrive/videoplayback.webm: 384x640 (no detections), 27.5ms\n",
            "video 1/1 (frame 46/1088) /content/drive/MyDrive/videoplayback.webm: 384x640 (no detections), 27.0ms\n",
            "video 1/1 (frame 47/1088) /content/drive/MyDrive/videoplayback.webm: 384x640 (no detections), 32.0ms\n",
            "video 1/1 (frame 48/1088) /content/drive/MyDrive/videoplayback.webm: 384x640 (no detections), 27.0ms\n",
            "video 1/1 (frame 49/1088) /content/drive/MyDrive/videoplayback.webm: 384x640 (no detections), 26.9ms\n",
            "video 1/1 (frame 50/1088) /content/drive/MyDrive/videoplayback.webm: 384x640 (no detections), 27.0ms\n",
            "video 1/1 (frame 51/1088) /content/drive/MyDrive/videoplayback.webm: 384x640 (no detections), 29.6ms\n",
            "video 1/1 (frame 52/1088) /content/drive/MyDrive/videoplayback.webm: 384x640 (no detections), 29.9ms\n",
            "video 1/1 (frame 53/1088) /content/drive/MyDrive/videoplayback.webm: 384x640 (no detections), 26.5ms\n",
            "video 1/1 (frame 54/1088) /content/drive/MyDrive/videoplayback.webm: 384x640 (no detections), 26.5ms\n",
            "video 1/1 (frame 55/1088) /content/drive/MyDrive/videoplayback.webm: 384x640 (no detections), 26.5ms\n",
            "video 1/1 (frame 56/1088) /content/drive/MyDrive/videoplayback.webm: 384x640 (no detections), 26.5ms\n",
            "video 1/1 (frame 57/1088) /content/drive/MyDrive/videoplayback.webm: 384x640 (no detections), 26.5ms\n",
            "video 1/1 (frame 58/1088) /content/drive/MyDrive/videoplayback.webm: 384x640 (no detections), 26.5ms\n",
            "video 1/1 (frame 59/1088) /content/drive/MyDrive/videoplayback.webm: 384x640 (no detections), 55.4ms\n",
            "video 1/1 (frame 60/1088) /content/drive/MyDrive/videoplayback.webm: 384x640 (no detections), 27.4ms\n",
            "video 1/1 (frame 61/1088) /content/drive/MyDrive/videoplayback.webm: 384x640 (no detections), 26.5ms\n",
            "video 1/1 (frame 62/1088) /content/drive/MyDrive/videoplayback.webm: 384x640 (no detections), 26.5ms\n",
            "video 1/1 (frame 63/1088) /content/drive/MyDrive/videoplayback.webm: 384x640 (no detections), 29.4ms\n",
            "video 1/1 (frame 64/1088) /content/drive/MyDrive/videoplayback.webm: 384x640 (no detections), 27.0ms\n",
            "video 1/1 (frame 65/1088) /content/drive/MyDrive/videoplayback.webm: 384x640 (no detections), 26.5ms\n",
            "video 1/1 (frame 66/1088) /content/drive/MyDrive/videoplayback.webm: 384x640 (no detections), 26.5ms\n",
            "video 1/1 (frame 67/1088) /content/drive/MyDrive/videoplayback.webm: 384x640 (no detections), 26.5ms\n",
            "video 1/1 (frame 68/1088) /content/drive/MyDrive/videoplayback.webm: 384x640 (no detections), 28.3ms\n",
            "video 1/1 (frame 69/1088) /content/drive/MyDrive/videoplayback.webm: 384x640 (no detections), 26.5ms\n",
            "video 1/1 (frame 70/1088) /content/drive/MyDrive/videoplayback.webm: 384x640 (no detections), 26.5ms\n",
            "video 1/1 (frame 71/1088) /content/drive/MyDrive/videoplayback.webm: 384x640 (no detections), 29.6ms\n",
            "video 1/1 (frame 72/1088) /content/drive/MyDrive/videoplayback.webm: 384x640 (no detections), 43.6ms\n",
            "video 1/1 (frame 73/1088) /content/drive/MyDrive/videoplayback.webm: 384x640 (no detections), 29.0ms\n",
            "video 1/1 (frame 74/1088) /content/drive/MyDrive/videoplayback.webm: 384x640 (no detections), 29.6ms\n",
            "video 1/1 (frame 75/1088) /content/drive/MyDrive/videoplayback.webm: 384x640 (no detections), 29.9ms\n",
            "video 1/1 (frame 76/1088) /content/drive/MyDrive/videoplayback.webm: 384x640 (no detections), 33.0ms\n",
            "video 1/1 (frame 77/1088) /content/drive/MyDrive/videoplayback.webm: 384x640 (no detections), 30.2ms\n",
            "video 1/1 (frame 78/1088) /content/drive/MyDrive/videoplayback.webm: 384x640 (no detections), 32.8ms\n",
            "video 1/1 (frame 79/1088) /content/drive/MyDrive/videoplayback.webm: 384x640 (no detections), 26.9ms\n",
            "video 1/1 (frame 80/1088) /content/drive/MyDrive/videoplayback.webm: 384x640 (no detections), 27.0ms\n",
            "video 1/1 (frame 81/1088) /content/drive/MyDrive/videoplayback.webm: 384x640 (no detections), 26.9ms\n",
            "video 1/1 (frame 82/1088) /content/drive/MyDrive/videoplayback.webm: 384x640 (no detections), 29.0ms\n",
            "video 1/1 (frame 83/1088) /content/drive/MyDrive/videoplayback.webm: 384x640 (no detections), 26.9ms\n",
            "video 1/1 (frame 84/1088) /content/drive/MyDrive/videoplayback.webm: 384x640 (no detections), 27.0ms\n",
            "video 1/1 (frame 85/1088) /content/drive/MyDrive/videoplayback.webm: 384x640 (no detections), 26.5ms\n",
            "video 1/1 (frame 86/1088) /content/drive/MyDrive/videoplayback.webm: 384x640 (no detections), 29.4ms\n",
            "video 1/1 (frame 87/1088) /content/drive/MyDrive/videoplayback.webm: 384x640 (no detections), 26.4ms\n",
            "video 1/1 (frame 88/1088) /content/drive/MyDrive/videoplayback.webm: 384x640 (no detections), 26.5ms\n",
            "video 1/1 (frame 89/1088) /content/drive/MyDrive/videoplayback.webm: 384x640 (no detections), 26.5ms\n",
            "video 1/1 (frame 90/1088) /content/drive/MyDrive/videoplayback.webm: 384x640 (no detections), 26.5ms\n",
            "video 1/1 (frame 91/1088) /content/drive/MyDrive/videoplayback.webm: 384x640 (no detections), 26.5ms\n",
            "video 1/1 (frame 92/1088) /content/drive/MyDrive/videoplayback.webm: 384x640 (no detections), 26.5ms\n",
            "video 1/1 (frame 93/1088) /content/drive/MyDrive/videoplayback.webm: 384x640 (no detections), 26.4ms\n",
            "video 1/1 (frame 94/1088) /content/drive/MyDrive/videoplayback.webm: 384x640 (no detections), 26.2ms\n",
            "video 1/1 (frame 95/1088) /content/drive/MyDrive/videoplayback.webm: 384x640 (no detections), 26.0ms\n",
            "video 1/1 (frame 96/1088) /content/drive/MyDrive/videoplayback.webm: 384x640 (no detections), 26.0ms\n",
            "video 1/1 (frame 97/1088) /content/drive/MyDrive/videoplayback.webm: 384x640 (no detections), 26.0ms\n",
            "video 1/1 (frame 98/1088) /content/drive/MyDrive/videoplayback.webm: 384x640 (no detections), 26.1ms\n",
            "video 1/1 (frame 99/1088) /content/drive/MyDrive/videoplayback.webm: 384x640 (no detections), 26.0ms\n",
            "video 1/1 (frame 100/1088) /content/drive/MyDrive/videoplayback.webm: 384x640 (no detections), 26.0ms\n",
            "video 1/1 (frame 101/1088) /content/drive/MyDrive/videoplayback.webm: 384x640 (no detections), 26.0ms\n",
            "video 1/1 (frame 102/1088) /content/drive/MyDrive/videoplayback.webm: 384x640 (no detections), 26.0ms\n",
            "video 1/1 (frame 103/1088) /content/drive/MyDrive/videoplayback.webm: 384x640 (no detections), 25.5ms\n",
            "video 1/1 (frame 104/1088) /content/drive/MyDrive/videoplayback.webm: 384x640 (no detections), 24.1ms\n",
            "video 1/1 (frame 105/1088) /content/drive/MyDrive/videoplayback.webm: 384x640 (no detections), 24.1ms\n",
            "video 1/1 (frame 106/1088) /content/drive/MyDrive/videoplayback.webm: 384x640 (no detections), 24.2ms\n",
            "video 1/1 (frame 107/1088) /content/drive/MyDrive/videoplayback.webm: 384x640 (no detections), 24.8ms\n",
            "video 1/1 (frame 108/1088) /content/drive/MyDrive/videoplayback.webm: 384x640 (no detections), 24.1ms\n",
            "video 1/1 (frame 109/1088) /content/drive/MyDrive/videoplayback.webm: 384x640 (no detections), 24.1ms\n",
            "video 1/1 (frame 110/1088) /content/drive/MyDrive/videoplayback.webm: 384x640 (no detections), 24.4ms\n",
            "video 1/1 (frame 111/1088) /content/drive/MyDrive/videoplayback.webm: 384x640 (no detections), 24.2ms\n",
            "video 1/1 (frame 112/1088) /content/drive/MyDrive/videoplayback.webm: 384x640 (no detections), 24.1ms\n",
            "video 1/1 (frame 113/1088) /content/drive/MyDrive/videoplayback.webm: 384x640 (no detections), 24.1ms\n",
            "video 1/1 (frame 114/1088) /content/drive/MyDrive/videoplayback.webm: 384x640 (no detections), 24.1ms\n",
            "video 1/1 (frame 115/1088) /content/drive/MyDrive/videoplayback.webm: 384x640 (no detections), 24.2ms\n",
            "video 1/1 (frame 116/1088) /content/drive/MyDrive/videoplayback.webm: 384x640 (no detections), 24.1ms\n",
            "video 1/1 (frame 117/1088) /content/drive/MyDrive/videoplayback.webm: 384x640 (no detections), 24.1ms\n",
            "video 1/1 (frame 118/1088) /content/drive/MyDrive/videoplayback.webm: 384x640 (no detections), 26.9ms\n",
            "video 1/1 (frame 119/1088) /content/drive/MyDrive/videoplayback.webm: 384x640 (no detections), 24.2ms\n",
            "video 1/1 (frame 120/1088) /content/drive/MyDrive/videoplayback.webm: 384x640 (no detections), 24.1ms\n",
            "video 1/1 (frame 121/1088) /content/drive/MyDrive/videoplayback.webm: 384x640 (no detections), 24.2ms\n",
            "video 1/1 (frame 122/1088) /content/drive/MyDrive/videoplayback.webm: 384x640 (no detections), 23.9ms\n",
            "video 1/1 (frame 123/1088) /content/drive/MyDrive/videoplayback.webm: 384x640 (no detections), 23.5ms\n",
            "video 1/1 (frame 124/1088) /content/drive/MyDrive/videoplayback.webm: 384x640 (no detections), 23.5ms\n",
            "video 1/1 (frame 125/1088) /content/drive/MyDrive/videoplayback.webm: 384x640 (no detections), 23.4ms\n",
            "video 1/1 (frame 126/1088) /content/drive/MyDrive/videoplayback.webm: 384x640 (no detections), 22.8ms\n",
            "video 1/1 (frame 127/1088) /content/drive/MyDrive/videoplayback.webm: 384x640 (no detections), 22.9ms\n",
            "video 1/1 (frame 128/1088) /content/drive/MyDrive/videoplayback.webm: 384x640 (no detections), 23.1ms\n",
            "video 1/1 (frame 129/1088) /content/drive/MyDrive/videoplayback.webm: 384x640 (no detections), 22.8ms\n",
            "video 1/1 (frame 130/1088) /content/drive/MyDrive/videoplayback.webm: 384x640 (no detections), 22.9ms\n",
            "video 1/1 (frame 131/1088) /content/drive/MyDrive/videoplayback.webm: 384x640 (no detections), 23.3ms\n",
            "video 1/1 (frame 132/1088) /content/drive/MyDrive/videoplayback.webm: 384x640 (no detections), 22.9ms\n",
            "video 1/1 (frame 133/1088) /content/drive/MyDrive/videoplayback.webm: 384x640 (no detections), 22.8ms\n",
            "video 1/1 (frame 134/1088) /content/drive/MyDrive/videoplayback.webm: 384x640 (no detections), 23.3ms\n",
            "video 1/1 (frame 135/1088) /content/drive/MyDrive/videoplayback.webm: 384x640 (no detections), 22.8ms\n",
            "video 1/1 (frame 136/1088) /content/drive/MyDrive/videoplayback.webm: 384x640 (no detections), 22.9ms\n",
            "video 1/1 (frame 137/1088) /content/drive/MyDrive/videoplayback.webm: 384x640 (no detections), 22.8ms\n",
            "video 1/1 (frame 138/1088) /content/drive/MyDrive/videoplayback.webm: 384x640 (no detections), 22.8ms\n",
            "video 1/1 (frame 139/1088) /content/drive/MyDrive/videoplayback.webm: 384x640 (no detections), 22.0ms\n",
            "video 1/1 (frame 140/1088) /content/drive/MyDrive/videoplayback.webm: 384x640 (no detections), 21.8ms\n",
            "video 1/1 (frame 141/1088) /content/drive/MyDrive/videoplayback.webm: 384x640 (no detections), 22.0ms\n",
            "video 1/1 (frame 142/1088) /content/drive/MyDrive/videoplayback.webm: 384x640 (no detections), 21.8ms\n",
            "video 1/1 (frame 143/1088) /content/drive/MyDrive/videoplayback.webm: 384x640 (no detections), 21.9ms\n",
            "video 1/1 (frame 144/1088) /content/drive/MyDrive/videoplayback.webm: 384x640 (no detections), 21.9ms\n",
            "video 1/1 (frame 145/1088) /content/drive/MyDrive/videoplayback.webm: 384x640 (no detections), 21.9ms\n",
            "video 1/1 (frame 146/1088) /content/drive/MyDrive/videoplayback.webm: 384x640 (no detections), 22.5ms\n",
            "video 1/1 (frame 147/1088) /content/drive/MyDrive/videoplayback.webm: 384x640 (no detections), 22.0ms\n",
            "video 1/1 (frame 148/1088) /content/drive/MyDrive/videoplayback.webm: 384x640 (no detections), 21.9ms\n",
            "video 1/1 (frame 149/1088) /content/drive/MyDrive/videoplayback.webm: 384x640 (no detections), 21.9ms\n",
            "video 1/1 (frame 150/1088) /content/drive/MyDrive/videoplayback.webm: 384x640 (no detections), 21.8ms\n",
            "video 1/1 (frame 151/1088) /content/drive/MyDrive/videoplayback.webm: 384x640 (no detections), 26.5ms\n",
            "video 1/1 (frame 152/1088) /content/drive/MyDrive/videoplayback.webm: 384x640 (no detections), 21.8ms\n",
            "video 1/1 (frame 153/1088) /content/drive/MyDrive/videoplayback.webm: 384x640 (no detections), 22.5ms\n",
            "video 1/1 (frame 154/1088) /content/drive/MyDrive/videoplayback.webm: 384x640 (no detections), 21.9ms\n",
            "video 1/1 (frame 155/1088) /content/drive/MyDrive/videoplayback.webm: 384x640 (no detections), 21.9ms\n",
            "video 1/1 (frame 156/1088) /content/drive/MyDrive/videoplayback.webm: 384x640 (no detections), 21.9ms\n",
            "video 1/1 (frame 157/1088) /content/drive/MyDrive/videoplayback.webm: 384x640 (no detections), 22.1ms\n",
            "video 1/1 (frame 158/1088) /content/drive/MyDrive/videoplayback.webm: 384x640 (no detections), 22.0ms\n",
            "video 1/1 (frame 159/1088) /content/drive/MyDrive/videoplayback.webm: 384x640 (no detections), 22.1ms\n",
            "video 1/1 (frame 160/1088) /content/drive/MyDrive/videoplayback.webm: 384x640 (no detections), 21.9ms\n",
            "video 1/1 (frame 161/1088) /content/drive/MyDrive/videoplayback.webm: 384x640 (no detections), 21.9ms\n",
            "video 1/1 (frame 162/1088) /content/drive/MyDrive/videoplayback.webm: 384x640 (no detections), 22.9ms\n",
            "video 1/1 (frame 163/1088) /content/drive/MyDrive/videoplayback.webm: 384x640 (no detections), 22.4ms\n",
            "video 1/1 (frame 164/1088) /content/drive/MyDrive/videoplayback.webm: 384x640 (no detections), 22.4ms\n",
            "video 1/1 (frame 165/1088) /content/drive/MyDrive/videoplayback.webm: 384x640 (no detections), 21.9ms\n",
            "video 1/1 (frame 166/1088) /content/drive/MyDrive/videoplayback.webm: 384x640 (no detections), 21.8ms\n",
            "video 1/1 (frame 167/1088) /content/drive/MyDrive/videoplayback.webm: 384x640 (no detections), 21.9ms\n",
            "video 1/1 (frame 168/1088) /content/drive/MyDrive/videoplayback.webm: 384x640 (no detections), 26.4ms\n",
            "video 1/1 (frame 169/1088) /content/drive/MyDrive/videoplayback.webm: 384x640 (no detections), 22.5ms\n",
            "video 1/1 (frame 170/1088) /content/drive/MyDrive/videoplayback.webm: 384x640 (no detections), 22.5ms\n",
            "video 1/1 (frame 171/1088) /content/drive/MyDrive/videoplayback.webm: 384x640 (no detections), 22.8ms\n",
            "video 1/1 (frame 172/1088) /content/drive/MyDrive/videoplayback.webm: 384x640 (no detections), 22.8ms\n",
            "video 1/1 (frame 173/1088) /content/drive/MyDrive/videoplayback.webm: 384x640 (no detections), 22.8ms\n",
            "video 1/1 (frame 174/1088) /content/drive/MyDrive/videoplayback.webm: 384x640 (no detections), 22.8ms\n",
            "video 1/1 (frame 175/1088) /content/drive/MyDrive/videoplayback.webm: 384x640 (no detections), 22.8ms\n",
            "video 1/1 (frame 176/1088) /content/drive/MyDrive/videoplayback.webm: 384x640 (no detections), 22.8ms\n",
            "video 1/1 (frame 177/1088) /content/drive/MyDrive/videoplayback.webm: 384x640 (no detections), 22.9ms\n",
            "video 1/1 (frame 178/1088) /content/drive/MyDrive/videoplayback.webm: 384x640 (no detections), 25.2ms\n",
            "video 1/1 (frame 179/1088) /content/drive/MyDrive/videoplayback.webm: 384x640 (no detections), 22.2ms\n",
            "video 1/1 (frame 180/1088) /content/drive/MyDrive/videoplayback.webm: 384x640 (no detections), 21.6ms\n",
            "video 1/1 (frame 181/1088) /content/drive/MyDrive/videoplayback.webm: 384x640 (no detections), 22.8ms\n",
            "video 1/1 (frame 182/1088) /content/drive/MyDrive/videoplayback.webm: 384x640 (no detections), 23.3ms\n",
            "video 1/1 (frame 183/1088) /content/drive/MyDrive/videoplayback.webm: 384x640 (no detections), 21.6ms\n",
            "video 1/1 (frame 184/1088) /content/drive/MyDrive/videoplayback.webm: 384x640 (no detections), 21.6ms\n",
            "video 1/1 (frame 185/1088) /content/drive/MyDrive/videoplayback.webm: 384x640 (no detections), 21.9ms\n",
            "video 1/1 (frame 186/1088) /content/drive/MyDrive/videoplayback.webm: 384x640 (no detections), 21.6ms\n",
            "video 1/1 (frame 187/1088) /content/drive/MyDrive/videoplayback.webm: 384x640 (no detections), 21.6ms\n",
            "video 1/1 (frame 188/1088) /content/drive/MyDrive/videoplayback.webm: 384x640 (no detections), 22.0ms\n",
            "video 1/1 (frame 189/1088) /content/drive/MyDrive/videoplayback.webm: 384x640 (no detections), 21.6ms\n",
            "video 1/1 (frame 190/1088) /content/drive/MyDrive/videoplayback.webm: 384x640 (no detections), 21.7ms\n",
            "video 1/1 (frame 191/1088) /content/drive/MyDrive/videoplayback.webm: 384x640 (no detections), 21.7ms\n",
            "video 1/1 (frame 192/1088) /content/drive/MyDrive/videoplayback.webm: 384x640 (no detections), 21.6ms\n",
            "video 1/1 (frame 193/1088) /content/drive/MyDrive/videoplayback.webm: 384x640 (no detections), 21.6ms\n",
            "video 1/1 (frame 194/1088) /content/drive/MyDrive/videoplayback.webm: 384x640 (no detections), 21.6ms\n",
            "video 1/1 (frame 195/1088) /content/drive/MyDrive/videoplayback.webm: 384x640 (no detections), 21.7ms\n",
            "video 1/1 (frame 196/1088) /content/drive/MyDrive/videoplayback.webm: 384x640 (no detections), 22.5ms\n",
            "video 1/1 (frame 197/1088) /content/drive/MyDrive/videoplayback.webm: 384x640 (no detections), 31.8ms\n",
            "video 1/1 (frame 198/1088) /content/drive/MyDrive/videoplayback.webm: 384x640 (no detections), 21.6ms\n",
            "video 1/1 (frame 199/1088) /content/drive/MyDrive/videoplayback.webm: 384x640 (no detections), 21.6ms\n",
            "video 1/1 (frame 200/1088) /content/drive/MyDrive/videoplayback.webm: 384x640 (no detections), 21.6ms\n",
            "video 1/1 (frame 201/1088) /content/drive/MyDrive/videoplayback.webm: 384x640 (no detections), 21.7ms\n",
            "video 1/1 (frame 202/1088) /content/drive/MyDrive/videoplayback.webm: 384x640 (no detections), 21.6ms\n",
            "video 1/1 (frame 203/1088) /content/drive/MyDrive/videoplayback.webm: 384x640 (no detections), 21.6ms\n",
            "video 1/1 (frame 204/1088) /content/drive/MyDrive/videoplayback.webm: 384x640 (no detections), 21.6ms\n",
            "video 1/1 (frame 205/1088) /content/drive/MyDrive/videoplayback.webm: 384x640 (no detections), 21.7ms\n",
            "video 1/1 (frame 206/1088) /content/drive/MyDrive/videoplayback.webm: 384x640 (no detections), 21.7ms\n",
            "video 1/1 (frame 207/1088) /content/drive/MyDrive/videoplayback.webm: 384x640 (no detections), 22.2ms\n",
            "video 1/1 (frame 208/1088) /content/drive/MyDrive/videoplayback.webm: 384x640 (no detections), 22.7ms\n",
            "video 1/1 (frame 209/1088) /content/drive/MyDrive/videoplayback.webm: 384x640 (no detections), 22.8ms\n",
            "video 1/1 (frame 210/1088) /content/drive/MyDrive/videoplayback.webm: 384x640 (no detections), 22.8ms\n",
            "video 1/1 (frame 211/1088) /content/drive/MyDrive/videoplayback.webm: 384x640 (no detections), 26.5ms\n",
            "video 1/1 (frame 212/1088) /content/drive/MyDrive/videoplayback.webm: 384x640 (no detections), 22.5ms\n",
            "video 1/1 (frame 213/1088) /content/drive/MyDrive/videoplayback.webm: 384x640 (no detections), 22.5ms\n",
            "video 1/1 (frame 214/1088) /content/drive/MyDrive/videoplayback.webm: 384x640 (no detections), 22.5ms\n",
            "video 1/1 (frame 215/1088) /content/drive/MyDrive/videoplayback.webm: 384x640 (no detections), 22.5ms\n",
            "video 1/1 (frame 216/1088) /content/drive/MyDrive/videoplayback.webm: 384x640 (no detections), 22.5ms\n",
            "video 1/1 (frame 217/1088) /content/drive/MyDrive/videoplayback.webm: 384x640 (no detections), 22.5ms\n",
            "video 1/1 (frame 218/1088) /content/drive/MyDrive/videoplayback.webm: 384x640 (no detections), 22.6ms\n",
            "video 1/1 (frame 219/1088) /content/drive/MyDrive/videoplayback.webm: 384x640 (no detections), 26.3ms\n",
            "video 1/1 (frame 220/1088) /content/drive/MyDrive/videoplayback.webm: 384x640 (no detections), 22.4ms\n",
            "video 1/1 (frame 221/1088) /content/drive/MyDrive/videoplayback.webm: 384x640 (no detections), 33.2ms\n",
            "video 1/1 (frame 222/1088) /content/drive/MyDrive/videoplayback.webm: 384x640 (no detections), 22.4ms\n",
            "video 1/1 (frame 223/1088) /content/drive/MyDrive/videoplayback.webm: 384x640 (no detections), 22.4ms\n",
            "video 1/1 (frame 224/1088) /content/drive/MyDrive/videoplayback.webm: 384x640 (no detections), 22.4ms\n",
            "video 1/1 (frame 225/1088) /content/drive/MyDrive/videoplayback.webm: 384x640 (no detections), 22.5ms\n",
            "video 1/1 (frame 226/1088) /content/drive/MyDrive/videoplayback.webm: 384x640 (no detections), 22.5ms\n",
            "video 1/1 (frame 227/1088) /content/drive/MyDrive/videoplayback.webm: 384x640 (no detections), 22.5ms\n",
            "video 1/1 (frame 228/1088) /content/drive/MyDrive/videoplayback.webm: 384x640 (no detections), 25.1ms\n",
            "video 1/1 (frame 229/1088) /content/drive/MyDrive/videoplayback.webm: 384x640 (no detections), 22.5ms\n",
            "video 1/1 (frame 230/1088) /content/drive/MyDrive/videoplayback.webm: 384x640 (no detections), 22.5ms\n",
            "video 1/1 (frame 231/1088) /content/drive/MyDrive/videoplayback.webm: 384x640 (no detections), 21.6ms\n",
            "video 1/1 (frame 232/1088) /content/drive/MyDrive/videoplayback.webm: 384x640 (no detections), 21.9ms\n",
            "video 1/1 (frame 233/1088) /content/drive/MyDrive/videoplayback.webm: 384x640 (no detections), 21.6ms\n",
            "video 1/1 (frame 234/1088) /content/drive/MyDrive/videoplayback.webm: 384x640 (no detections), 21.7ms\n",
            "video 1/1 (frame 235/1088) /content/drive/MyDrive/videoplayback.webm: 384x640 (no detections), 21.6ms\n",
            "video 1/1 (frame 236/1088) /content/drive/MyDrive/videoplayback.webm: 384x640 (no detections), 21.6ms\n",
            "video 1/1 (frame 237/1088) /content/drive/MyDrive/videoplayback.webm: 384x640 (no detections), 21.7ms\n",
            "video 1/1 (frame 238/1088) /content/drive/MyDrive/videoplayback.webm: 384x640 (no detections), 30.7ms\n",
            "video 1/1 (frame 239/1088) /content/drive/MyDrive/videoplayback.webm: 384x640 (no detections), 27.7ms\n",
            "video 1/1 (frame 240/1088) /content/drive/MyDrive/videoplayback.webm: 384x640 (no detections), 23.3ms\n",
            "video 1/1 (frame 241/1088) /content/drive/MyDrive/videoplayback.webm: 384x640 (no detections), 27.6ms\n",
            "video 1/1 (frame 242/1088) /content/drive/MyDrive/videoplayback.webm: 384x640 (no detections), 27.6ms\n",
            "video 1/1 (frame 243/1088) /content/drive/MyDrive/videoplayback.webm: 384x640 (no detections), 22.2ms\n",
            "video 1/1 (frame 244/1088) /content/drive/MyDrive/videoplayback.webm: 384x640 (no detections), 22.7ms\n",
            "video 1/1 (frame 245/1088) /content/drive/MyDrive/videoplayback.webm: 384x640 1 0, 22.8ms\n",
            "video 1/1 (frame 246/1088) /content/drive/MyDrive/videoplayback.webm: 384x640 1 0, 21.8ms\n",
            "video 1/1 (frame 247/1088) /content/drive/MyDrive/videoplayback.webm: 384x640 1 0, 21.7ms\n",
            "video 1/1 (frame 248/1088) /content/drive/MyDrive/videoplayback.webm: 384x640 (no detections), 21.6ms\n",
            "video 1/1 (frame 249/1088) /content/drive/MyDrive/videoplayback.webm: 384x640 (no detections), 21.9ms\n",
            "video 1/1 (frame 250/1088) /content/drive/MyDrive/videoplayback.webm: 384x640 (no detections), 28.3ms\n",
            "video 1/1 (frame 251/1088) /content/drive/MyDrive/videoplayback.webm: 384x640 (no detections), 25.0ms\n",
            "video 1/1 (frame 252/1088) /content/drive/MyDrive/videoplayback.webm: 384x640 (no detections), 27.1ms\n",
            "video 1/1 (frame 253/1088) /content/drive/MyDrive/videoplayback.webm: 384x640 (no detections), 29.5ms\n",
            "video 1/1 (frame 254/1088) /content/drive/MyDrive/videoplayback.webm: 384x640 (no detections), 27.0ms\n",
            "video 1/1 (frame 255/1088) /content/drive/MyDrive/videoplayback.webm: 384x640 (no detections), 29.0ms\n",
            "video 1/1 (frame 256/1088) /content/drive/MyDrive/videoplayback.webm: 384x640 (no detections), 26.1ms\n",
            "video 1/1 (frame 257/1088) /content/drive/MyDrive/videoplayback.webm: 384x640 (no detections), 26.0ms\n",
            "video 1/1 (frame 258/1088) /content/drive/MyDrive/videoplayback.webm: 384x640 (no detections), 26.1ms\n",
            "video 1/1 (frame 259/1088) /content/drive/MyDrive/videoplayback.webm: 384x640 (no detections), 27.0ms\n",
            "video 1/1 (frame 260/1088) /content/drive/MyDrive/videoplayback.webm: 384x640 (no detections), 26.1ms\n",
            "video 1/1 (frame 261/1088) /content/drive/MyDrive/videoplayback.webm: 384x640 (no detections), 32.1ms\n",
            "video 1/1 (frame 262/1088) /content/drive/MyDrive/videoplayback.webm: 384x640 (no detections), 26.5ms\n",
            "video 1/1 (frame 263/1088) /content/drive/MyDrive/videoplayback.webm: 384x640 (no detections), 27.4ms\n",
            "video 1/1 (frame 264/1088) /content/drive/MyDrive/videoplayback.webm: 384x640 (no detections), 28.3ms\n",
            "video 1/1 (frame 265/1088) /content/drive/MyDrive/videoplayback.webm: 384x640 (no detections), 28.9ms\n",
            "video 1/1 (frame 266/1088) /content/drive/MyDrive/videoplayback.webm: 384x640 (no detections), 32.4ms\n",
            "video 1/1 (frame 267/1088) /content/drive/MyDrive/videoplayback.webm: 384x640 (no detections), 31.6ms\n",
            "video 1/1 (frame 268/1088) /content/drive/MyDrive/videoplayback.webm: 384x640 (no detections), 32.1ms\n",
            "video 1/1 (frame 269/1088) /content/drive/MyDrive/videoplayback.webm: 384x640 (no detections), 27.0ms\n",
            "video 1/1 (frame 270/1088) /content/drive/MyDrive/videoplayback.webm: 384x640 (no detections), 26.9ms\n",
            "video 1/1 (frame 271/1088) /content/drive/MyDrive/videoplayback.webm: 384x640 (no detections), 27.0ms\n",
            "video 1/1 (frame 272/1088) /content/drive/MyDrive/videoplayback.webm: 384x640 (no detections), 33.7ms\n",
            "video 1/1 (frame 273/1088) /content/drive/MyDrive/videoplayback.webm: 384x640 (no detections), 28.9ms\n",
            "video 1/1 (frame 274/1088) /content/drive/MyDrive/videoplayback.webm: 384x640 (no detections), 27.0ms\n",
            "video 1/1 (frame 275/1088) /content/drive/MyDrive/videoplayback.webm: 384x640 (no detections), 26.5ms\n",
            "video 1/1 (frame 276/1088) /content/drive/MyDrive/videoplayback.webm: 384x640 (no detections), 29.1ms\n",
            "video 1/1 (frame 277/1088) /content/drive/MyDrive/videoplayback.webm: 384x640 (no detections), 26.7ms\n",
            "video 1/1 (frame 278/1088) /content/drive/MyDrive/videoplayback.webm: 384x640 (no detections), 27.3ms\n",
            "video 1/1 (frame 279/1088) /content/drive/MyDrive/videoplayback.webm: 384x640 (no detections), 26.5ms\n",
            "video 1/1 (frame 280/1088) /content/drive/MyDrive/videoplayback.webm: 384x640 (no detections), 26.5ms\n",
            "video 1/1 (frame 281/1088) /content/drive/MyDrive/videoplayback.webm: 384x640 (no detections), 28.3ms\n",
            "video 1/1 (frame 282/1088) /content/drive/MyDrive/videoplayback.webm: 384x640 (no detections), 26.5ms\n",
            "video 1/1 (frame 283/1088) /content/drive/MyDrive/videoplayback.webm: 384x640 (no detections), 26.5ms\n",
            "video 1/1 (frame 284/1088) /content/drive/MyDrive/videoplayback.webm: 384x640 (no detections), 26.4ms\n",
            "video 1/1 (frame 285/1088) /content/drive/MyDrive/videoplayback.webm: 384x640 (no detections), 33.9ms\n",
            "video 1/1 (frame 286/1088) /content/drive/MyDrive/videoplayback.webm: 384x640 (no detections), 26.5ms\n",
            "video 1/1 (frame 287/1088) /content/drive/MyDrive/videoplayback.webm: 384x640 (no detections), 27.0ms\n",
            "video 1/1 (frame 288/1088) /content/drive/MyDrive/videoplayback.webm: 384x640 (no detections), 26.5ms\n",
            "video 1/1 (frame 289/1088) /content/drive/MyDrive/videoplayback.webm: 384x640 (no detections), 36.1ms\n",
            "video 1/1 (frame 290/1088) /content/drive/MyDrive/videoplayback.webm: 384x640 (no detections), 26.6ms\n",
            "video 1/1 (frame 291/1088) /content/drive/MyDrive/videoplayback.webm: 384x640 (no detections), 39.2ms\n",
            "video 1/1 (frame 292/1088) /content/drive/MyDrive/videoplayback.webm: 384x640 (no detections), 26.5ms\n",
            "video 1/1 (frame 293/1088) /content/drive/MyDrive/videoplayback.webm: 384x640 (no detections), 26.5ms\n",
            "video 1/1 (frame 294/1088) /content/drive/MyDrive/videoplayback.webm: 384x640 (no detections), 26.5ms\n",
            "video 1/1 (frame 295/1088) /content/drive/MyDrive/videoplayback.webm: 384x640 (no detections), 27.6ms\n",
            "video 1/1 (frame 296/1088) /content/drive/MyDrive/videoplayback.webm: 384x640 (no detections), 29.6ms\n",
            "video 1/1 (frame 297/1088) /content/drive/MyDrive/videoplayback.webm: 384x640 (no detections), 29.8ms\n",
            "video 1/1 (frame 298/1088) /content/drive/MyDrive/videoplayback.webm: 384x640 (no detections), 30.2ms\n",
            "video 1/1 (frame 299/1088) /content/drive/MyDrive/videoplayback.webm: 384x640 (no detections), 30.2ms\n",
            "video 1/1 (frame 300/1088) /content/drive/MyDrive/videoplayback.webm: 384x640 (no detections), 30.2ms\n",
            "video 1/1 (frame 301/1088) /content/drive/MyDrive/videoplayback.webm: 384x640 (no detections), 34.3ms\n",
            "video 1/1 (frame 302/1088) /content/drive/MyDrive/videoplayback.webm: 384x640 (no detections), 37.8ms\n",
            "video 1/1 (frame 303/1088) /content/drive/MyDrive/videoplayback.webm: 384x640 (no detections), 30.8ms\n",
            "video 1/1 (frame 304/1088) /content/drive/MyDrive/videoplayback.webm: 384x640 (no detections), 31.5ms\n",
            "video 1/1 (frame 305/1088) /content/drive/MyDrive/videoplayback.webm: 384x640 (no detections), 31.5ms\n",
            "video 1/1 (frame 306/1088) /content/drive/MyDrive/videoplayback.webm: 384x640 (no detections), 31.5ms\n",
            "video 1/1 (frame 307/1088) /content/drive/MyDrive/videoplayback.webm: 384x640 (no detections), 31.5ms\n",
            "video 1/1 (frame 308/1088) /content/drive/MyDrive/videoplayback.webm: 384x640 (no detections), 31.3ms\n",
            "video 1/1 (frame 309/1088) /content/drive/MyDrive/videoplayback.webm: 384x640 (no detections), 30.8ms\n",
            "video 1/1 (frame 310/1088) /content/drive/MyDrive/videoplayback.webm: 384x640 (no detections), 32.1ms\n",
            "video 1/1 (frame 311/1088) /content/drive/MyDrive/videoplayback.webm: 384x640 (no detections), 30.9ms\n",
            "video 1/1 (frame 312/1088) /content/drive/MyDrive/videoplayback.webm: 384x640 (no detections), 30.8ms\n",
            "video 1/1 (frame 313/1088) /content/drive/MyDrive/videoplayback.webm: 384x640 (no detections), 30.8ms\n",
            "video 1/1 (frame 314/1088) /content/drive/MyDrive/videoplayback.webm: 384x640 (no detections), 30.9ms\n",
            "video 1/1 (frame 315/1088) /content/drive/MyDrive/videoplayback.webm: 384x640 (no detections), 30.8ms\n",
            "video 1/1 (frame 316/1088) /content/drive/MyDrive/videoplayback.webm: 384x640 (no detections), 30.8ms\n",
            "video 1/1 (frame 317/1088) /content/drive/MyDrive/videoplayback.webm: 384x640 (no detections), 30.7ms\n",
            "video 1/1 (frame 318/1088) /content/drive/MyDrive/videoplayback.webm: 384x640 (no detections), 29.0ms\n",
            "video 1/1 (frame 319/1088) /content/drive/MyDrive/videoplayback.webm: 384x640 (no detections), 29.0ms\n",
            "video 1/1 (frame 320/1088) /content/drive/MyDrive/videoplayback.webm: 384x640 (no detections), 35.3ms\n",
            "video 1/1 (frame 321/1088) /content/drive/MyDrive/videoplayback.webm: 384x640 (no detections), 29.0ms\n",
            "video 1/1 (frame 322/1088) /content/drive/MyDrive/videoplayback.webm: 384x640 (no detections), 38.6ms\n",
            "video 1/1 (frame 323/1088) /content/drive/MyDrive/videoplayback.webm: 384x640 (no detections), 29.0ms\n",
            "video 1/1 (frame 324/1088) /content/drive/MyDrive/videoplayback.webm: 384x640 (no detections), 31.4ms\n",
            "video 1/1 (frame 325/1088) /content/drive/MyDrive/videoplayback.webm: 384x640 (no detections), 29.1ms\n",
            "video 1/1 (frame 326/1088) /content/drive/MyDrive/videoplayback.webm: 384x640 (no detections), 29.1ms\n",
            "video 1/1 (frame 327/1088) /content/drive/MyDrive/videoplayback.webm: 384x640 (no detections), 29.1ms\n",
            "video 1/1 (frame 328/1088) /content/drive/MyDrive/videoplayback.webm: 384x640 (no detections), 29.0ms\n",
            "video 1/1 (frame 329/1088) /content/drive/MyDrive/videoplayback.webm: 384x640 (no detections), 29.1ms\n",
            "video 1/1 (frame 330/1088) /content/drive/MyDrive/videoplayback.webm: 384x640 (no detections), 31.3ms\n",
            "video 1/1 (frame 331/1088) /content/drive/MyDrive/videoplayback.webm: 384x640 (no detections), 29.0ms\n",
            "video 1/1 (frame 332/1088) /content/drive/MyDrive/videoplayback.webm: 384x640 (no detections), 34.5ms\n",
            "video 1/1 (frame 333/1088) /content/drive/MyDrive/videoplayback.webm: 384x640 (no detections), 32.2ms\n",
            "video 1/1 (frame 334/1088) /content/drive/MyDrive/videoplayback.webm: 384x640 (no detections), 32.9ms\n",
            "video 1/1 (frame 335/1088) /content/drive/MyDrive/videoplayback.webm: 384x640 (no detections), 29.0ms\n",
            "video 1/1 (frame 336/1088) /content/drive/MyDrive/videoplayback.webm: 384x640 (no detections), 29.0ms\n",
            "video 1/1 (frame 337/1088) /content/drive/MyDrive/videoplayback.webm: 384x640 (no detections), 29.1ms\n",
            "video 1/1 (frame 338/1088) /content/drive/MyDrive/videoplayback.webm: 384x640 (no detections), 29.6ms\n",
            "video 1/1 (frame 339/1088) /content/drive/MyDrive/videoplayback.webm: 384x640 (no detections), 29.5ms\n",
            "video 1/1 (frame 340/1088) /content/drive/MyDrive/videoplayback.webm: 384x640 (no detections), 28.9ms\n",
            "video 1/1 (frame 341/1088) /content/drive/MyDrive/videoplayback.webm: 384x640 (no detections), 26.9ms\n",
            "video 1/1 (frame 342/1088) /content/drive/MyDrive/videoplayback.webm: 384x640 (no detections), 26.9ms\n",
            "video 1/1 (frame 343/1088) /content/drive/MyDrive/videoplayback.webm: 384x640 (no detections), 26.9ms\n",
            "video 1/1 (frame 344/1088) /content/drive/MyDrive/videoplayback.webm: 384x640 (no detections), 24.5ms\n",
            "video 1/1 (frame 345/1088) /content/drive/MyDrive/videoplayback.webm: 384x640 (no detections), 24.4ms\n",
            "video 1/1 (frame 346/1088) /content/drive/MyDrive/videoplayback.webm: 384x640 (no detections), 28.9ms\n",
            "video 1/1 (frame 347/1088) /content/drive/MyDrive/videoplayback.webm: 384x640 (no detections), 24.5ms\n",
            "video 1/1 (frame 348/1088) /content/drive/MyDrive/videoplayback.webm: 384x640 (no detections), 24.4ms\n",
            "video 1/1 (frame 349/1088) /content/drive/MyDrive/videoplayback.webm: 384x640 (no detections), 24.4ms\n",
            "video 1/1 (frame 350/1088) /content/drive/MyDrive/videoplayback.webm: 384x640 (no detections), 24.5ms\n",
            "video 1/1 (frame 351/1088) /content/drive/MyDrive/videoplayback.webm: 384x640 (no detections), 24.5ms\n",
            "video 1/1 (frame 352/1088) /content/drive/MyDrive/videoplayback.webm: 384x640 (no detections), 24.4ms\n",
            "video 1/1 (frame 353/1088) /content/drive/MyDrive/videoplayback.webm: 384x640 (no detections), 24.4ms\n",
            "video 1/1 (frame 354/1088) /content/drive/MyDrive/videoplayback.webm: 384x640 (no detections), 24.4ms\n",
            "video 1/1 (frame 355/1088) /content/drive/MyDrive/videoplayback.webm: 384x640 (no detections), 24.4ms\n",
            "video 1/1 (frame 356/1088) /content/drive/MyDrive/videoplayback.webm: 384x640 (no detections), 24.5ms\n",
            "video 1/1 (frame 357/1088) /content/drive/MyDrive/videoplayback.webm: 384x640 (no detections), 24.5ms\n",
            "video 1/1 (frame 358/1088) /content/drive/MyDrive/videoplayback.webm: 384x640 (no detections), 24.5ms\n",
            "video 1/1 (frame 359/1088) /content/drive/MyDrive/videoplayback.webm: 384x640 (no detections), 24.5ms\n",
            "video 1/1 (frame 360/1088) /content/drive/MyDrive/videoplayback.webm: 384x640 (no detections), 24.5ms\n",
            "video 1/1 (frame 361/1088) /content/drive/MyDrive/videoplayback.webm: 384x640 (no detections), 24.4ms\n",
            "video 1/1 (frame 362/1088) /content/drive/MyDrive/videoplayback.webm: 384x640 (no detections), 24.6ms\n",
            "video 1/1 (frame 363/1088) /content/drive/MyDrive/videoplayback.webm: 384x640 (no detections), 24.5ms\n",
            "video 1/1 (frame 364/1088) /content/drive/MyDrive/videoplayback.webm: 384x640 (no detections), 24.5ms\n",
            "video 1/1 (frame 365/1088) /content/drive/MyDrive/videoplayback.webm: 384x640 (no detections), 24.4ms\n",
            "video 1/1 (frame 366/1088) /content/drive/MyDrive/videoplayback.webm: 384x640 (no detections), 24.5ms\n",
            "video 1/1 (frame 367/1088) /content/drive/MyDrive/videoplayback.webm: 384x640 (no detections), 24.5ms\n",
            "video 1/1 (frame 368/1088) /content/drive/MyDrive/videoplayback.webm: 384x640 (no detections), 24.5ms\n",
            "video 1/1 (frame 369/1088) /content/drive/MyDrive/videoplayback.webm: 384x640 (no detections), 24.4ms\n",
            "video 1/1 (frame 370/1088) /content/drive/MyDrive/videoplayback.webm: 384x640 (no detections), 24.5ms\n",
            "video 1/1 (frame 371/1088) /content/drive/MyDrive/videoplayback.webm: 384x640 (no detections), 25.5ms\n",
            "video 1/1 (frame 372/1088) /content/drive/MyDrive/videoplayback.webm: 384x640 (no detections), 25.6ms\n",
            "video 1/1 (frame 373/1088) /content/drive/MyDrive/videoplayback.webm: 384x640 (no detections), 25.7ms\n",
            "video 1/1 (frame 374/1088) /content/drive/MyDrive/videoplayback.webm: 384x640 (no detections), 24.7ms\n",
            "video 1/1 (frame 375/1088) /content/drive/MyDrive/videoplayback.webm: 384x640 (no detections), 23.7ms\n",
            "video 1/1 (frame 376/1088) /content/drive/MyDrive/videoplayback.webm: 384x640 (no detections), 23.8ms\n",
            "video 1/1 (frame 377/1088) /content/drive/MyDrive/videoplayback.webm: 384x640 (no detections), 23.8ms\n",
            "video 1/1 (frame 378/1088) /content/drive/MyDrive/videoplayback.webm: 384x640 (no detections), 24.5ms\n",
            "video 1/1 (frame 379/1088) /content/drive/MyDrive/videoplayback.webm: 384x640 (no detections), 23.8ms\n",
            "video 1/1 (frame 380/1088) /content/drive/MyDrive/videoplayback.webm: 384x640 (no detections), 23.7ms\n",
            "video 1/1 (frame 381/1088) /content/drive/MyDrive/videoplayback.webm: 384x640 (no detections), 23.8ms\n",
            "video 1/1 (frame 382/1088) /content/drive/MyDrive/videoplayback.webm: 384x640 (no detections), 23.7ms\n",
            "video 1/1 (frame 383/1088) /content/drive/MyDrive/videoplayback.webm: 384x640 (no detections), 23.7ms\n",
            "video 1/1 (frame 384/1088) /content/drive/MyDrive/videoplayback.webm: 384x640 (no detections), 23.8ms\n",
            "video 1/1 (frame 385/1088) /content/drive/MyDrive/videoplayback.webm: 384x640 (no detections), 23.7ms\n",
            "video 1/1 (frame 386/1088) /content/drive/MyDrive/videoplayback.webm: 384x640 (no detections), 23.8ms\n",
            "video 1/1 (frame 387/1088) /content/drive/MyDrive/videoplayback.webm: 384x640 (no detections), 23.7ms\n",
            "video 1/1 (frame 388/1088) /content/drive/MyDrive/videoplayback.webm: 384x640 (no detections), 23.8ms\n",
            "video 1/1 (frame 389/1088) /content/drive/MyDrive/videoplayback.webm: 384x640 (no detections), 23.7ms\n",
            "video 1/1 (frame 390/1088) /content/drive/MyDrive/videoplayback.webm: 384x640 (no detections), 23.8ms\n",
            "video 1/1 (frame 391/1088) /content/drive/MyDrive/videoplayback.webm: 384x640 (no detections), 23.7ms\n",
            "video 1/1 (frame 392/1088) /content/drive/MyDrive/videoplayback.webm: 384x640 (no detections), 23.8ms\n",
            "video 1/1 (frame 393/1088) /content/drive/MyDrive/videoplayback.webm: 384x640 (no detections), 23.8ms\n",
            "video 1/1 (frame 394/1088) /content/drive/MyDrive/videoplayback.webm: 384x640 (no detections), 29.7ms\n",
            "video 1/1 (frame 395/1088) /content/drive/MyDrive/videoplayback.webm: 384x640 (no detections), 23.7ms\n",
            "video 1/1 (frame 396/1088) /content/drive/MyDrive/videoplayback.webm: 384x640 (no detections), 23.7ms\n",
            "video 1/1 (frame 397/1088) /content/drive/MyDrive/videoplayback.webm: 384x640 (no detections), 23.4ms\n",
            "video 1/1 (frame 398/1088) /content/drive/MyDrive/videoplayback.webm: 384x640 (no detections), 23.4ms\n",
            "video 1/1 (frame 399/1088) /content/drive/MyDrive/videoplayback.webm: 384x640 (no detections), 23.4ms\n",
            "video 1/1 (frame 400/1088) /content/drive/MyDrive/videoplayback.webm: 384x640 (no detections), 23.5ms\n",
            "video 1/1 (frame 401/1088) /content/drive/MyDrive/videoplayback.webm: 384x640 (no detections), 23.4ms\n",
            "video 1/1 (frame 402/1088) /content/drive/MyDrive/videoplayback.webm: 384x640 (no detections), 23.5ms\n",
            "video 1/1 (frame 403/1088) /content/drive/MyDrive/videoplayback.webm: 384x640 (no detections), 23.4ms\n",
            "video 1/1 (frame 404/1088) /content/drive/MyDrive/videoplayback.webm: 384x640 (no detections), 23.5ms\n",
            "video 1/1 (frame 405/1088) /content/drive/MyDrive/videoplayback.webm: 384x640 (no detections), 23.4ms\n",
            "video 1/1 (frame 406/1088) /content/drive/MyDrive/videoplayback.webm: 384x640 (no detections), 23.5ms\n",
            "video 1/1 (frame 407/1088) /content/drive/MyDrive/videoplayback.webm: 384x640 (no detections), 23.4ms\n",
            "video 1/1 (frame 408/1088) /content/drive/MyDrive/videoplayback.webm: 384x640 (no detections), 23.5ms\n",
            "video 1/1 (frame 409/1088) /content/drive/MyDrive/videoplayback.webm: 384x640 (no detections), 23.5ms\n",
            "video 1/1 (frame 410/1088) /content/drive/MyDrive/videoplayback.webm: 384x640 (no detections), 24.4ms\n",
            "video 1/1 (frame 411/1088) /content/drive/MyDrive/videoplayback.webm: 384x640 (no detections), 39.3ms\n",
            "video 1/1 (frame 412/1088) /content/drive/MyDrive/videoplayback.webm: 384x640 (no detections), 23.6ms\n",
            "video 1/1 (frame 413/1088) /content/drive/MyDrive/videoplayback.webm: 384x640 (no detections), 23.5ms\n",
            "video 1/1 (frame 414/1088) /content/drive/MyDrive/videoplayback.webm: 384x640 (no detections), 23.4ms\n",
            "video 1/1 (frame 415/1088) /content/drive/MyDrive/videoplayback.webm: 384x640 (no detections), 23.6ms\n",
            "video 1/1 (frame 416/1088) /content/drive/MyDrive/videoplayback.webm: 384x640 (no detections), 23.1ms\n",
            "video 1/1 (frame 417/1088) /content/drive/MyDrive/videoplayback.webm: 384x640 (no detections), 22.7ms\n",
            "video 1/1 (frame 418/1088) /content/drive/MyDrive/videoplayback.webm: 384x640 (no detections), 22.4ms\n",
            "video 1/1 (frame 419/1088) /content/drive/MyDrive/videoplayback.webm: 384x640 (no detections), 23.5ms\n",
            "video 1/1 (frame 420/1088) /content/drive/MyDrive/videoplayback.webm: 384x640 (no detections), 22.5ms\n",
            "video 1/1 (frame 421/1088) /content/drive/MyDrive/videoplayback.webm: 384x640 (no detections), 22.5ms\n",
            "video 1/1 (frame 422/1088) /content/drive/MyDrive/videoplayback.webm: 384x640 (no detections), 22.4ms\n",
            "video 1/1 (frame 423/1088) /content/drive/MyDrive/videoplayback.webm: 384x640 (no detections), 22.5ms\n",
            "video 1/1 (frame 424/1088) /content/drive/MyDrive/videoplayback.webm: 384x640 (no detections), 22.5ms\n",
            "video 1/1 (frame 425/1088) /content/drive/MyDrive/videoplayback.webm: 384x640 (no detections), 22.5ms\n",
            "video 1/1 (frame 426/1088) /content/drive/MyDrive/videoplayback.webm: 384x640 (no detections), 24.8ms\n",
            "video 1/1 (frame 427/1088) /content/drive/MyDrive/videoplayback.webm: 384x640 (no detections), 24.0ms\n",
            "video 1/1 (frame 428/1088) /content/drive/MyDrive/videoplayback.webm: 384x640 (no detections), 27.3ms\n",
            "video 1/1 (frame 429/1088) /content/drive/MyDrive/videoplayback.webm: 384x640 (no detections), 22.5ms\n",
            "video 1/1 (frame 430/1088) /content/drive/MyDrive/videoplayback.webm: 384x640 (no detections), 22.5ms\n",
            "video 1/1 (frame 431/1088) /content/drive/MyDrive/videoplayback.webm: 384x640 (no detections), 22.7ms\n",
            "video 1/1 (frame 432/1088) /content/drive/MyDrive/videoplayback.webm: 384x640 (no detections), 22.5ms\n",
            "video 1/1 (frame 433/1088) /content/drive/MyDrive/videoplayback.webm: 384x640 (no detections), 22.6ms\n",
            "video 1/1 (frame 434/1088) /content/drive/MyDrive/videoplayback.webm: 384x640 (no detections), 22.5ms\n",
            "video 1/1 (frame 435/1088) /content/drive/MyDrive/videoplayback.webm: 384x640 (no detections), 22.5ms\n",
            "video 1/1 (frame 436/1088) /content/drive/MyDrive/videoplayback.webm: 384x640 (no detections), 23.4ms\n",
            "video 1/1 (frame 437/1088) /content/drive/MyDrive/videoplayback.webm: 384x640 (no detections), 22.4ms\n",
            "video 1/1 (frame 438/1088) /content/drive/MyDrive/videoplayback.webm: 384x640 (no detections), 22.3ms\n",
            "video 1/1 (frame 439/1088) /content/drive/MyDrive/videoplayback.webm: 384x640 (no detections), 21.9ms\n",
            "video 1/1 (frame 440/1088) /content/drive/MyDrive/videoplayback.webm: 384x640 (no detections), 21.9ms\n",
            "video 1/1 (frame 441/1088) /content/drive/MyDrive/videoplayback.webm: 384x640 (no detections), 21.9ms\n",
            "video 1/1 (frame 442/1088) /content/drive/MyDrive/videoplayback.webm: 384x640 (no detections), 22.2ms\n",
            "video 1/1 (frame 443/1088) /content/drive/MyDrive/videoplayback.webm: 384x640 (no detections), 22.0ms\n",
            "video 1/1 (frame 444/1088) /content/drive/MyDrive/videoplayback.webm: 384x640 (no detections), 24.7ms\n",
            "video 1/1 (frame 445/1088) /content/drive/MyDrive/videoplayback.webm: 384x640 (no detections), 21.9ms\n",
            "video 1/1 (frame 446/1088) /content/drive/MyDrive/videoplayback.webm: 384x640 (no detections), 21.9ms\n",
            "video 1/1 (frame 447/1088) /content/drive/MyDrive/videoplayback.webm: 384x640 (no detections), 22.0ms\n",
            "video 1/1 (frame 448/1088) /content/drive/MyDrive/videoplayback.webm: 384x640 (no detections), 21.9ms\n",
            "video 1/1 (frame 449/1088) /content/drive/MyDrive/videoplayback.webm: 384x640 (no detections), 21.8ms\n",
            "video 1/1 (frame 450/1088) /content/drive/MyDrive/videoplayback.webm: 384x640 (no detections), 22.1ms\n",
            "video 1/1 (frame 451/1088) /content/drive/MyDrive/videoplayback.webm: 384x640 (no detections), 21.9ms\n",
            "video 1/1 (frame 452/1088) /content/drive/MyDrive/videoplayback.webm: 384x640 (no detections), 20.7ms\n",
            "video 1/1 (frame 453/1088) /content/drive/MyDrive/videoplayback.webm: 384x640 (no detections), 20.3ms\n",
            "video 1/1 (frame 454/1088) /content/drive/MyDrive/videoplayback.webm: 384x640 (no detections), 21.8ms\n",
            "video 1/1 (frame 455/1088) /content/drive/MyDrive/videoplayback.webm: 384x640 (no detections), 20.0ms\n",
            "video 1/1 (frame 456/1088) /content/drive/MyDrive/videoplayback.webm: 384x640 (no detections), 20.1ms\n",
            "video 1/1 (frame 457/1088) /content/drive/MyDrive/videoplayback.webm: 384x640 (no detections), 20.1ms\n",
            "video 1/1 (frame 458/1088) /content/drive/MyDrive/videoplayback.webm: 384x640 (no detections), 23.7ms\n",
            "video 1/1 (frame 459/1088) /content/drive/MyDrive/videoplayback.webm: 384x640 (no detections), 20.2ms\n",
            "video 1/1 (frame 460/1088) /content/drive/MyDrive/videoplayback.webm: 384x640 (no detections), 22.1ms\n",
            "video 1/1 (frame 461/1088) /content/drive/MyDrive/videoplayback.webm: 384x640 (no detections), 20.2ms\n",
            "video 1/1 (frame 462/1088) /content/drive/MyDrive/videoplayback.webm: 384x640 (no detections), 20.0ms\n",
            "video 1/1 (frame 463/1088) /content/drive/MyDrive/videoplayback.webm: 384x640 (no detections), 20.1ms\n",
            "video 1/1 (frame 464/1088) /content/drive/MyDrive/videoplayback.webm: 384x640 (no detections), 20.0ms\n",
            "video 1/1 (frame 465/1088) /content/drive/MyDrive/videoplayback.webm: 384x640 (no detections), 21.6ms\n",
            "video 1/1 (frame 466/1088) /content/drive/MyDrive/videoplayback.webm: 384x640 (no detections), 20.1ms\n",
            "video 1/1 (frame 467/1088) /content/drive/MyDrive/videoplayback.webm: 384x640 (no detections), 26.4ms\n",
            "video 1/1 (frame 468/1088) /content/drive/MyDrive/videoplayback.webm: 384x640 (no detections), 20.9ms\n",
            "video 1/1 (frame 469/1088) /content/drive/MyDrive/videoplayback.webm: 384x640 (no detections), 20.3ms\n",
            "video 1/1 (frame 470/1088) /content/drive/MyDrive/videoplayback.webm: 384x640 (no detections), 20.0ms\n",
            "video 1/1 (frame 471/1088) /content/drive/MyDrive/videoplayback.webm: 384x640 (no detections), 25.6ms\n",
            "video 1/1 (frame 472/1088) /content/drive/MyDrive/videoplayback.webm: 384x640 (no detections), 20.1ms\n",
            "video 1/1 (frame 473/1088) /content/drive/MyDrive/videoplayback.webm: 384x640 (no detections), 20.1ms\n",
            "video 1/1 (frame 474/1088) /content/drive/MyDrive/videoplayback.webm: 384x640 (no detections), 23.9ms\n",
            "video 1/1 (frame 475/1088) /content/drive/MyDrive/videoplayback.webm: 384x640 (no detections), 20.0ms\n",
            "video 1/1 (frame 476/1088) /content/drive/MyDrive/videoplayback.webm: 384x640 (no detections), 33.3ms\n",
            "video 1/1 (frame 477/1088) /content/drive/MyDrive/videoplayback.webm: 384x640 (no detections), 22.5ms\n",
            "video 1/1 (frame 478/1088) /content/drive/MyDrive/videoplayback.webm: 384x640 (no detections), 20.2ms\n",
            "video 1/1 (frame 479/1088) /content/drive/MyDrive/videoplayback.webm: 384x640 (no detections), 20.0ms\n",
            "video 1/1 (frame 480/1088) /content/drive/MyDrive/videoplayback.webm: 384x640 (no detections), 20.0ms\n",
            "video 1/1 (frame 481/1088) /content/drive/MyDrive/videoplayback.webm: 384x640 (no detections), 21.6ms\n",
            "video 1/1 (frame 482/1088) /content/drive/MyDrive/videoplayback.webm: 384x640 (no detections), 21.6ms\n",
            "video 1/1 (frame 483/1088) /content/drive/MyDrive/videoplayback.webm: 384x640 (no detections), 22.0ms\n",
            "video 1/1 (frame 484/1088) /content/drive/MyDrive/videoplayback.webm: 384x640 (no detections), 21.7ms\n",
            "video 1/1 (frame 485/1088) /content/drive/MyDrive/videoplayback.webm: 384x640 (no detections), 21.6ms\n",
            "video 1/1 (frame 486/1088) /content/drive/MyDrive/videoplayback.webm: 384x640 (no detections), 38.6ms\n",
            "video 1/1 (frame 487/1088) /content/drive/MyDrive/videoplayback.webm: 384x640 (no detections), 21.8ms\n",
            "video 1/1 (frame 488/1088) /content/drive/MyDrive/videoplayback.webm: 384x640 (no detections), 22.6ms\n",
            "video 1/1 (frame 489/1088) /content/drive/MyDrive/videoplayback.webm: 384x640 (no detections), 21.6ms\n",
            "video 1/1 (frame 490/1088) /content/drive/MyDrive/videoplayback.webm: 384x640 (no detections), 26.5ms\n",
            "video 1/1 (frame 491/1088) /content/drive/MyDrive/videoplayback.webm: 384x640 (no detections), 22.5ms\n",
            "video 1/1 (frame 492/1088) /content/drive/MyDrive/videoplayback.webm: 384x640 (no detections), 22.2ms\n",
            "video 1/1 (frame 493/1088) /content/drive/MyDrive/videoplayback.webm: 384x640 (no detections), 21.9ms\n",
            "video 1/1 (frame 494/1088) /content/drive/MyDrive/videoplayback.webm: 384x640 (no detections), 30.2ms\n",
            "video 1/1 (frame 495/1088) /content/drive/MyDrive/videoplayback.webm: 384x640 (no detections), 23.7ms\n",
            "video 1/1 (frame 496/1088) /content/drive/MyDrive/videoplayback.webm: 384x640 (no detections), 26.8ms\n",
            "video 1/1 (frame 497/1088) /content/drive/MyDrive/videoplayback.webm: 384x640 (no detections), 27.3ms\n",
            "video 1/1 (frame 498/1088) /content/drive/MyDrive/videoplayback.webm: 384x640 (no detections), 28.8ms\n",
            "video 1/1 (frame 499/1088) /content/drive/MyDrive/videoplayback.webm: 384x640 (no detections), 27.0ms\n",
            "video 1/1 (frame 500/1088) /content/drive/MyDrive/videoplayback.webm: 384x640 (no detections), 23.2ms\n",
            "video 1/1 (frame 501/1088) /content/drive/MyDrive/videoplayback.webm: 384x640 (no detections), 23.7ms\n",
            "video 1/1 (frame 502/1088) /content/drive/MyDrive/videoplayback.webm: 384x640 (no detections), 23.8ms\n",
            "video 1/1 (frame 503/1088) /content/drive/MyDrive/videoplayback.webm: 384x640 (no detections), 24.1ms\n",
            "video 1/1 (frame 504/1088) /content/drive/MyDrive/videoplayback.webm: 384x640 (no detections), 24.8ms\n",
            "video 1/1 (frame 505/1088) /content/drive/MyDrive/videoplayback.webm: 384x640 (no detections), 24.5ms\n",
            "video 1/1 (frame 506/1088) /content/drive/MyDrive/videoplayback.webm: 384x640 (no detections), 27.0ms\n",
            "video 1/1 (frame 507/1088) /content/drive/MyDrive/videoplayback.webm: 384x640 (no detections), 24.8ms\n",
            "video 1/1 (frame 508/1088) /content/drive/MyDrive/videoplayback.webm: 384x640 (no detections), 27.3ms\n",
            "video 1/1 (frame 509/1088) /content/drive/MyDrive/videoplayback.webm: 384x640 (no detections), 27.1ms\n",
            "video 1/1 (frame 510/1088) /content/drive/MyDrive/videoplayback.webm: 384x640 (no detections), 32.6ms\n",
            "video 1/1 (frame 511/1088) /content/drive/MyDrive/videoplayback.webm: 384x640 (no detections), 26.1ms\n",
            "video 1/1 (frame 512/1088) /content/drive/MyDrive/videoplayback.webm: 384x640 (no detections), 26.4ms\n",
            "video 1/1 (frame 513/1088) /content/drive/MyDrive/videoplayback.webm: 384x640 (no detections), 26.9ms\n",
            "video 1/1 (frame 514/1088) /content/drive/MyDrive/videoplayback.webm: 384x640 (no detections), 26.8ms\n",
            "video 1/1 (frame 515/1088) /content/drive/MyDrive/videoplayback.webm: 384x640 (no detections), 27.0ms\n",
            "video 1/1 (frame 516/1088) /content/drive/MyDrive/videoplayback.webm: 384x640 (no detections), 33.1ms\n",
            "video 1/1 (frame 517/1088) /content/drive/MyDrive/videoplayback.webm: 384x640 (no detections), 27.5ms\n",
            "video 1/1 (frame 518/1088) /content/drive/MyDrive/videoplayback.webm: 384x640 (no detections), 27.5ms\n",
            "video 1/1 (frame 519/1088) /content/drive/MyDrive/videoplayback.webm: 384x640 (no detections), 28.0ms\n",
            "video 1/1 (frame 520/1088) /content/drive/MyDrive/videoplayback.webm: 384x640 (no detections), 27.9ms\n",
            "video 1/1 (frame 521/1088) /content/drive/MyDrive/videoplayback.webm: 384x640 (no detections), 28.4ms\n",
            "video 1/1 (frame 522/1088) /content/drive/MyDrive/videoplayback.webm: 384x640 (no detections), 28.5ms\n",
            "video 1/1 (frame 523/1088) /content/drive/MyDrive/videoplayback.webm: 384x640 (no detections), 29.0ms\n",
            "video 1/1 (frame 524/1088) /content/drive/MyDrive/videoplayback.webm: 384x640 (no detections), 29.0ms\n",
            "video 1/1 (frame 525/1088) /content/drive/MyDrive/videoplayback.webm: 384x640 (no detections), 37.2ms\n",
            "video 1/1 (frame 526/1088) /content/drive/MyDrive/videoplayback.webm: 384x640 (no detections), 29.6ms\n",
            "video 1/1 (frame 527/1088) /content/drive/MyDrive/videoplayback.webm: 384x640 (no detections), 29.8ms\n",
            "video 1/1 (frame 528/1088) /content/drive/MyDrive/videoplayback.webm: 384x640 (no detections), 34.3ms\n",
            "video 1/1 (frame 529/1088) /content/drive/MyDrive/videoplayback.webm: 384x640 (no detections), 35.8ms\n",
            "video 1/1 (frame 530/1088) /content/drive/MyDrive/videoplayback.webm: 384x640 (no detections), 30.2ms\n",
            "video 1/1 (frame 531/1088) /content/drive/MyDrive/videoplayback.webm: 384x640 (no detections), 30.2ms\n",
            "video 1/1 (frame 532/1088) /content/drive/MyDrive/videoplayback.webm: 384x640 (no detections), 33.2ms\n",
            "video 1/1 (frame 533/1088) /content/drive/MyDrive/videoplayback.webm: 384x640 (no detections), 30.8ms\n",
            "video 1/1 (frame 534/1088) /content/drive/MyDrive/videoplayback.webm: 384x640 (no detections), 31.5ms\n",
            "video 1/1 (frame 535/1088) /content/drive/MyDrive/videoplayback.webm: 384x640 (no detections), 31.5ms\n",
            "video 1/1 (frame 536/1088) /content/drive/MyDrive/videoplayback.webm: 384x640 (no detections), 31.5ms\n",
            "video 1/1 (frame 537/1088) /content/drive/MyDrive/videoplayback.webm: 384x640 (no detections), 31.5ms\n",
            "video 1/1 (frame 538/1088) /content/drive/MyDrive/videoplayback.webm: 384x640 (no detections), 31.5ms\n",
            "video 1/1 (frame 539/1088) /content/drive/MyDrive/videoplayback.webm: 384x640 (no detections), 31.5ms\n",
            "video 1/1 (frame 540/1088) /content/drive/MyDrive/videoplayback.webm: 384x640 (no detections), 32.2ms\n",
            "video 1/1 (frame 541/1088) /content/drive/MyDrive/videoplayback.webm: 384x640 (no detections), 31.5ms\n",
            "video 1/1 (frame 542/1088) /content/drive/MyDrive/videoplayback.webm: 384x640 (no detections), 37.7ms\n",
            "video 1/1 (frame 543/1088) /content/drive/MyDrive/videoplayback.webm: 384x640 (no detections), 31.5ms\n",
            "video 1/1 (frame 544/1088) /content/drive/MyDrive/videoplayback.webm: 384x640 (no detections), 31.5ms\n",
            "video 1/1 (frame 545/1088) /content/drive/MyDrive/videoplayback.webm: 384x640 (no detections), 31.5ms\n",
            "video 1/1 (frame 546/1088) /content/drive/MyDrive/videoplayback.webm: 384x640 (no detections), 31.5ms\n",
            "video 1/1 (frame 547/1088) /content/drive/MyDrive/videoplayback.webm: 384x640 (no detections), 31.5ms\n",
            "video 1/1 (frame 548/1088) /content/drive/MyDrive/videoplayback.webm: 384x640 (no detections), 31.5ms\n",
            "video 1/1 (frame 549/1088) /content/drive/MyDrive/videoplayback.webm: 384x640 (no detections), 31.5ms\n",
            "video 1/1 (frame 550/1088) /content/drive/MyDrive/videoplayback.webm: 384x640 (no detections), 31.5ms\n",
            "video 1/1 (frame 551/1088) /content/drive/MyDrive/videoplayback.webm: 384x640 (no detections), 32.1ms\n",
            "video 1/1 (frame 552/1088) /content/drive/MyDrive/videoplayback.webm: 384x640 (no detections), 32.0ms\n",
            "video 1/1 (frame 553/1088) /content/drive/MyDrive/videoplayback.webm: 384x640 (no detections), 29.0ms\n",
            "video 1/1 (frame 554/1088) /content/drive/MyDrive/videoplayback.webm: 384x640 (no detections), 29.0ms\n",
            "video 1/1 (frame 555/1088) /content/drive/MyDrive/videoplayback.webm: 384x640 (no detections), 42.2ms\n",
            "video 1/1 (frame 556/1088) /content/drive/MyDrive/videoplayback.webm: 384x640 (no detections), 40.9ms\n",
            "video 1/1 (frame 557/1088) /content/drive/MyDrive/videoplayback.webm: 384x640 (no detections), 33.3ms\n",
            "video 1/1 (frame 558/1088) /content/drive/MyDrive/videoplayback.webm: 384x640 (no detections), 29.0ms\n",
            "video 1/1 (frame 559/1088) /content/drive/MyDrive/videoplayback.webm: 384x640 (no detections), 34.5ms\n",
            "video 1/1 (frame 560/1088) /content/drive/MyDrive/videoplayback.webm: 384x640 (no detections), 31.5ms\n",
            "video 1/1 (frame 561/1088) /content/drive/MyDrive/videoplayback.webm: 384x640 (no detections), 29.0ms\n",
            "video 1/1 (frame 562/1088) /content/drive/MyDrive/videoplayback.webm: 384x640 (no detections), 30.2ms\n",
            "video 1/1 (frame 563/1088) /content/drive/MyDrive/videoplayback.webm: 384x640 (no detections), 29.1ms\n",
            "video 1/1 (frame 564/1088) /content/drive/MyDrive/videoplayback.webm: 384x640 (no detections), 29.0ms\n",
            "video 1/1 (frame 565/1088) /content/drive/MyDrive/videoplayback.webm: 384x640 (no detections), 29.4ms\n",
            "video 1/1 (frame 566/1088) /content/drive/MyDrive/videoplayback.webm: 384x640 (no detections), 32.9ms\n",
            "video 1/1 (frame 567/1088) /content/drive/MyDrive/videoplayback.webm: 384x640 (no detections), 29.0ms\n",
            "video 1/1 (frame 568/1088) /content/drive/MyDrive/videoplayback.webm: 384x640 (no detections), 29.0ms\n",
            "video 1/1 (frame 569/1088) /content/drive/MyDrive/videoplayback.webm: 384x640 (no detections), 29.0ms\n",
            "video 1/1 (frame 570/1088) /content/drive/MyDrive/videoplayback.webm: 384x640 (no detections), 29.0ms\n",
            "video 1/1 (frame 571/1088) /content/drive/MyDrive/videoplayback.webm: 384x640 (no detections), 29.3ms\n",
            "video 1/1 (frame 572/1088) /content/drive/MyDrive/videoplayback.webm: 384x640 (no detections), 30.2ms\n",
            "video 1/1 (frame 573/1088) /content/drive/MyDrive/videoplayback.webm: 384x640 (no detections), 33.8ms\n",
            "video 1/1 (frame 574/1088) /content/drive/MyDrive/videoplayback.webm: 384x640 (no detections), 30.8ms\n",
            "video 1/1 (frame 575/1088) /content/drive/MyDrive/videoplayback.webm: 384x640 (no detections), 33.5ms\n",
            "video 1/1 (frame 576/1088) /content/drive/MyDrive/videoplayback.webm: 384x640 (no detections), 30.8ms\n",
            "video 1/1 (frame 577/1088) /content/drive/MyDrive/videoplayback.webm: 384x640 (no detections), 30.9ms\n",
            "video 1/1 (frame 578/1088) /content/drive/MyDrive/videoplayback.webm: 384x640 (no detections), 31.5ms\n",
            "video 1/1 (frame 579/1088) /content/drive/MyDrive/videoplayback.webm: 384x640 (no detections), 31.5ms\n",
            "video 1/1 (frame 580/1088) /content/drive/MyDrive/videoplayback.webm: 384x640 (no detections), 31.5ms\n",
            "video 1/1 (frame 581/1088) /content/drive/MyDrive/videoplayback.webm: 384x640 (no detections), 27.9ms\n",
            "video 1/1 (frame 582/1088) /content/drive/MyDrive/videoplayback.webm: 384x640 (no detections), 27.9ms\n",
            "video 1/1 (frame 583/1088) /content/drive/MyDrive/videoplayback.webm: 384x640 (no detections), 27.9ms\n",
            "video 1/1 (frame 584/1088) /content/drive/MyDrive/videoplayback.webm: 384x640 (no detections), 26.5ms\n",
            "video 1/1 (frame 585/1088) /content/drive/MyDrive/videoplayback.webm: 384x640 (no detections), 26.5ms\n",
            "video 1/1 (frame 586/1088) /content/drive/MyDrive/videoplayback.webm: 384x640 (no detections), 26.5ms\n",
            "video 1/1 (frame 587/1088) /content/drive/MyDrive/videoplayback.webm: 384x640 1 0, 26.8ms\n",
            "video 1/1 (frame 588/1088) /content/drive/MyDrive/videoplayback.webm: 384x640 2 0s, 26.5ms\n",
            "video 1/1 (frame 589/1088) /content/drive/MyDrive/videoplayback.webm: 384x640 2 0s, 26.5ms\n",
            "video 1/1 (frame 590/1088) /content/drive/MyDrive/videoplayback.webm: 384x640 1 0, 26.5ms\n",
            "video 1/1 (frame 591/1088) /content/drive/MyDrive/videoplayback.webm: 384x640 (no detections), 26.5ms\n",
            "video 1/1 (frame 592/1088) /content/drive/MyDrive/videoplayback.webm: 384x640 (no detections), 26.6ms\n",
            "video 1/1 (frame 593/1088) /content/drive/MyDrive/videoplayback.webm: 384x640 (no detections), 26.5ms\n",
            "video 1/1 (frame 594/1088) /content/drive/MyDrive/videoplayback.webm: 384x640 (no detections), 26.5ms\n",
            "video 1/1 (frame 595/1088) /content/drive/MyDrive/videoplayback.webm: 384x640 (no detections), 26.5ms\n",
            "video 1/1 (frame 596/1088) /content/drive/MyDrive/videoplayback.webm: 384x640 (no detections), 29.9ms\n",
            "video 1/1 (frame 597/1088) /content/drive/MyDrive/videoplayback.webm: 384x640 (no detections), 26.5ms\n",
            "video 1/1 (frame 598/1088) /content/drive/MyDrive/videoplayback.webm: 384x640 (no detections), 26.5ms\n",
            "video 1/1 (frame 599/1088) /content/drive/MyDrive/videoplayback.webm: 384x640 (no detections), 26.4ms\n",
            "video 1/1 (frame 600/1088) /content/drive/MyDrive/videoplayback.webm: 384x640 (no detections), 26.6ms\n",
            "video 1/1 (frame 601/1088) /content/drive/MyDrive/videoplayback.webm: 384x640 (no detections), 26.5ms\n",
            "video 1/1 (frame 602/1088) /content/drive/MyDrive/videoplayback.webm: 384x640 (no detections), 26.5ms\n",
            "video 1/1 (frame 603/1088) /content/drive/MyDrive/videoplayback.webm: 384x640 (no detections), 26.5ms\n",
            "video 1/1 (frame 604/1088) /content/drive/MyDrive/videoplayback.webm: 384x640 (no detections), 26.5ms\n",
            "video 1/1 (frame 605/1088) /content/drive/MyDrive/videoplayback.webm: 384x640 (no detections), 26.5ms\n",
            "video 1/1 (frame 606/1088) /content/drive/MyDrive/videoplayback.webm: 384x640 (no detections), 26.5ms\n",
            "video 1/1 (frame 607/1088) /content/drive/MyDrive/videoplayback.webm: 384x640 (no detections), 26.5ms\n",
            "video 1/1 (frame 608/1088) /content/drive/MyDrive/videoplayback.webm: 384x640 (no detections), 26.8ms\n",
            "video 1/1 (frame 609/1088) /content/drive/MyDrive/videoplayback.webm: 384x640 (no detections), 26.4ms\n",
            "video 1/1 (frame 610/1088) /content/drive/MyDrive/videoplayback.webm: 384x640 (no detections), 26.0ms\n",
            "video 1/1 (frame 611/1088) /content/drive/MyDrive/videoplayback.webm: 384x640 (no detections), 26.1ms\n",
            "video 1/1 (frame 612/1088) /content/drive/MyDrive/videoplayback.webm: 384x640 (no detections), 26.0ms\n",
            "video 1/1 (frame 613/1088) /content/drive/MyDrive/videoplayback.webm: 384x640 (no detections), 26.0ms\n",
            "video 1/1 (frame 614/1088) /content/drive/MyDrive/videoplayback.webm: 384x640 (no detections), 26.0ms\n",
            "video 1/1 (frame 615/1088) /content/drive/MyDrive/videoplayback.webm: 384x640 (no detections), 26.0ms\n",
            "video 1/1 (frame 616/1088) /content/drive/MyDrive/videoplayback.webm: 384x640 (no detections), 26.0ms\n",
            "video 1/1 (frame 617/1088) /content/drive/MyDrive/videoplayback.webm: 384x640 (no detections), 26.1ms\n",
            "video 1/1 (frame 618/1088) /content/drive/MyDrive/videoplayback.webm: 384x640 (no detections), 26.6ms\n",
            "video 1/1 (frame 619/1088) /content/drive/MyDrive/videoplayback.webm: 384x640 (no detections), 26.1ms\n",
            "video 1/1 (frame 620/1088) /content/drive/MyDrive/videoplayback.webm: 384x640 (no detections), 28.7ms\n",
            "video 1/1 (frame 621/1088) /content/drive/MyDrive/videoplayback.webm: 384x640 (no detections), 26.0ms\n",
            "video 1/1 (frame 622/1088) /content/drive/MyDrive/videoplayback.webm: 384x640 (no detections), 26.0ms\n",
            "video 1/1 (frame 623/1088) /content/drive/MyDrive/videoplayback.webm: 384x640 (no detections), 26.0ms\n",
            "video 1/1 (frame 624/1088) /content/drive/MyDrive/videoplayback.webm: 384x640 (no detections), 26.0ms\n",
            "video 1/1 (frame 625/1088) /content/drive/MyDrive/videoplayback.webm: 384x640 (no detections), 26.1ms\n",
            "video 1/1 (frame 626/1088) /content/drive/MyDrive/videoplayback.webm: 384x640 (no detections), 26.0ms\n",
            "video 1/1 (frame 627/1088) /content/drive/MyDrive/videoplayback.webm: 384x640 (no detections), 26.1ms\n",
            "video 1/1 (frame 628/1088) /content/drive/MyDrive/videoplayback.webm: 384x640 (no detections), 26.0ms\n",
            "video 1/1 (frame 629/1088) /content/drive/MyDrive/videoplayback.webm: 384x640 (no detections), 26.1ms\n",
            "video 1/1 (frame 630/1088) /content/drive/MyDrive/videoplayback.webm: 384x640 (no detections), 26.6ms\n",
            "video 1/1 (frame 631/1088) /content/drive/MyDrive/videoplayback.webm: 384x640 (no detections), 32.2ms\n",
            "video 1/1 (frame 632/1088) /content/drive/MyDrive/videoplayback.webm: 384x640 (no detections), 26.0ms\n",
            "video 1/1 (frame 633/1088) /content/drive/MyDrive/videoplayback.webm: 384x640 (no detections), 26.1ms\n",
            "video 1/1 (frame 634/1088) /content/drive/MyDrive/videoplayback.webm: 384x640 (no detections), 26.1ms\n",
            "video 1/1 (frame 635/1088) /content/drive/MyDrive/videoplayback.webm: 384x640 (no detections), 49.0ms\n",
            "video 1/1 (frame 636/1088) /content/drive/MyDrive/videoplayback.webm: 384x640 (no detections), 60.2ms\n",
            "video 1/1 (frame 637/1088) /content/drive/MyDrive/videoplayback.webm: 384x640 (no detections), 28.0ms\n",
            "video 1/1 (frame 638/1088) /content/drive/MyDrive/videoplayback.webm: 384x640 (no detections), 28.4ms\n",
            "video 1/1 (frame 639/1088) /content/drive/MyDrive/videoplayback.webm: 384x640 (no detections), 28.4ms\n",
            "video 1/1 (frame 640/1088) /content/drive/MyDrive/videoplayback.webm: 384x640 (no detections), 30.1ms\n",
            "video 1/1 (frame 641/1088) /content/drive/MyDrive/videoplayback.webm: 384x640 (no detections), 26.1ms\n",
            "video 1/1 (frame 642/1088) /content/drive/MyDrive/videoplayback.webm: 384x640 (no detections), 26.0ms\n",
            "video 1/1 (frame 643/1088) /content/drive/MyDrive/videoplayback.webm: 384x640 (no detections), 27.7ms\n",
            "video 1/1 (frame 644/1088) /content/drive/MyDrive/videoplayback.webm: 384x640 (no detections), 25.3ms\n",
            "video 1/1 (frame 645/1088) /content/drive/MyDrive/videoplayback.webm: 384x640 (no detections), 39.1ms\n",
            "video 1/1 (frame 646/1088) /content/drive/MyDrive/videoplayback.webm: 384x640 (no detections), 59.0ms\n",
            "video 1/1 (frame 647/1088) /content/drive/MyDrive/videoplayback.webm: 384x640 (no detections), 30.7ms\n",
            "video 1/1 (frame 648/1088) /content/drive/MyDrive/videoplayback.webm: 384x640 (no detections), 25.2ms\n",
            "video 1/1 (frame 649/1088) /content/drive/MyDrive/videoplayback.webm: 384x640 (no detections), 25.2ms\n",
            "video 1/1 (frame 650/1088) /content/drive/MyDrive/videoplayback.webm: 384x640 (no detections), 27.9ms\n",
            "video 1/1 (frame 651/1088) /content/drive/MyDrive/videoplayback.webm: 384x640 (no detections), 25.2ms\n",
            "video 1/1 (frame 652/1088) /content/drive/MyDrive/videoplayback.webm: 384x640 (no detections), 25.3ms\n",
            "video 1/1 (frame 653/1088) /content/drive/MyDrive/videoplayback.webm: 384x640 (no detections), 25.2ms\n",
            "video 1/1 (frame 654/1088) /content/drive/MyDrive/videoplayback.webm: 384x640 (no detections), 25.5ms\n",
            "video 1/1 (frame 655/1088) /content/drive/MyDrive/videoplayback.webm: 384x640 (no detections), 29.8ms\n",
            "video 1/1 (frame 656/1088) /content/drive/MyDrive/videoplayback.webm: 384x640 (no detections), 115.6ms\n",
            "video 1/1 (frame 657/1088) /content/drive/MyDrive/videoplayback.webm: 384x640 (no detections), 25.2ms\n",
            "video 1/1 (frame 658/1088) /content/drive/MyDrive/videoplayback.webm: 384x640 (no detections), 24.8ms\n",
            "video 1/1 (frame 659/1088) /content/drive/MyDrive/videoplayback.webm: 384x640 (no detections), 24.8ms\n",
            "video 1/1 (frame 660/1088) /content/drive/MyDrive/videoplayback.webm: 384x640 (no detections), 24.8ms\n",
            "video 1/1 (frame 661/1088) /content/drive/MyDrive/videoplayback.webm: 384x640 (no detections), 24.8ms\n",
            "video 1/1 (frame 662/1088) /content/drive/MyDrive/videoplayback.webm: 384x640 (no detections), 24.9ms\n",
            "video 1/1 (frame 663/1088) /content/drive/MyDrive/videoplayback.webm: 384x640 (no detections), 24.8ms\n",
            "video 1/1 (frame 664/1088) /content/drive/MyDrive/videoplayback.webm: 384x640 (no detections), 24.9ms\n",
            "video 1/1 (frame 665/1088) /content/drive/MyDrive/videoplayback.webm: 384x640 (no detections), 24.9ms\n",
            "video 1/1 (frame 666/1088) /content/drive/MyDrive/videoplayback.webm: 384x640 (no detections), 26.3ms\n",
            "video 1/1 (frame 667/1088) /content/drive/MyDrive/videoplayback.webm: 384x640 (no detections), 24.9ms\n",
            "video 1/1 (frame 668/1088) /content/drive/MyDrive/videoplayback.webm: 384x640 (no detections), 25.3ms\n",
            "video 1/1 (frame 669/1088) /content/drive/MyDrive/videoplayback.webm: 384x640 (no detections), 24.8ms\n",
            "video 1/1 (frame 670/1088) /content/drive/MyDrive/videoplayback.webm: 384x640 (no detections), 25.4ms\n",
            "video 1/1 (frame 671/1088) /content/drive/MyDrive/videoplayback.webm: 384x640 (no detections), 24.8ms\n",
            "video 1/1 (frame 672/1088) /content/drive/MyDrive/videoplayback.webm: 384x640 (no detections), 24.8ms\n",
            "video 1/1 (frame 673/1088) /content/drive/MyDrive/videoplayback.webm: 384x640 (no detections), 24.9ms\n",
            "video 1/1 (frame 674/1088) /content/drive/MyDrive/videoplayback.webm: 384x640 (no detections), 24.8ms\n",
            "video 1/1 (frame 675/1088) /content/drive/MyDrive/videoplayback.webm: 384x640 (no detections), 24.8ms\n",
            "video 1/1 (frame 676/1088) /content/drive/MyDrive/videoplayback.webm: 384x640 (no detections), 24.9ms\n",
            "video 1/1 (frame 677/1088) /content/drive/MyDrive/videoplayback.webm: 384x640 (no detections), 24.9ms\n",
            "video 1/1 (frame 678/1088) /content/drive/MyDrive/videoplayback.webm: 384x640 (no detections), 25.2ms\n",
            "video 1/1 (frame 679/1088) /content/drive/MyDrive/videoplayback.webm: 384x640 (no detections), 25.2ms\n",
            "video 1/1 (frame 680/1088) /content/drive/MyDrive/videoplayback.webm: 384x640 (no detections), 25.2ms\n",
            "video 1/1 (frame 681/1088) /content/drive/MyDrive/videoplayback.webm: 384x640 (no detections), 25.2ms\n",
            "video 1/1 (frame 682/1088) /content/drive/MyDrive/videoplayback.webm: 384x640 (no detections), 25.4ms\n",
            "video 1/1 (frame 683/1088) /content/drive/MyDrive/videoplayback.webm: 384x640 (no detections), 25.2ms\n",
            "video 1/1 (frame 684/1088) /content/drive/MyDrive/videoplayback.webm: 384x640 (no detections), 25.2ms\n",
            "video 1/1 (frame 685/1088) /content/drive/MyDrive/videoplayback.webm: 384x640 (no detections), 25.2ms\n",
            "video 1/1 (frame 686/1088) /content/drive/MyDrive/videoplayback.webm: 384x640 (no detections), 25.3ms\n",
            "video 1/1 (frame 687/1088) /content/drive/MyDrive/videoplayback.webm: 384x640 (no detections), 25.2ms\n",
            "video 1/1 (frame 688/1088) /content/drive/MyDrive/videoplayback.webm: 384x640 (no detections), 25.2ms\n",
            "video 1/1 (frame 689/1088) /content/drive/MyDrive/videoplayback.webm: 384x640 (no detections), 25.1ms\n",
            "video 1/1 (frame 690/1088) /content/drive/MyDrive/videoplayback.webm: 384x640 (no detections), 32.1ms\n",
            "video 1/1 (frame 691/1088) /content/drive/MyDrive/videoplayback.webm: 384x640 (no detections), 25.6ms\n",
            "video 1/1 (frame 692/1088) /content/drive/MyDrive/videoplayback.webm: 384x640 (no detections), 25.7ms\n",
            "video 1/1 (frame 693/1088) /content/drive/MyDrive/videoplayback.webm: 384x640 (no detections), 25.7ms\n",
            "video 1/1 (frame 694/1088) /content/drive/MyDrive/videoplayback.webm: 384x640 (no detections), 25.7ms\n",
            "video 1/1 (frame 695/1088) /content/drive/MyDrive/videoplayback.webm: 384x640 (no detections), 26.0ms\n",
            "video 1/1 (frame 696/1088) /content/drive/MyDrive/videoplayback.webm: 384x640 (no detections), 26.2ms\n",
            "video 1/1 (frame 697/1088) /content/drive/MyDrive/videoplayback.webm: 384x640 (no detections), 25.6ms\n",
            "video 1/1 (frame 698/1088) /content/drive/MyDrive/videoplayback.webm: 384x640 (no detections), 26.0ms\n",
            "video 1/1 (frame 699/1088) /content/drive/MyDrive/videoplayback.webm: 384x640 (no detections), 26.4ms\n",
            "video 1/1 (frame 700/1088) /content/drive/MyDrive/videoplayback.webm: 384x640 (no detections), 26.5ms\n",
            "video 1/1 (frame 701/1088) /content/drive/MyDrive/videoplayback.webm: 384x640 (no detections), 26.5ms\n",
            "video 1/1 (frame 702/1088) /content/drive/MyDrive/videoplayback.webm: 384x640 (no detections), 27.2ms\n",
            "video 1/1 (frame 703/1088) /content/drive/MyDrive/videoplayback.webm: 384x640 (no detections), 26.5ms\n",
            "video 1/1 (frame 704/1088) /content/drive/MyDrive/videoplayback.webm: 384x640 (no detections), 26.5ms\n",
            "video 1/1 (frame 705/1088) /content/drive/MyDrive/videoplayback.webm: 384x640 (no detections), 26.5ms\n",
            "video 1/1 (frame 706/1088) /content/drive/MyDrive/videoplayback.webm: 384x640 (no detections), 26.4ms\n",
            "video 1/1 (frame 707/1088) /content/drive/MyDrive/videoplayback.webm: 384x640 (no detections), 26.8ms\n",
            "video 1/1 (frame 708/1088) /content/drive/MyDrive/videoplayback.webm: 384x640 (no detections), 28.7ms\n",
            "video 1/1 (frame 709/1088) /content/drive/MyDrive/videoplayback.webm: 384x640 (no detections), 26.5ms\n",
            "video 1/1 (frame 710/1088) /content/drive/MyDrive/videoplayback.webm: 384x640 (no detections), 26.4ms\n",
            "video 1/1 (frame 711/1088) /content/drive/MyDrive/videoplayback.webm: 384x640 (no detections), 26.5ms\n",
            "video 1/1 (frame 712/1088) /content/drive/MyDrive/videoplayback.webm: 384x640 (no detections), 27.8ms\n",
            "video 1/1 (frame 713/1088) /content/drive/MyDrive/videoplayback.webm: 384x640 (no detections), 26.5ms\n",
            "video 1/1 (frame 714/1088) /content/drive/MyDrive/videoplayback.webm: 384x640 (no detections), 26.6ms\n",
            "video 1/1 (frame 715/1088) /content/drive/MyDrive/videoplayback.webm: 384x640 (no detections), 28.2ms\n",
            "video 1/1 (frame 716/1088) /content/drive/MyDrive/videoplayback.webm: 384x640 1 0, 27.0ms\n",
            "video 1/1 (frame 717/1088) /content/drive/MyDrive/videoplayback.webm: 384x640 (no detections), 27.3ms\n",
            "video 1/1 (frame 718/1088) /content/drive/MyDrive/videoplayback.webm: 384x640 (no detections), 27.9ms\n",
            "video 1/1 (frame 719/1088) /content/drive/MyDrive/videoplayback.webm: 384x640 (no detections), 27.9ms\n",
            "video 1/1 (frame 720/1088) /content/drive/MyDrive/videoplayback.webm: 384x640 2 0s, 28.5ms\n",
            "video 1/1 (frame 721/1088) /content/drive/MyDrive/videoplayback.webm: 384x640 2 0s, 29.5ms\n",
            "video 1/1 (frame 722/1088) /content/drive/MyDrive/videoplayback.webm: 384x640 2 0s, 29.7ms\n",
            "video 1/1 (frame 723/1088) /content/drive/MyDrive/videoplayback.webm: 384x640 2 0s, 37.0ms\n",
            "video 1/1 (frame 724/1088) /content/drive/MyDrive/videoplayback.webm: 384x640 2 0s, 33.1ms\n",
            "video 1/1 (frame 725/1088) /content/drive/MyDrive/videoplayback.webm: 384x640 2 0s, 32.1ms\n",
            "video 1/1 (frame 726/1088) /content/drive/MyDrive/videoplayback.webm: 384x640 (no detections), 30.9ms\n",
            "video 1/1 (frame 727/1088) /content/drive/MyDrive/videoplayback.webm: 384x640 (no detections), 30.4ms\n",
            "video 1/1 (frame 728/1088) /content/drive/MyDrive/videoplayback.webm: 384x640 (no detections), 31.0ms\n",
            "video 1/1 (frame 729/1088) /content/drive/MyDrive/videoplayback.webm: 384x640 (no detections), 30.8ms\n",
            "video 1/1 (frame 730/1088) /content/drive/MyDrive/videoplayback.webm: 384x640 (no detections), 30.6ms\n",
            "video 1/1 (frame 731/1088) /content/drive/MyDrive/videoplayback.webm: 384x640 (no detections), 32.8ms\n",
            "video 1/1 (frame 732/1088) /content/drive/MyDrive/videoplayback.webm: 384x640 (no detections), 29.8ms\n",
            "video 1/1 (frame 733/1088) /content/drive/MyDrive/videoplayback.webm: 384x640 (no detections), 29.6ms\n",
            "video 1/1 (frame 734/1088) /content/drive/MyDrive/videoplayback.webm: 384x640 (no detections), 29.6ms\n",
            "video 1/1 (frame 735/1088) /content/drive/MyDrive/videoplayback.webm: 384x640 (no detections), 29.6ms\n",
            "video 1/1 (frame 736/1088) /content/drive/MyDrive/videoplayback.webm: 384x640 (no detections), 31.0ms\n",
            "video 1/1 (frame 737/1088) /content/drive/MyDrive/videoplayback.webm: 384x640 (no detections), 30.2ms\n",
            "video 1/1 (frame 738/1088) /content/drive/MyDrive/videoplayback.webm: 384x640 (no detections), 29.6ms\n",
            "video 1/1 (frame 739/1088) /content/drive/MyDrive/videoplayback.webm: 384x640 (no detections), 29.6ms\n",
            "video 1/1 (frame 740/1088) /content/drive/MyDrive/videoplayback.webm: 384x640 (no detections), 29.6ms\n",
            "video 1/1 (frame 741/1088) /content/drive/MyDrive/videoplayback.webm: 384x640 (no detections), 30.4ms\n",
            "video 1/1 (frame 742/1088) /content/drive/MyDrive/videoplayback.webm: 384x640 (no detections), 31.1ms\n",
            "video 1/1 (frame 743/1088) /content/drive/MyDrive/videoplayback.webm: 384x640 (no detections), 29.6ms\n",
            "video 1/1 (frame 744/1088) /content/drive/MyDrive/videoplayback.webm: 384x640 (no detections), 29.6ms\n",
            "video 1/1 (frame 745/1088) /content/drive/MyDrive/videoplayback.webm: 384x640 (no detections), 29.6ms\n",
            "video 1/1 (frame 746/1088) /content/drive/MyDrive/videoplayback.webm: 384x640 (no detections), 39.3ms\n",
            "video 1/1 (frame 747/1088) /content/drive/MyDrive/videoplayback.webm: 384x640 (no detections), 29.6ms\n",
            "video 1/1 (frame 748/1088) /content/drive/MyDrive/videoplayback.webm: 384x640 (no detections), 31.3ms\n",
            "video 1/1 (frame 749/1088) /content/drive/MyDrive/videoplayback.webm: 384x640 (no detections), 29.6ms\n",
            "video 1/1 (frame 750/1088) /content/drive/MyDrive/videoplayback.webm: 384x640 (no detections), 31.5ms\n",
            "video 1/1 (frame 751/1088) /content/drive/MyDrive/videoplayback.webm: 384x640 (no detections), 31.5ms\n",
            "video 1/1 (frame 752/1088) /content/drive/MyDrive/videoplayback.webm: 384x640 (no detections), 31.5ms\n",
            "video 1/1 (frame 753/1088) /content/drive/MyDrive/videoplayback.webm: 384x640 (no detections), 31.5ms\n",
            "video 1/1 (frame 754/1088) /content/drive/MyDrive/videoplayback.webm: 384x640 (no detections), 33.4ms\n",
            "video 1/1 (frame 755/1088) /content/drive/MyDrive/videoplayback.webm: 384x640 (no detections), 31.5ms\n",
            "video 1/1 (frame 756/1088) /content/drive/MyDrive/videoplayback.webm: 384x640 (no detections), 31.5ms\n",
            "video 1/1 (frame 757/1088) /content/drive/MyDrive/videoplayback.webm: 384x640 (no detections), 43.1ms\n",
            "video 1/1 (frame 758/1088) /content/drive/MyDrive/videoplayback.webm: 384x640 (no detections), 31.5ms\n",
            "video 1/1 (frame 759/1088) /content/drive/MyDrive/videoplayback.webm: 384x640 (no detections), 31.5ms\n",
            "video 1/1 (frame 760/1088) /content/drive/MyDrive/videoplayback.webm: 384x640 (no detections), 31.5ms\n",
            "video 1/1 (frame 761/1088) /content/drive/MyDrive/videoplayback.webm: 384x640 (no detections), 36.5ms\n",
            "video 1/1 (frame 762/1088) /content/drive/MyDrive/videoplayback.webm: 384x640 (no detections), 31.5ms\n",
            "video 1/1 (frame 763/1088) /content/drive/MyDrive/videoplayback.webm: 384x640 (no detections), 31.5ms\n",
            "video 1/1 (frame 764/1088) /content/drive/MyDrive/videoplayback.webm: 384x640 (no detections), 31.5ms\n",
            "video 1/1 (frame 765/1088) /content/drive/MyDrive/videoplayback.webm: 384x640 (no detections), 31.5ms\n",
            "video 1/1 (frame 766/1088) /content/drive/MyDrive/videoplayback.webm: 384x640 (no detections), 31.5ms\n",
            "video 1/1 (frame 767/1088) /content/drive/MyDrive/videoplayback.webm: 384x640 (no detections), 31.5ms\n",
            "video 1/1 (frame 768/1088) /content/drive/MyDrive/videoplayback.webm: 384x640 (no detections), 31.2ms\n",
            "video 1/1 (frame 769/1088) /content/drive/MyDrive/videoplayback.webm: 384x640 (no detections), 31.5ms\n",
            "video 1/1 (frame 770/1088) /content/drive/MyDrive/videoplayback.webm: 384x640 (no detections), 29.2ms\n",
            "video 1/1 (frame 771/1088) /content/drive/MyDrive/videoplayback.webm: 384x640 (no detections), 29.0ms\n",
            "video 1/1 (frame 772/1088) /content/drive/MyDrive/videoplayback.webm: 384x640 (no detections), 29.0ms\n",
            "video 1/1 (frame 773/1088) /content/drive/MyDrive/videoplayback.webm: 384x640 (no detections), 29.0ms\n",
            "video 1/1 (frame 774/1088) /content/drive/MyDrive/videoplayback.webm: 384x640 (no detections), 29.0ms\n",
            "video 1/1 (frame 775/1088) /content/drive/MyDrive/videoplayback.webm: 384x640 (no detections), 29.1ms\n",
            "video 1/1 (frame 776/1088) /content/drive/MyDrive/videoplayback.webm: 384x640 (no detections), 29.0ms\n",
            "video 1/1 (frame 777/1088) /content/drive/MyDrive/videoplayback.webm: 384x640 (no detections), 29.0ms\n",
            "video 1/1 (frame 778/1088) /content/drive/MyDrive/videoplayback.webm: 384x640 (no detections), 29.0ms\n",
            "video 1/1 (frame 779/1088) /content/drive/MyDrive/videoplayback.webm: 384x640 (no detections), 34.3ms\n",
            "video 1/1 (frame 780/1088) /content/drive/MyDrive/videoplayback.webm: 384x640 (no detections), 29.0ms\n",
            "video 1/1 (frame 781/1088) /content/drive/MyDrive/videoplayback.webm: 384x640 (no detections), 29.0ms\n",
            "video 1/1 (frame 782/1088) /content/drive/MyDrive/videoplayback.webm: 384x640 (no detections), 29.5ms\n",
            "video 1/1 (frame 783/1088) /content/drive/MyDrive/videoplayback.webm: 384x640 (no detections), 29.0ms\n",
            "video 1/1 (frame 784/1088) /content/drive/MyDrive/videoplayback.webm: 384x640 (no detections), 35.9ms\n",
            "video 1/1 (frame 785/1088) /content/drive/MyDrive/videoplayback.webm: 384x640 (no detections), 29.0ms\n",
            "video 1/1 (frame 786/1088) /content/drive/MyDrive/videoplayback.webm: 384x640 (no detections), 32.6ms\n",
            "video 1/1 (frame 787/1088) /content/drive/MyDrive/videoplayback.webm: 384x640 (no detections), 29.5ms\n",
            "video 1/1 (frame 788/1088) /content/drive/MyDrive/videoplayback.webm: 384x640 (no detections), 31.5ms\n",
            "video 1/1 (frame 789/1088) /content/drive/MyDrive/videoplayback.webm: 384x640 (no detections), 30.8ms\n",
            "video 1/1 (frame 790/1088) /content/drive/MyDrive/videoplayback.webm: 384x640 (no detections), 31.5ms\n",
            "video 1/1 (frame 791/1088) /content/drive/MyDrive/videoplayback.webm: 384x640 (no detections), 34.0ms\n",
            "video 1/1 (frame 792/1088) /content/drive/MyDrive/videoplayback.webm: 384x640 (no detections), 31.9ms\n",
            "video 1/1 (frame 793/1088) /content/drive/MyDrive/videoplayback.webm: 384x640 (no detections), 31.5ms\n",
            "video 1/1 (frame 794/1088) /content/drive/MyDrive/videoplayback.webm: 384x640 (no detections), 31.5ms\n",
            "video 1/1 (frame 795/1088) /content/drive/MyDrive/videoplayback.webm: 384x640 (no detections), 31.5ms\n",
            "video 1/1 (frame 796/1088) /content/drive/MyDrive/videoplayback.webm: 384x640 (no detections), 31.5ms\n",
            "video 1/1 (frame 797/1088) /content/drive/MyDrive/videoplayback.webm: 384x640 (no detections), 31.5ms\n",
            "video 1/1 (frame 798/1088) /content/drive/MyDrive/videoplayback.webm: 384x640 (no detections), 31.5ms\n",
            "video 1/1 (frame 799/1088) /content/drive/MyDrive/videoplayback.webm: 384x640 (no detections), 31.5ms\n",
            "video 1/1 (frame 800/1088) /content/drive/MyDrive/videoplayback.webm: 384x640 (no detections), 31.5ms\n",
            "video 1/1 (frame 801/1088) /content/drive/MyDrive/videoplayback.webm: 384x640 (no detections), 31.5ms\n",
            "video 1/1 (frame 802/1088) /content/drive/MyDrive/videoplayback.webm: 384x640 (no detections), 31.5ms\n",
            "video 1/1 (frame 803/1088) /content/drive/MyDrive/videoplayback.webm: 384x640 (no detections), 31.5ms\n",
            "video 1/1 (frame 804/1088) /content/drive/MyDrive/videoplayback.webm: 384x640 (no detections), 36.0ms\n",
            "video 1/1 (frame 805/1088) /content/drive/MyDrive/videoplayback.webm: 384x640 (no detections), 34.8ms\n",
            "video 1/1 (frame 806/1088) /content/drive/MyDrive/videoplayback.webm: 384x640 (no detections), 31.5ms\n",
            "video 1/1 (frame 807/1088) /content/drive/MyDrive/videoplayback.webm: 384x640 (no detections), 31.2ms\n",
            "video 1/1 (frame 808/1088) /content/drive/MyDrive/videoplayback.webm: 384x640 (no detections), 38.0ms\n",
            "video 1/1 (frame 809/1088) /content/drive/MyDrive/videoplayback.webm: 384x640 (no detections), 30.8ms\n",
            "video 1/1 (frame 810/1088) /content/drive/MyDrive/videoplayback.webm: 384x640 (no detections), 30.8ms\n",
            "video 1/1 (frame 811/1088) /content/drive/MyDrive/videoplayback.webm: 384x640 (no detections), 30.8ms\n",
            "video 1/1 (frame 812/1088) /content/drive/MyDrive/videoplayback.webm: 384x640 (no detections), 30.8ms\n",
            "video 1/1 (frame 813/1088) /content/drive/MyDrive/videoplayback.webm: 384x640 (no detections), 27.5ms\n",
            "video 1/1 (frame 814/1088) /content/drive/MyDrive/videoplayback.webm: 384x640 (no detections), 27.8ms\n",
            "video 1/1 (frame 815/1088) /content/drive/MyDrive/videoplayback.webm: 384x640 (no detections), 27.4ms\n",
            "video 1/1 (frame 816/1088) /content/drive/MyDrive/videoplayback.webm: 384x640 (no detections), 27.0ms\n",
            "video 1/1 (frame 817/1088) /content/drive/MyDrive/videoplayback.webm: 384x640 (no detections), 26.9ms\n",
            "video 1/1 (frame 818/1088) /content/drive/MyDrive/videoplayback.webm: 384x640 (no detections), 27.0ms\n",
            "video 1/1 (frame 819/1088) /content/drive/MyDrive/videoplayback.webm: 384x640 (no detections), 26.9ms\n",
            "video 1/1 (frame 820/1088) /content/drive/MyDrive/videoplayback.webm: 384x640 (no detections), 27.0ms\n",
            "video 1/1 (frame 821/1088) /content/drive/MyDrive/videoplayback.webm: 384x640 (no detections), 27.0ms\n",
            "video 1/1 (frame 822/1088) /content/drive/MyDrive/videoplayback.webm: 384x640 (no detections), 25.2ms\n",
            "video 1/1 (frame 823/1088) /content/drive/MyDrive/videoplayback.webm: 384x640 (no detections), 25.6ms\n",
            "video 1/1 (frame 824/1088) /content/drive/MyDrive/videoplayback.webm: 384x640 (no detections), 25.2ms\n",
            "video 1/1 (frame 825/1088) /content/drive/MyDrive/videoplayback.webm: 384x640 (no detections), 25.2ms\n",
            "video 1/1 (frame 826/1088) /content/drive/MyDrive/videoplayback.webm: 384x640 (no detections), 25.2ms\n",
            "video 1/1 (frame 827/1088) /content/drive/MyDrive/videoplayback.webm: 384x640 (no detections), 25.2ms\n",
            "video 1/1 (frame 828/1088) /content/drive/MyDrive/videoplayback.webm: 384x640 (no detections), 25.3ms\n",
            "video 1/1 (frame 829/1088) /content/drive/MyDrive/videoplayback.webm: 384x640 (no detections), 25.2ms\n",
            "video 1/1 (frame 830/1088) /content/drive/MyDrive/videoplayback.webm: 384x640 (no detections), 25.2ms\n",
            "video 1/1 (frame 831/1088) /content/drive/MyDrive/videoplayback.webm: 384x640 (no detections), 24.8ms\n",
            "video 1/1 (frame 832/1088) /content/drive/MyDrive/videoplayback.webm: 384x640 (no detections), 25.2ms\n",
            "video 1/1 (frame 833/1088) /content/drive/MyDrive/videoplayback.webm: 384x640 (no detections), 25.5ms\n",
            "video 1/1 (frame 834/1088) /content/drive/MyDrive/videoplayback.webm: 384x640 (no detections), 35.2ms\n",
            "video 1/1 (frame 835/1088) /content/drive/MyDrive/videoplayback.webm: 384x640 (no detections), 24.9ms\n",
            "video 1/1 (frame 836/1088) /content/drive/MyDrive/videoplayback.webm: 384x640 (no detections), 25.0ms\n",
            "video 1/1 (frame 837/1088) /content/drive/MyDrive/videoplayback.webm: 384x640 (no detections), 25.7ms\n",
            "video 1/1 (frame 838/1088) /content/drive/MyDrive/videoplayback.webm: 384x640 (no detections), 25.2ms\n",
            "video 1/1 (frame 839/1088) /content/drive/MyDrive/videoplayback.webm: 384x640 (no detections), 24.8ms\n",
            "video 1/1 (frame 840/1088) /content/drive/MyDrive/videoplayback.webm: 384x640 (no detections), 24.8ms\n",
            "video 1/1 (frame 841/1088) /content/drive/MyDrive/videoplayback.webm: 384x640 (no detections), 24.8ms\n",
            "video 1/1 (frame 842/1088) /content/drive/MyDrive/videoplayback.webm: 384x640 (no detections), 24.8ms\n",
            "video 1/1 (frame 843/1088) /content/drive/MyDrive/videoplayback.webm: 384x640 (no detections), 24.4ms\n",
            "video 1/1 (frame 844/1088) /content/drive/MyDrive/videoplayback.webm: 384x640 (no detections), 24.4ms\n",
            "video 1/1 (frame 845/1088) /content/drive/MyDrive/videoplayback.webm: 384x640 (no detections), 24.6ms\n",
            "video 1/1 (frame 846/1088) /content/drive/MyDrive/videoplayback.webm: 384x640 (no detections), 26.2ms\n",
            "video 1/1 (frame 847/1088) /content/drive/MyDrive/videoplayback.webm: 384x640 (no detections), 25.3ms\n",
            "video 1/1 (frame 848/1088) /content/drive/MyDrive/videoplayback.webm: 384x640 (no detections), 24.4ms\n",
            "video 1/1 (frame 849/1088) /content/drive/MyDrive/videoplayback.webm: 384x640 (no detections), 24.4ms\n",
            "video 1/1 (frame 850/1088) /content/drive/MyDrive/videoplayback.webm: 384x640 (no detections), 24.4ms\n",
            "video 1/1 (frame 851/1088) /content/drive/MyDrive/videoplayback.webm: 384x640 (no detections), 24.4ms\n",
            "video 1/1 (frame 852/1088) /content/drive/MyDrive/videoplayback.webm: 384x640 (no detections), 25.3ms\n",
            "video 1/1 (frame 853/1088) /content/drive/MyDrive/videoplayback.webm: 384x640 (no detections), 24.5ms\n",
            "video 1/1 (frame 854/1088) /content/drive/MyDrive/videoplayback.webm: 384x640 (no detections), 24.5ms\n",
            "video 1/1 (frame 855/1088) /content/drive/MyDrive/videoplayback.webm: 384x640 (no detections), 24.5ms\n",
            "video 1/1 (frame 856/1088) /content/drive/MyDrive/videoplayback.webm: 384x640 (no detections), 24.9ms\n",
            "video 1/1 (frame 857/1088) /content/drive/MyDrive/videoplayback.webm: 384x640 (no detections), 24.4ms\n",
            "video 1/1 (frame 858/1088) /content/drive/MyDrive/videoplayback.webm: 384x640 (no detections), 24.3ms\n",
            "video 1/1 (frame 859/1088) /content/drive/MyDrive/videoplayback.webm: 384x640 (no detections), 22.2ms\n",
            "video 1/1 (frame 860/1088) /content/drive/MyDrive/videoplayback.webm: 384x640 (no detections), 22.3ms\n",
            "video 1/1 (frame 861/1088) /content/drive/MyDrive/videoplayback.webm: 384x640 (no detections), 22.7ms\n",
            "video 1/1 (frame 862/1088) /content/drive/MyDrive/videoplayback.webm: 384x640 (no detections), 22.6ms\n",
            "video 1/1 (frame 863/1088) /content/drive/MyDrive/videoplayback.webm: 384x640 (no detections), 22.3ms\n",
            "video 1/1 (frame 864/1088) /content/drive/MyDrive/videoplayback.webm: 384x640 (no detections), 23.1ms\n",
            "video 1/1 (frame 865/1088) /content/drive/MyDrive/videoplayback.webm: 384x640 (no detections), 22.7ms\n",
            "video 1/1 (frame 866/1088) /content/drive/MyDrive/videoplayback.webm: 384x640 (no detections), 22.2ms\n",
            "video 1/1 (frame 867/1088) /content/drive/MyDrive/videoplayback.webm: 384x640 (no detections), 22.2ms\n",
            "video 1/1 (frame 868/1088) /content/drive/MyDrive/videoplayback.webm: 384x640 (no detections), 22.2ms\n",
            "video 1/1 (frame 869/1088) /content/drive/MyDrive/videoplayback.webm: 384x640 (no detections), 28.7ms\n",
            "video 1/1 (frame 870/1088) /content/drive/MyDrive/videoplayback.webm: 384x640 (no detections), 21.9ms\n",
            "video 1/1 (frame 871/1088) /content/drive/MyDrive/videoplayback.webm: 384x640 (no detections), 21.9ms\n",
            "video 1/1 (frame 872/1088) /content/drive/MyDrive/videoplayback.webm: 384x640 (no detections), 23.1ms\n",
            "video 1/1 (frame 873/1088) /content/drive/MyDrive/videoplayback.webm: 384x640 (no detections), 21.9ms\n",
            "video 1/1 (frame 874/1088) /content/drive/MyDrive/videoplayback.webm: 384x640 (no detections), 21.9ms\n",
            "video 1/1 (frame 875/1088) /content/drive/MyDrive/videoplayback.webm: 384x640 (no detections), 21.8ms\n",
            "video 1/1 (frame 876/1088) /content/drive/MyDrive/videoplayback.webm: 384x640 (no detections), 21.8ms\n",
            "video 1/1 (frame 877/1088) /content/drive/MyDrive/videoplayback.webm: 384x640 (no detections), 21.9ms\n",
            "video 1/1 (frame 878/1088) /content/drive/MyDrive/videoplayback.webm: 384x640 (no detections), 21.9ms\n",
            "video 1/1 (frame 879/1088) /content/drive/MyDrive/videoplayback.webm: 384x640 (no detections), 26.9ms\n",
            "video 1/1 (frame 880/1088) /content/drive/MyDrive/videoplayback.webm: 384x640 (no detections), 21.9ms\n",
            "video 1/1 (frame 881/1088) /content/drive/MyDrive/videoplayback.webm: 384x640 (no detections), 21.9ms\n",
            "video 1/1 (frame 882/1088) /content/drive/MyDrive/videoplayback.webm: 384x640 (no detections), 21.9ms\n",
            "video 1/1 (frame 883/1088) /content/drive/MyDrive/videoplayback.webm: 384x640 (no detections), 21.9ms\n",
            "video 1/1 (frame 884/1088) /content/drive/MyDrive/videoplayback.webm: 384x640 (no detections), 21.9ms\n",
            "video 1/1 (frame 885/1088) /content/drive/MyDrive/videoplayback.webm: 384x640 (no detections), 21.9ms\n",
            "video 1/1 (frame 886/1088) /content/drive/MyDrive/videoplayback.webm: 384x640 (no detections), 23.0ms\n",
            "video 1/1 (frame 887/1088) /content/drive/MyDrive/videoplayback.webm: 384x640 (no detections), 22.0ms\n",
            "video 1/1 (frame 888/1088) /content/drive/MyDrive/videoplayback.webm: 384x640 (no detections), 22.3ms\n",
            "video 1/1 (frame 889/1088) /content/drive/MyDrive/videoplayback.webm: 384x640 (no detections), 21.9ms\n",
            "video 1/1 (frame 890/1088) /content/drive/MyDrive/videoplayback.webm: 384x640 (no detections), 21.9ms\n",
            "video 1/1 (frame 891/1088) /content/drive/MyDrive/videoplayback.webm: 384x640 (no detections), 21.8ms\n",
            "video 1/1 (frame 892/1088) /content/drive/MyDrive/videoplayback.webm: 384x640 (no detections), 21.9ms\n",
            "video 1/1 (frame 893/1088) /content/drive/MyDrive/videoplayback.webm: 384x640 (no detections), 21.9ms\n",
            "video 1/1 (frame 894/1088) /content/drive/MyDrive/videoplayback.webm: 384x640 (no detections), 22.0ms\n",
            "video 1/1 (frame 895/1088) /content/drive/MyDrive/videoplayback.webm: 384x640 (no detections), 21.9ms\n",
            "video 1/1 (frame 896/1088) /content/drive/MyDrive/videoplayback.webm: 384x640 (no detections), 22.8ms\n",
            "video 1/1 (frame 897/1088) /content/drive/MyDrive/videoplayback.webm: 384x640 (no detections), 23.1ms\n",
            "video 1/1 (frame 898/1088) /content/drive/MyDrive/videoplayback.webm: 384x640 (no detections), 23.1ms\n",
            "video 1/1 (frame 899/1088) /content/drive/MyDrive/videoplayback.webm: 384x640 (no detections), 23.1ms\n",
            "video 1/1 (frame 900/1088) /content/drive/MyDrive/videoplayback.webm: 384x640 (no detections), 23.1ms\n",
            "video 1/1 (frame 901/1088) /content/drive/MyDrive/videoplayback.webm: 384x640 (no detections), 23.1ms\n",
            "video 1/1 (frame 902/1088) /content/drive/MyDrive/videoplayback.webm: 384x640 (no detections), 23.1ms\n",
            "video 1/1 (frame 903/1088) /content/drive/MyDrive/videoplayback.webm: 384x640 (no detections), 24.0ms\n",
            "video 1/1 (frame 904/1088) /content/drive/MyDrive/videoplayback.webm: 384x640 (no detections), 23.5ms\n",
            "video 1/1 (frame 905/1088) /content/drive/MyDrive/videoplayback.webm: 384x640 (no detections), 23.4ms\n",
            "video 1/1 (frame 906/1088) /content/drive/MyDrive/videoplayback.webm: 384x640 (no detections), 23.4ms\n",
            "video 1/1 (frame 907/1088) /content/drive/MyDrive/videoplayback.webm: 384x640 (no detections), 24.8ms\n",
            "video 1/1 (frame 908/1088) /content/drive/MyDrive/videoplayback.webm: 384x640 (no detections), 23.4ms\n",
            "video 1/1 (frame 909/1088) /content/drive/MyDrive/videoplayback.webm: 384x640 (no detections), 23.8ms\n",
            "video 1/1 (frame 910/1088) /content/drive/MyDrive/videoplayback.webm: 384x640 (no detections), 23.8ms\n",
            "video 1/1 (frame 911/1088) /content/drive/MyDrive/videoplayback.webm: 384x640 (no detections), 25.9ms\n",
            "video 1/1 (frame 912/1088) /content/drive/MyDrive/videoplayback.webm: 384x640 (no detections), 24.1ms\n",
            "video 1/1 (frame 913/1088) /content/drive/MyDrive/videoplayback.webm: 384x640 (no detections), 24.1ms\n",
            "video 1/1 (frame 914/1088) /content/drive/MyDrive/videoplayback.webm: 384x640 (no detections), 24.1ms\n",
            "video 1/1 (frame 915/1088) /content/drive/MyDrive/videoplayback.webm: 384x640 (no detections), 24.1ms\n",
            "video 1/1 (frame 916/1088) /content/drive/MyDrive/videoplayback.webm: 384x640 (no detections), 24.1ms\n",
            "video 1/1 (frame 917/1088) /content/drive/MyDrive/videoplayback.webm: 384x640 (no detections), 24.8ms\n",
            "video 1/1 (frame 918/1088) /content/drive/MyDrive/videoplayback.webm: 384x640 (no detections), 24.1ms\n",
            "video 1/1 (frame 919/1088) /content/drive/MyDrive/videoplayback.webm: 384x640 (no detections), 24.8ms\n",
            "video 1/1 (frame 920/1088) /content/drive/MyDrive/videoplayback.webm: 384x640 (no detections), 24.1ms\n",
            "video 1/1 (frame 921/1088) /content/drive/MyDrive/videoplayback.webm: 384x640 (no detections), 26.1ms\n",
            "video 1/1 (frame 922/1088) /content/drive/MyDrive/videoplayback.webm: 384x640 (no detections), 24.5ms\n",
            "video 1/1 (frame 923/1088) /content/drive/MyDrive/videoplayback.webm: 384x640 (no detections), 24.9ms\n",
            "video 1/1 (frame 924/1088) /content/drive/MyDrive/videoplayback.webm: 384x640 (no detections), 24.5ms\n",
            "video 1/1 (frame 925/1088) /content/drive/MyDrive/videoplayback.webm: 384x640 (no detections), 24.6ms\n",
            "video 1/1 (frame 926/1088) /content/drive/MyDrive/videoplayback.webm: 384x640 (no detections), 24.4ms\n",
            "video 1/1 (frame 927/1088) /content/drive/MyDrive/videoplayback.webm: 384x640 (no detections), 25.0ms\n",
            "video 1/1 (frame 928/1088) /content/drive/MyDrive/videoplayback.webm: 384x640 (no detections), 24.8ms\n",
            "video 1/1 (frame 929/1088) /content/drive/MyDrive/videoplayback.webm: 384x640 (no detections), 25.6ms\n",
            "video 1/1 (frame 930/1088) /content/drive/MyDrive/videoplayback.webm: 384x640 (no detections), 25.0ms\n",
            "video 1/1 (frame 931/1088) /content/drive/MyDrive/videoplayback.webm: 384x640 (no detections), 24.5ms\n",
            "video 1/1 (frame 932/1088) /content/drive/MyDrive/videoplayback.webm: 384x640 (no detections), 24.5ms\n",
            "video 1/1 (frame 933/1088) /content/drive/MyDrive/videoplayback.webm: 384x640 (no detections), 24.3ms\n",
            "video 1/1 (frame 934/1088) /content/drive/MyDrive/videoplayback.webm: 384x640 (no detections), 23.8ms\n",
            "video 1/1 (frame 935/1088) /content/drive/MyDrive/videoplayback.webm: 384x640 (no detections), 23.8ms\n",
            "video 1/1 (frame 936/1088) /content/drive/MyDrive/videoplayback.webm: 384x640 (no detections), 23.7ms\n",
            "video 1/1 (frame 937/1088) /content/drive/MyDrive/videoplayback.webm: 384x640 (no detections), 23.7ms\n",
            "video 1/1 (frame 938/1088) /content/drive/MyDrive/videoplayback.webm: 384x640 (no detections), 23.8ms\n",
            "video 1/1 (frame 939/1088) /content/drive/MyDrive/videoplayback.webm: 384x640 (no detections), 23.8ms\n",
            "video 1/1 (frame 940/1088) /content/drive/MyDrive/videoplayback.webm: 384x640 (no detections), 23.8ms\n",
            "video 1/1 (frame 941/1088) /content/drive/MyDrive/videoplayback.webm: 384x640 (no detections), 37.9ms\n",
            "video 1/1 (frame 942/1088) /content/drive/MyDrive/videoplayback.webm: 384x640 (no detections), 23.8ms\n",
            "video 1/1 (frame 943/1088) /content/drive/MyDrive/videoplayback.webm: 384x640 (no detections), 25.0ms\n",
            "video 1/1 (frame 944/1088) /content/drive/MyDrive/videoplayback.webm: 384x640 (no detections), 23.1ms\n",
            "video 1/1 (frame 945/1088) /content/drive/MyDrive/videoplayback.webm: 384x640 (no detections), 23.1ms\n",
            "video 1/1 (frame 946/1088) /content/drive/MyDrive/videoplayback.webm: 384x640 (no detections), 23.1ms\n",
            "video 1/1 (frame 947/1088) /content/drive/MyDrive/videoplayback.webm: 384x640 (no detections), 23.1ms\n",
            "video 1/1 (frame 948/1088) /content/drive/MyDrive/videoplayback.webm: 384x640 (no detections), 24.2ms\n",
            "video 1/1 (frame 949/1088) /content/drive/MyDrive/videoplayback.webm: 384x640 (no detections), 23.1ms\n",
            "video 1/1 (frame 950/1088) /content/drive/MyDrive/videoplayback.webm: 384x640 (no detections), 23.1ms\n",
            "video 1/1 (frame 951/1088) /content/drive/MyDrive/videoplayback.webm: 384x640 (no detections), 23.0ms\n",
            "video 1/1 (frame 952/1088) /content/drive/MyDrive/videoplayback.webm: 384x640 (no detections), 23.2ms\n",
            "video 1/1 (frame 953/1088) /content/drive/MyDrive/videoplayback.webm: 384x640 (no detections), 23.1ms\n",
            "video 1/1 (frame 954/1088) /content/drive/MyDrive/videoplayback.webm: 384x640 (no detections), 23.1ms\n",
            "video 1/1 (frame 955/1088) /content/drive/MyDrive/videoplayback.webm: 384x640 (no detections), 24.4ms\n",
            "video 1/1 (frame 956/1088) /content/drive/MyDrive/videoplayback.webm: 384x640 (no detections), 23.1ms\n",
            "video 1/1 (frame 957/1088) /content/drive/MyDrive/videoplayback.webm: 384x640 (no detections), 23.1ms\n",
            "video 1/1 (frame 958/1088) /content/drive/MyDrive/videoplayback.webm: 384x640 (no detections), 23.1ms\n",
            "video 1/1 (frame 959/1088) /content/drive/MyDrive/videoplayback.webm: 384x640 (no detections), 23.1ms\n",
            "video 1/1 (frame 960/1088) /content/drive/MyDrive/videoplayback.webm: 384x640 (no detections), 33.4ms\n",
            "video 1/1 (frame 961/1088) /content/drive/MyDrive/videoplayback.webm: 384x640 (no detections), 23.1ms\n",
            "video 1/1 (frame 962/1088) /content/drive/MyDrive/videoplayback.webm: 384x640 (no detections), 26.7ms\n",
            "video 1/1 (frame 963/1088) /content/drive/MyDrive/videoplayback.webm: 384x640 (no detections), 31.3ms\n",
            "video 1/1 (frame 964/1088) /content/drive/MyDrive/videoplayback.webm: 384x640 (no detections), 26.5ms\n",
            "video 1/1 (frame 965/1088) /content/drive/MyDrive/videoplayback.webm: 384x640 (no detections), 23.1ms\n",
            "video 1/1 (frame 966/1088) /content/drive/MyDrive/videoplayback.webm: 384x640 (no detections), 27.0ms\n",
            "video 1/1 (frame 967/1088) /content/drive/MyDrive/videoplayback.webm: 384x640 (no detections), 23.2ms\n",
            "video 1/1 (frame 968/1088) /content/drive/MyDrive/videoplayback.webm: 384x640 (no detections), 23.1ms\n",
            "video 1/1 (frame 969/1088) /content/drive/MyDrive/videoplayback.webm: 384x640 (no detections), 23.1ms\n",
            "video 1/1 (frame 970/1088) /content/drive/MyDrive/videoplayback.webm: 384x640 (no detections), 24.5ms\n",
            "video 1/1 (frame 971/1088) /content/drive/MyDrive/videoplayback.webm: 384x640 (no detections), 26.2ms\n",
            "video 1/1 (frame 972/1088) /content/drive/MyDrive/videoplayback.webm: 384x640 (no detections), 25.2ms\n",
            "video 1/1 (frame 973/1088) /content/drive/MyDrive/videoplayback.webm: 384x640 (no detections), 38.5ms\n",
            "video 1/1 (frame 974/1088) /content/drive/MyDrive/videoplayback.webm: 384x640 (no detections), 25.2ms\n",
            "video 1/1 (frame 975/1088) /content/drive/MyDrive/videoplayback.webm: 384x640 (no detections), 27.0ms\n",
            "video 1/1 (frame 976/1088) /content/drive/MyDrive/videoplayback.webm: 384x640 (no detections), 26.1ms\n",
            "video 1/1 (frame 977/1088) /content/drive/MyDrive/videoplayback.webm: 384x640 (no detections), 26.5ms\n",
            "video 1/1 (frame 978/1088) /content/drive/MyDrive/videoplayback.webm: 384x640 (no detections), 30.3ms\n",
            "video 1/1 (frame 979/1088) /content/drive/MyDrive/videoplayback.webm: 384x640 (no detections), 27.5ms\n",
            "video 1/1 (frame 980/1088) /content/drive/MyDrive/videoplayback.webm: 384x640 (no detections), 27.5ms\n",
            "video 1/1 (frame 981/1088) /content/drive/MyDrive/videoplayback.webm: 384x640 (no detections), 28.2ms\n",
            "video 1/1 (frame 982/1088) /content/drive/MyDrive/videoplayback.webm: 384x640 (no detections), 27.9ms\n",
            "video 1/1 (frame 983/1088) /content/drive/MyDrive/videoplayback.webm: 384x640 (no detections), 27.9ms\n",
            "video 1/1 (frame 984/1088) /content/drive/MyDrive/videoplayback.webm: 384x640 (no detections), 27.9ms\n",
            "video 1/1 (frame 985/1088) /content/drive/MyDrive/videoplayback.webm: 384x640 (no detections), 33.3ms\n",
            "video 1/1 (frame 986/1088) /content/drive/MyDrive/videoplayback.webm: 384x640 (no detections), 27.9ms\n",
            "video 1/1 (frame 987/1088) /content/drive/MyDrive/videoplayback.webm: 384x640 (no detections), 36.0ms\n",
            "video 1/1 (frame 988/1088) /content/drive/MyDrive/videoplayback.webm: 384x640 (no detections), 28.0ms\n",
            "video 1/1 (frame 989/1088) /content/drive/MyDrive/videoplayback.webm: 384x640 (no detections), 28.7ms\n",
            "video 1/1 (frame 990/1088) /content/drive/MyDrive/videoplayback.webm: 384x640 (no detections), 29.3ms\n",
            "video 1/1 (frame 991/1088) /content/drive/MyDrive/videoplayback.webm: 384x640 (no detections), 29.0ms\n",
            "video 1/1 (frame 992/1088) /content/drive/MyDrive/videoplayback.webm: 384x640 (no detections), 29.0ms\n",
            "video 1/1 (frame 993/1088) /content/drive/MyDrive/videoplayback.webm: 384x640 (no detections), 29.0ms\n",
            "video 1/1 (frame 994/1088) /content/drive/MyDrive/videoplayback.webm: 384x640 (no detections), 29.0ms\n",
            "video 1/1 (frame 995/1088) /content/drive/MyDrive/videoplayback.webm: 384x640 (no detections), 30.0ms\n",
            "video 1/1 (frame 996/1088) /content/drive/MyDrive/videoplayback.webm: 384x640 (no detections), 30.5ms\n",
            "video 1/1 (frame 997/1088) /content/drive/MyDrive/videoplayback.webm: 384x640 (no detections), 31.9ms\n",
            "video 1/1 (frame 998/1088) /content/drive/MyDrive/videoplayback.webm: 384x640 (no detections), 30.0ms\n",
            "video 1/1 (frame 999/1088) /content/drive/MyDrive/videoplayback.webm: 384x640 (no detections), 29.6ms\n",
            "video 1/1 (frame 1000/1088) /content/drive/MyDrive/videoplayback.webm: 384x640 (no detections), 34.9ms\n",
            "video 1/1 (frame 1001/1088) /content/drive/MyDrive/videoplayback.webm: 384x640 (no detections), 28.0ms\n",
            "video 1/1 (frame 1002/1088) /content/drive/MyDrive/videoplayback.webm: 384x640 (no detections), 27.9ms\n",
            "video 1/1 (frame 1003/1088) /content/drive/MyDrive/videoplayback.webm: 384x640 (no detections), 29.2ms\n",
            "video 1/1 (frame 1004/1088) /content/drive/MyDrive/videoplayback.webm: 384x640 (no detections), 28.0ms\n",
            "video 1/1 (frame 1005/1088) /content/drive/MyDrive/videoplayback.webm: 384x640 (no detections), 28.2ms\n",
            "video 1/1 (frame 1006/1088) /content/drive/MyDrive/videoplayback.webm: 384x640 (no detections), 27.9ms\n",
            "video 1/1 (frame 1007/1088) /content/drive/MyDrive/videoplayback.webm: 384x640 (no detections), 27.9ms\n",
            "video 1/1 (frame 1008/1088) /content/drive/MyDrive/videoplayback.webm: 384x640 (no detections), 27.9ms\n",
            "video 1/1 (frame 1009/1088) /content/drive/MyDrive/videoplayback.webm: 384x640 (no detections), 27.0ms\n",
            "video 1/1 (frame 1010/1088) /content/drive/MyDrive/videoplayback.webm: 384x640 (no detections), 27.0ms\n",
            "video 1/1 (frame 1011/1088) /content/drive/MyDrive/videoplayback.webm: 384x640 (no detections), 27.0ms\n",
            "video 1/1 (frame 1012/1088) /content/drive/MyDrive/videoplayback.webm: 384x640 (no detections), 27.0ms\n",
            "video 1/1 (frame 1013/1088) /content/drive/MyDrive/videoplayback.webm: 384x640 (no detections), 26.9ms\n",
            "video 1/1 (frame 1014/1088) /content/drive/MyDrive/videoplayback.webm: 384x640 (no detections), 26.9ms\n",
            "video 1/1 (frame 1015/1088) /content/drive/MyDrive/videoplayback.webm: 384x640 (no detections), 27.0ms\n",
            "video 1/1 (frame 1016/1088) /content/drive/MyDrive/videoplayback.webm: 384x640 (no detections), 26.9ms\n",
            "video 1/1 (frame 1017/1088) /content/drive/MyDrive/videoplayback.webm: 384x640 (no detections), 26.9ms\n",
            "video 1/1 (frame 1018/1088) /content/drive/MyDrive/videoplayback.webm: 384x640 (no detections), 27.0ms\n",
            "video 1/1 (frame 1019/1088) /content/drive/MyDrive/videoplayback.webm: 384x640 (no detections), 29.0ms\n",
            "video 1/1 (frame 1020/1088) /content/drive/MyDrive/videoplayback.webm: 384x640 (no detections), 28.4ms\n",
            "video 1/1 (frame 1021/1088) /content/drive/MyDrive/videoplayback.webm: 384x640 (no detections), 26.9ms\n",
            "video 1/1 (frame 1022/1088) /content/drive/MyDrive/videoplayback.webm: 384x640 (no detections), 27.0ms\n",
            "video 1/1 (frame 1023/1088) /content/drive/MyDrive/videoplayback.webm: 384x640 (no detections), 28.9ms\n",
            "video 1/1 (frame 1024/1088) /content/drive/MyDrive/videoplayback.webm: 384x640 (no detections), 27.2ms\n",
            "video 1/1 (frame 1025/1088) /content/drive/MyDrive/videoplayback.webm: 384x640 (no detections), 28.3ms\n",
            "video 1/1 (frame 1026/1088) /content/drive/MyDrive/videoplayback.webm: 384x640 (no detections), 27.6ms\n",
            "video 1/1 (frame 1027/1088) /content/drive/MyDrive/videoplayback.webm: 384x640 (no detections), 26.5ms\n",
            "video 1/1 (frame 1028/1088) /content/drive/MyDrive/videoplayback.webm: 384x640 (no detections), 29.1ms\n",
            "video 1/1 (frame 1029/1088) /content/drive/MyDrive/videoplayback.webm: 384x640 (no detections), 35.3ms\n",
            "video 1/1 (frame 1030/1088) /content/drive/MyDrive/videoplayback.webm: 384x640 (no detections), 26.5ms\n",
            "video 1/1 (frame 1031/1088) /content/drive/MyDrive/videoplayback.webm: 384x640 (no detections), 26.5ms\n",
            "video 1/1 (frame 1032/1088) /content/drive/MyDrive/videoplayback.webm: 384x640 (no detections), 29.7ms\n",
            "video 1/1 (frame 1033/1088) /content/drive/MyDrive/videoplayback.webm: 384x640 (no detections), 26.5ms\n",
            "video 1/1 (frame 1034/1088) /content/drive/MyDrive/videoplayback.webm: 384x640 (no detections), 30.0ms\n",
            "video 1/1 (frame 1035/1088) /content/drive/MyDrive/videoplayback.webm: 384x640 (no detections), 26.5ms\n",
            "video 1/1 (frame 1036/1088) /content/drive/MyDrive/videoplayback.webm: 384x640 (no detections), 26.5ms\n",
            "video 1/1 (frame 1037/1088) /content/drive/MyDrive/videoplayback.webm: 384x640 (no detections), 26.5ms\n",
            "video 1/1 (frame 1038/1088) /content/drive/MyDrive/videoplayback.webm: 384x640 (no detections), 26.5ms\n",
            "video 1/1 (frame 1039/1088) /content/drive/MyDrive/videoplayback.webm: 384x640 (no detections), 26.5ms\n",
            "video 1/1 (frame 1040/1088) /content/drive/MyDrive/videoplayback.webm: 384x640 (no detections), 26.5ms\n",
            "video 1/1 (frame 1041/1088) /content/drive/MyDrive/videoplayback.webm: 384x640 (no detections), 26.5ms\n",
            "video 1/1 (frame 1042/1088) /content/drive/MyDrive/videoplayback.webm: 384x640 (no detections), 26.5ms\n",
            "video 1/1 (frame 1043/1088) /content/drive/MyDrive/videoplayback.webm: 384x640 (no detections), 27.0ms\n",
            "video 1/1 (frame 1044/1088) /content/drive/MyDrive/videoplayback.webm: 384x640 (no detections), 26.9ms\n",
            "video 1/1 (frame 1045/1088) /content/drive/MyDrive/videoplayback.webm: 384x640 (no detections), 28.0ms\n",
            "video 1/1 (frame 1046/1088) /content/drive/MyDrive/videoplayback.webm: 384x640 (no detections), 31.0ms\n",
            "video 1/1 (frame 1047/1088) /content/drive/MyDrive/videoplayback.webm: 384x640 (no detections), 30.8ms\n",
            "video 1/1 (frame 1048/1088) /content/drive/MyDrive/videoplayback.webm: 384x640 (no detections), 28.5ms\n",
            "video 1/1 (frame 1049/1088) /content/drive/MyDrive/videoplayback.webm: 384x640 (no detections), 28.6ms\n",
            "video 1/1 (frame 1050/1088) /content/drive/MyDrive/videoplayback.webm: 384x640 (no detections), 28.4ms\n",
            "video 1/1 (frame 1051/1088) /content/drive/MyDrive/videoplayback.webm: 384x640 (no detections), 29.5ms\n",
            "video 1/1 (frame 1052/1088) /content/drive/MyDrive/videoplayback.webm: 384x640 (no detections), 29.0ms\n",
            "video 1/1 (frame 1053/1088) /content/drive/MyDrive/videoplayback.webm: 384x640 (no detections), 29.3ms\n",
            "video 1/1 (frame 1054/1088) /content/drive/MyDrive/videoplayback.webm: 384x640 (no detections), 29.0ms\n",
            "video 1/1 (frame 1055/1088) /content/drive/MyDrive/videoplayback.webm: 384x640 (no detections), 26.9ms\n",
            "video 1/1 (frame 1056/1088) /content/drive/MyDrive/videoplayback.webm: 384x640 (no detections), 26.9ms\n",
            "video 1/1 (frame 1057/1088) /content/drive/MyDrive/videoplayback.webm: 384x640 (no detections), 26.9ms\n",
            "video 1/1 (frame 1058/1088) /content/drive/MyDrive/videoplayback.webm: 384x640 (no detections), 26.5ms\n",
            "video 1/1 (frame 1059/1088) /content/drive/MyDrive/videoplayback.webm: 384x640 (no detections), 26.4ms\n",
            "video 1/1 (frame 1060/1088) /content/drive/MyDrive/videoplayback.webm: 384x640 (no detections), 26.5ms\n",
            "video 1/1 (frame 1061/1088) /content/drive/MyDrive/videoplayback.webm: 384x640 (no detections), 26.5ms\n",
            "video 1/1 (frame 1062/1088) /content/drive/MyDrive/videoplayback.webm: 384x640 (no detections), 26.6ms\n",
            "video 1/1 (frame 1063/1088) /content/drive/MyDrive/videoplayback.webm: 384x640 (no detections), 26.5ms\n",
            "video 1/1 (frame 1064/1088) /content/drive/MyDrive/videoplayback.webm: 384x640 (no detections), 26.5ms\n",
            "video 1/1 (frame 1065/1088) /content/drive/MyDrive/videoplayback.webm: 384x640 (no detections), 26.5ms\n",
            "video 1/1 (frame 1066/1088) /content/drive/MyDrive/videoplayback.webm: 384x640 (no detections), 27.2ms\n",
            "video 1/1 (frame 1067/1088) /content/drive/MyDrive/videoplayback.webm: 384x640 (no detections), 25.5ms\n",
            "video 1/1 (frame 1068/1088) /content/drive/MyDrive/videoplayback.webm: 384x640 (no detections), 24.8ms\n",
            "video 1/1 (frame 1069/1088) /content/drive/MyDrive/videoplayback.webm: 384x640 (no detections), 24.8ms\n",
            "video 1/1 (frame 1070/1088) /content/drive/MyDrive/videoplayback.webm: 384x640 (no detections), 24.7ms\n",
            "video 1/1 (frame 1071/1088) /content/drive/MyDrive/videoplayback.webm: 384x640 (no detections), 23.1ms\n",
            "video 1/1 (frame 1072/1088) /content/drive/MyDrive/videoplayback.webm: 384x640 (no detections), 23.1ms\n",
            "video 1/1 (frame 1073/1088) /content/drive/MyDrive/videoplayback.webm: 384x640 (no detections), 23.1ms\n",
            "video 1/1 (frame 1074/1088) /content/drive/MyDrive/videoplayback.webm: 384x640 (no detections), 23.1ms\n",
            "video 1/1 (frame 1075/1088) /content/drive/MyDrive/videoplayback.webm: 384x640 (no detections), 23.2ms\n",
            "video 1/1 (frame 1076/1088) /content/drive/MyDrive/videoplayback.webm: 384x640 (no detections), 23.1ms\n",
            "video 1/1 (frame 1077/1088) /content/drive/MyDrive/videoplayback.webm: 384x640 (no detections), 23.6ms\n",
            "video 1/1 (frame 1078/1088) /content/drive/MyDrive/videoplayback.webm: 384x640 (no detections), 23.4ms\n",
            "video 1/1 (frame 1079/1088) /content/drive/MyDrive/videoplayback.webm: 384x640 (no detections), 23.1ms\n",
            "video 1/1 (frame 1080/1088) /content/drive/MyDrive/videoplayback.webm: 384x640 (no detections), 23.1ms\n",
            "video 1/1 (frame 1081/1088) /content/drive/MyDrive/videoplayback.webm: 384x640 (no detections), 23.1ms\n",
            "video 1/1 (frame 1082/1088) /content/drive/MyDrive/videoplayback.webm: 384x640 (no detections), 23.1ms\n",
            "video 1/1 (frame 1083/1088) /content/drive/MyDrive/videoplayback.webm: 384x640 (no detections), 23.0ms\n",
            "video 1/1 (frame 1084/1088) /content/drive/MyDrive/videoplayback.webm: 384x640 (no detections), 22.5ms\n",
            "video 1/1 (frame 1085/1088) /content/drive/MyDrive/videoplayback.webm: 384x640 (no detections), 22.5ms\n",
            "video 1/1 (frame 1086/1088) /content/drive/MyDrive/videoplayback.webm: 384x640 (no detections), 22.5ms\n",
            "video 1/1 (frame 1087/1088) /content/drive/MyDrive/videoplayback.webm: 384x640 (no detections), 22.4ms\n",
            "video 1/1 (frame 1088/1088) /content/drive/MyDrive/videoplayback.webm: 384x640 (no detections), 22.5ms\n",
            "Speed: 3.6ms preprocess, 26.9ms inference, 0.8ms postprocess per image at shape (1, 3, 384, 640)\n",
            "Results saved to \u001b[1mruns/detect/predict\u001b[0m\n"
          ]
        }
      ],
      "source": [
        "\n",
        "model = YOLO(\"/content/runs/detect/train2/weights/best.pt\")  # load a pretrained model (recommended for training)\n",
        "\n",
        "# Run inference on 'video.mp4'\n",
        "results = model('/content/drive/MyDrive/videoplayback.webm', save=True)\n"
      ]
    },
    {
      "cell_type": "code",
      "execution_count": null,
      "metadata": {
        "id": "PM5zRjn8Q2em",
        "colab": {
          "base_uri": "https://localhost:8080/"
        },
        "outputId": "ad25ef23-1389-4f73-fb33-6e63a1aae2b2"
      },
      "outputs": [
        {
          "output_type": "stream",
          "name": "stdout",
          "text": [
            "Collecting ultralytics\n",
            "  Downloading ultralytics-8.2.70-py3-none-any.whl.metadata (41 kB)\n",
            "\u001b[?25l     \u001b[90m━━━━━━━━━━━━━━━━━━━━━━━━━━━━━━━━━━━━━━━━\u001b[0m \u001b[32m0.0/41.3 kB\u001b[0m \u001b[31m?\u001b[0m eta \u001b[36m-:--:--\u001b[0m\r\u001b[2K     \u001b[90m━━━━━━━━━━━━━━━━━━━━━━━━━━━━━━━━━━━━━━━━\u001b[0m \u001b[32m41.3/41.3 kB\u001b[0m \u001b[31m3.9 MB/s\u001b[0m eta \u001b[36m0:00:00\u001b[0m\n",
            "\u001b[?25hRequirement already satisfied: numpy<2.0.0,>=1.23.0 in /usr/local/lib/python3.10/dist-packages (from ultralytics) (1.26.4)\n",
            "Requirement already satisfied: matplotlib>=3.3.0 in /usr/local/lib/python3.10/dist-packages (from ultralytics) (3.7.1)\n",
            "Requirement already satisfied: opencv-python>=4.6.0 in /usr/local/lib/python3.10/dist-packages (from ultralytics) (4.10.0.84)\n",
            "Requirement already satisfied: pillow>=7.1.2 in /usr/local/lib/python3.10/dist-packages (from ultralytics) (9.4.0)\n",
            "Requirement already satisfied: pyyaml>=5.3.1 in /usr/local/lib/python3.10/dist-packages (from ultralytics) (6.0.1)\n",
            "Requirement already satisfied: requests>=2.23.0 in /usr/local/lib/python3.10/dist-packages (from ultralytics) (2.31.0)\n",
            "Requirement already satisfied: scipy>=1.4.1 in /usr/local/lib/python3.10/dist-packages (from ultralytics) (1.13.1)\n",
            "Requirement already satisfied: torch>=1.8.0 in /usr/local/lib/python3.10/dist-packages (from ultralytics) (2.3.1+cu121)\n",
            "Requirement already satisfied: torchvision>=0.9.0 in /usr/local/lib/python3.10/dist-packages (from ultralytics) (0.18.1+cu121)\n",
            "Requirement already satisfied: tqdm>=4.64.0 in /usr/local/lib/python3.10/dist-packages (from ultralytics) (4.66.4)\n",
            "Requirement already satisfied: psutil in /usr/local/lib/python3.10/dist-packages (from ultralytics) (5.9.5)\n",
            "Requirement already satisfied: py-cpuinfo in /usr/local/lib/python3.10/dist-packages (from ultralytics) (9.0.0)\n",
            "Requirement already satisfied: pandas>=1.1.4 in /usr/local/lib/python3.10/dist-packages (from ultralytics) (2.1.4)\n",
            "Requirement already satisfied: seaborn>=0.11.0 in /usr/local/lib/python3.10/dist-packages (from ultralytics) (0.13.1)\n",
            "Collecting ultralytics-thop>=2.0.0 (from ultralytics)\n",
            "  Downloading ultralytics_thop-2.0.0-py3-none-any.whl.metadata (8.5 kB)\n",
            "Requirement already satisfied: contourpy>=1.0.1 in /usr/local/lib/python3.10/dist-packages (from matplotlib>=3.3.0->ultralytics) (1.2.1)\n",
            "Requirement already satisfied: cycler>=0.10 in /usr/local/lib/python3.10/dist-packages (from matplotlib>=3.3.0->ultralytics) (0.12.1)\n",
            "Requirement already satisfied: fonttools>=4.22.0 in /usr/local/lib/python3.10/dist-packages (from matplotlib>=3.3.0->ultralytics) (4.53.1)\n",
            "Requirement already satisfied: kiwisolver>=1.0.1 in /usr/local/lib/python3.10/dist-packages (from matplotlib>=3.3.0->ultralytics) (1.4.5)\n",
            "Requirement already satisfied: packaging>=20.0 in /usr/local/lib/python3.10/dist-packages (from matplotlib>=3.3.0->ultralytics) (24.1)\n",
            "Requirement already satisfied: pyparsing>=2.3.1 in /usr/local/lib/python3.10/dist-packages (from matplotlib>=3.3.0->ultralytics) (3.1.2)\n",
            "Requirement already satisfied: python-dateutil>=2.7 in /usr/local/lib/python3.10/dist-packages (from matplotlib>=3.3.0->ultralytics) (2.8.2)\n",
            "Requirement already satisfied: pytz>=2020.1 in /usr/local/lib/python3.10/dist-packages (from pandas>=1.1.4->ultralytics) (2024.1)\n",
            "Requirement already satisfied: tzdata>=2022.1 in /usr/local/lib/python3.10/dist-packages (from pandas>=1.1.4->ultralytics) (2024.1)\n",
            "Requirement already satisfied: charset-normalizer<4,>=2 in /usr/local/lib/python3.10/dist-packages (from requests>=2.23.0->ultralytics) (3.3.2)\n",
            "Requirement already satisfied: idna<4,>=2.5 in /usr/local/lib/python3.10/dist-packages (from requests>=2.23.0->ultralytics) (3.7)\n",
            "Requirement already satisfied: urllib3<3,>=1.21.1 in /usr/local/lib/python3.10/dist-packages (from requests>=2.23.0->ultralytics) (2.0.7)\n",
            "Requirement already satisfied: certifi>=2017.4.17 in /usr/local/lib/python3.10/dist-packages (from requests>=2.23.0->ultralytics) (2024.7.4)\n",
            "Requirement already satisfied: filelock in /usr/local/lib/python3.10/dist-packages (from torch>=1.8.0->ultralytics) (3.15.4)\n",
            "Requirement already satisfied: typing-extensions>=4.8.0 in /usr/local/lib/python3.10/dist-packages (from torch>=1.8.0->ultralytics) (4.12.2)\n",
            "Requirement already satisfied: sympy in /usr/local/lib/python3.10/dist-packages (from torch>=1.8.0->ultralytics) (1.13.1)\n",
            "Requirement already satisfied: networkx in /usr/local/lib/python3.10/dist-packages (from torch>=1.8.0->ultralytics) (3.3)\n",
            "Requirement already satisfied: jinja2 in /usr/local/lib/python3.10/dist-packages (from torch>=1.8.0->ultralytics) (3.1.4)\n",
            "Requirement already satisfied: fsspec in /usr/local/lib/python3.10/dist-packages (from torch>=1.8.0->ultralytics) (2024.6.1)\n",
            "Collecting nvidia-cuda-nvrtc-cu12==12.1.105 (from torch>=1.8.0->ultralytics)\n",
            "  Using cached nvidia_cuda_nvrtc_cu12-12.1.105-py3-none-manylinux1_x86_64.whl.metadata (1.5 kB)\n",
            "Collecting nvidia-cuda-runtime-cu12==12.1.105 (from torch>=1.8.0->ultralytics)\n",
            "  Using cached nvidia_cuda_runtime_cu12-12.1.105-py3-none-manylinux1_x86_64.whl.metadata (1.5 kB)\n",
            "Collecting nvidia-cuda-cupti-cu12==12.1.105 (from torch>=1.8.0->ultralytics)\n",
            "  Using cached nvidia_cuda_cupti_cu12-12.1.105-py3-none-manylinux1_x86_64.whl.metadata (1.6 kB)\n",
            "Collecting nvidia-cudnn-cu12==8.9.2.26 (from torch>=1.8.0->ultralytics)\n",
            "  Using cached nvidia_cudnn_cu12-8.9.2.26-py3-none-manylinux1_x86_64.whl.metadata (1.6 kB)\n",
            "Collecting nvidia-cublas-cu12==12.1.3.1 (from torch>=1.8.0->ultralytics)\n",
            "  Using cached nvidia_cublas_cu12-12.1.3.1-py3-none-manylinux1_x86_64.whl.metadata (1.5 kB)\n",
            "Collecting nvidia-cufft-cu12==11.0.2.54 (from torch>=1.8.0->ultralytics)\n",
            "  Using cached nvidia_cufft_cu12-11.0.2.54-py3-none-manylinux1_x86_64.whl.metadata (1.5 kB)\n",
            "Collecting nvidia-curand-cu12==10.3.2.106 (from torch>=1.8.0->ultralytics)\n",
            "  Using cached nvidia_curand_cu12-10.3.2.106-py3-none-manylinux1_x86_64.whl.metadata (1.5 kB)\n",
            "Collecting nvidia-cusolver-cu12==11.4.5.107 (from torch>=1.8.0->ultralytics)\n",
            "  Using cached nvidia_cusolver_cu12-11.4.5.107-py3-none-manylinux1_x86_64.whl.metadata (1.6 kB)\n",
            "Collecting nvidia-cusparse-cu12==12.1.0.106 (from torch>=1.8.0->ultralytics)\n",
            "  Using cached nvidia_cusparse_cu12-12.1.0.106-py3-none-manylinux1_x86_64.whl.metadata (1.6 kB)\n",
            "Collecting nvidia-nccl-cu12==2.20.5 (from torch>=1.8.0->ultralytics)\n",
            "  Using cached nvidia_nccl_cu12-2.20.5-py3-none-manylinux2014_x86_64.whl.metadata (1.8 kB)\n",
            "Collecting nvidia-nvtx-cu12==12.1.105 (from torch>=1.8.0->ultralytics)\n",
            "  Using cached nvidia_nvtx_cu12-12.1.105-py3-none-manylinux1_x86_64.whl.metadata (1.7 kB)\n",
            "Requirement already satisfied: triton==2.3.1 in /usr/local/lib/python3.10/dist-packages (from torch>=1.8.0->ultralytics) (2.3.1)\n",
            "Collecting nvidia-nvjitlink-cu12 (from nvidia-cusolver-cu12==11.4.5.107->torch>=1.8.0->ultralytics)\n",
            "  Downloading nvidia_nvjitlink_cu12-12.5.82-py3-none-manylinux2014_x86_64.whl.metadata (1.5 kB)\n",
            "Requirement already satisfied: six>=1.5 in /usr/local/lib/python3.10/dist-packages (from python-dateutil>=2.7->matplotlib>=3.3.0->ultralytics) (1.16.0)\n",
            "Requirement already satisfied: MarkupSafe>=2.0 in /usr/local/lib/python3.10/dist-packages (from jinja2->torch>=1.8.0->ultralytics) (2.1.5)\n",
            "Requirement already satisfied: mpmath<1.4,>=1.1.0 in /usr/local/lib/python3.10/dist-packages (from sympy->torch>=1.8.0->ultralytics) (1.3.0)\n",
            "Downloading ultralytics-8.2.70-py3-none-any.whl (862 kB)\n",
            "\u001b[2K   \u001b[90m━━━━━━━━━━━━━━━━━━━━━━━━━━━━━━━━━━━━━━━━\u001b[0m \u001b[32m862.6/862.6 kB\u001b[0m \u001b[31m53.9 MB/s\u001b[0m eta \u001b[36m0:00:00\u001b[0m\n",
            "\u001b[?25hUsing cached nvidia_cublas_cu12-12.1.3.1-py3-none-manylinux1_x86_64.whl (410.6 MB)\n",
            "Using cached nvidia_cuda_cupti_cu12-12.1.105-py3-none-manylinux1_x86_64.whl (14.1 MB)\n",
            "Using cached nvidia_cuda_nvrtc_cu12-12.1.105-py3-none-manylinux1_x86_64.whl (23.7 MB)\n",
            "Using cached nvidia_cuda_runtime_cu12-12.1.105-py3-none-manylinux1_x86_64.whl (823 kB)\n",
            "Using cached nvidia_cudnn_cu12-8.9.2.26-py3-none-manylinux1_x86_64.whl (731.7 MB)\n",
            "Using cached nvidia_cufft_cu12-11.0.2.54-py3-none-manylinux1_x86_64.whl (121.6 MB)\n",
            "Using cached nvidia_curand_cu12-10.3.2.106-py3-none-manylinux1_x86_64.whl (56.5 MB)\n",
            "Using cached nvidia_cusolver_cu12-11.4.5.107-py3-none-manylinux1_x86_64.whl (124.2 MB)\n",
            "Using cached nvidia_cusparse_cu12-12.1.0.106-py3-none-manylinux1_x86_64.whl (196.0 MB)\n",
            "Using cached nvidia_nccl_cu12-2.20.5-py3-none-manylinux2014_x86_64.whl (176.2 MB)\n",
            "Using cached nvidia_nvtx_cu12-12.1.105-py3-none-manylinux1_x86_64.whl (99 kB)\n",
            "Downloading ultralytics_thop-2.0.0-py3-none-any.whl (25 kB)\n",
            "Downloading nvidia_nvjitlink_cu12-12.5.82-py3-none-manylinux2014_x86_64.whl (21.3 MB)\n",
            "\u001b[2K   \u001b[90m━━━━━━━━━━━━━━━━━━━━━━━━━━━━━━━━━━━━━━━━\u001b[0m \u001b[32m21.3/21.3 MB\u001b[0m \u001b[31m76.7 MB/s\u001b[0m eta \u001b[36m0:00:00\u001b[0m\n",
            "\u001b[?25hInstalling collected packages: nvidia-nvtx-cu12, nvidia-nvjitlink-cu12, nvidia-nccl-cu12, nvidia-curand-cu12, nvidia-cufft-cu12, nvidia-cuda-runtime-cu12, nvidia-cuda-nvrtc-cu12, nvidia-cuda-cupti-cu12, nvidia-cublas-cu12, nvidia-cusparse-cu12, nvidia-cudnn-cu12, nvidia-cusolver-cu12, ultralytics-thop, ultralytics\n",
            "Successfully installed nvidia-cublas-cu12-12.1.3.1 nvidia-cuda-cupti-cu12-12.1.105 nvidia-cuda-nvrtc-cu12-12.1.105 nvidia-cuda-runtime-cu12-12.1.105 nvidia-cudnn-cu12-8.9.2.26 nvidia-cufft-cu12-11.0.2.54 nvidia-curand-cu12-10.3.2.106 nvidia-cusolver-cu12-11.4.5.107 nvidia-cusparse-cu12-12.1.0.106 nvidia-nccl-cu12-2.20.5 nvidia-nvjitlink-cu12-12.5.82 nvidia-nvtx-cu12-12.1.105 ultralytics-8.2.70 ultralytics-thop-2.0.0\n"
          ]
        }
      ],
      "source": [
        "!pip install ultralytics"
      ]
    },
    {
      "cell_type": "code",
      "source": [
        "from ultralytics import YOLO\n",
        "model=YOLO(\"/content/first.pt\")\n",
        "results=model(\"/content/drive/MyDrive/videoplayback.webm\",save=True)"
      ],
      "metadata": {
        "colab": {
          "base_uri": "https://localhost:8080/",
          "height": 321
        },
        "id": "5zRQ4bH6ZV_2",
        "outputId": "f0bd35f4-0e80-4386-e550-02faeb339948"
      },
      "execution_count": null,
      "outputs": [
        {
          "output_type": "error",
          "ename": "RuntimeError",
          "evalue": "PytorchStreamReader failed reading zip archive: failed finding central directory",
          "traceback": [
            "\u001b[0;31m---------------------------------------------------------------------------\u001b[0m",
            "\u001b[0;31mRuntimeError\u001b[0m                              Traceback (most recent call last)",
            "\u001b[0;32m<ipython-input-7-d6ba9f6eeb2a>\u001b[0m in \u001b[0;36m<cell line: 2>\u001b[0;34m()\u001b[0m\n\u001b[1;32m      1\u001b[0m \u001b[0;32mfrom\u001b[0m \u001b[0multralytics\u001b[0m \u001b[0;32mimport\u001b[0m \u001b[0mYOLO\u001b[0m\u001b[0;34m\u001b[0m\u001b[0;34m\u001b[0m\u001b[0m\n\u001b[0;32m----> 2\u001b[0;31m \u001b[0mmodel\u001b[0m\u001b[0;34m=\u001b[0m\u001b[0mYOLO\u001b[0m\u001b[0;34m(\u001b[0m\u001b[0;34m\"/content/first.pt\"\u001b[0m\u001b[0;34m)\u001b[0m\u001b[0;34m\u001b[0m\u001b[0;34m\u001b[0m\u001b[0m\n\u001b[0m\u001b[1;32m      3\u001b[0m \u001b[0mresults\u001b[0m\u001b[0;34m=\u001b[0m\u001b[0mmodel\u001b[0m\u001b[0;34m(\u001b[0m\u001b[0;34m\"/content/drive/MyDrive/videoplayback.webm\"\u001b[0m\u001b[0;34m,\u001b[0m\u001b[0msave\u001b[0m\u001b[0;34m=\u001b[0m\u001b[0;32mTrue\u001b[0m\u001b[0;34m)\u001b[0m\u001b[0;34m\u001b[0m\u001b[0;34m\u001b[0m\u001b[0m\n",
            "\u001b[0;32m/usr/local/lib/python3.10/dist-packages/ultralytics/models/yolo/model.py\u001b[0m in \u001b[0;36m__init__\u001b[0;34m(self, model, task, verbose)\u001b[0m\n\u001b[1;32m     21\u001b[0m         \u001b[0;32melse\u001b[0m\u001b[0;34m:\u001b[0m\u001b[0;34m\u001b[0m\u001b[0;34m\u001b[0m\u001b[0m\n\u001b[1;32m     22\u001b[0m             \u001b[0;31m# Continue with default YOLO initialization\u001b[0m\u001b[0;34m\u001b[0m\u001b[0;34m\u001b[0m\u001b[0m\n\u001b[0;32m---> 23\u001b[0;31m             \u001b[0msuper\u001b[0m\u001b[0;34m(\u001b[0m\u001b[0;34m)\u001b[0m\u001b[0;34m.\u001b[0m\u001b[0m__init__\u001b[0m\u001b[0;34m(\u001b[0m\u001b[0mmodel\u001b[0m\u001b[0;34m=\u001b[0m\u001b[0mmodel\u001b[0m\u001b[0;34m,\u001b[0m \u001b[0mtask\u001b[0m\u001b[0;34m=\u001b[0m\u001b[0mtask\u001b[0m\u001b[0;34m,\u001b[0m \u001b[0mverbose\u001b[0m\u001b[0;34m=\u001b[0m\u001b[0mverbose\u001b[0m\u001b[0;34m)\u001b[0m\u001b[0;34m\u001b[0m\u001b[0;34m\u001b[0m\u001b[0m\n\u001b[0m\u001b[1;32m     24\u001b[0m \u001b[0;34m\u001b[0m\u001b[0m\n\u001b[1;32m     25\u001b[0m     \u001b[0;34m@\u001b[0m\u001b[0mproperty\u001b[0m\u001b[0;34m\u001b[0m\u001b[0;34m\u001b[0m\u001b[0m\n",
            "\u001b[0;32m/usr/local/lib/python3.10/dist-packages/ultralytics/engine/model.py\u001b[0m in \u001b[0;36m__init__\u001b[0;34m(self, model, task, verbose)\u001b[0m\n\u001b[1;32m    140\u001b[0m             \u001b[0mself\u001b[0m\u001b[0;34m.\u001b[0m\u001b[0m_new\u001b[0m\u001b[0;34m(\u001b[0m\u001b[0mmodel\u001b[0m\u001b[0;34m,\u001b[0m \u001b[0mtask\u001b[0m\u001b[0;34m=\u001b[0m\u001b[0mtask\u001b[0m\u001b[0;34m,\u001b[0m \u001b[0mverbose\u001b[0m\u001b[0;34m=\u001b[0m\u001b[0mverbose\u001b[0m\u001b[0;34m)\u001b[0m\u001b[0;34m\u001b[0m\u001b[0;34m\u001b[0m\u001b[0m\n\u001b[1;32m    141\u001b[0m         \u001b[0;32melse\u001b[0m\u001b[0;34m:\u001b[0m\u001b[0;34m\u001b[0m\u001b[0;34m\u001b[0m\u001b[0m\n\u001b[0;32m--> 142\u001b[0;31m             \u001b[0mself\u001b[0m\u001b[0;34m.\u001b[0m\u001b[0m_load\u001b[0m\u001b[0;34m(\u001b[0m\u001b[0mmodel\u001b[0m\u001b[0;34m,\u001b[0m \u001b[0mtask\u001b[0m\u001b[0;34m=\u001b[0m\u001b[0mtask\u001b[0m\u001b[0;34m)\u001b[0m\u001b[0;34m\u001b[0m\u001b[0;34m\u001b[0m\u001b[0m\n\u001b[0m\u001b[1;32m    143\u001b[0m \u001b[0;34m\u001b[0m\u001b[0m\n\u001b[1;32m    144\u001b[0m     def __call__(\n",
            "\u001b[0;32m/usr/local/lib/python3.10/dist-packages/ultralytics/engine/model.py\u001b[0m in \u001b[0;36m_load\u001b[0;34m(self, weights, task)\u001b[0m\n\u001b[1;32m    292\u001b[0m \u001b[0;34m\u001b[0m\u001b[0m\n\u001b[1;32m    293\u001b[0m         \u001b[0;32mif\u001b[0m \u001b[0mPath\u001b[0m\u001b[0;34m(\u001b[0m\u001b[0mweights\u001b[0m\u001b[0;34m)\u001b[0m\u001b[0;34m.\u001b[0m\u001b[0msuffix\u001b[0m \u001b[0;34m==\u001b[0m \u001b[0;34m\".pt\"\u001b[0m\u001b[0;34m:\u001b[0m\u001b[0;34m\u001b[0m\u001b[0;34m\u001b[0m\u001b[0m\n\u001b[0;32m--> 294\u001b[0;31m             \u001b[0mself\u001b[0m\u001b[0;34m.\u001b[0m\u001b[0mmodel\u001b[0m\u001b[0;34m,\u001b[0m \u001b[0mself\u001b[0m\u001b[0;34m.\u001b[0m\u001b[0mckpt\u001b[0m \u001b[0;34m=\u001b[0m \u001b[0mattempt_load_one_weight\u001b[0m\u001b[0;34m(\u001b[0m\u001b[0mweights\u001b[0m\u001b[0;34m)\u001b[0m\u001b[0;34m\u001b[0m\u001b[0;34m\u001b[0m\u001b[0m\n\u001b[0m\u001b[1;32m    295\u001b[0m             \u001b[0mself\u001b[0m\u001b[0;34m.\u001b[0m\u001b[0mtask\u001b[0m \u001b[0;34m=\u001b[0m \u001b[0mself\u001b[0m\u001b[0;34m.\u001b[0m\u001b[0mmodel\u001b[0m\u001b[0;34m.\u001b[0m\u001b[0margs\u001b[0m\u001b[0;34m[\u001b[0m\u001b[0;34m\"task\"\u001b[0m\u001b[0;34m]\u001b[0m\u001b[0;34m\u001b[0m\u001b[0;34m\u001b[0m\u001b[0m\n\u001b[1;32m    296\u001b[0m             \u001b[0mself\u001b[0m\u001b[0;34m.\u001b[0m\u001b[0moverrides\u001b[0m \u001b[0;34m=\u001b[0m \u001b[0mself\u001b[0m\u001b[0;34m.\u001b[0m\u001b[0mmodel\u001b[0m\u001b[0;34m.\u001b[0m\u001b[0margs\u001b[0m \u001b[0;34m=\u001b[0m \u001b[0mself\u001b[0m\u001b[0;34m.\u001b[0m\u001b[0m_reset_ckpt_args\u001b[0m\u001b[0;34m(\u001b[0m\u001b[0mself\u001b[0m\u001b[0;34m.\u001b[0m\u001b[0mmodel\u001b[0m\u001b[0;34m.\u001b[0m\u001b[0margs\u001b[0m\u001b[0;34m)\u001b[0m\u001b[0;34m\u001b[0m\u001b[0;34m\u001b[0m\u001b[0m\n",
            "\u001b[0;32m/usr/local/lib/python3.10/dist-packages/ultralytics/nn/tasks.py\u001b[0m in \u001b[0;36mattempt_load_one_weight\u001b[0;34m(weight, device, inplace, fuse)\u001b[0m\n\u001b[1;32m    853\u001b[0m \u001b[0;32mdef\u001b[0m \u001b[0mattempt_load_one_weight\u001b[0m\u001b[0;34m(\u001b[0m\u001b[0mweight\u001b[0m\u001b[0;34m,\u001b[0m \u001b[0mdevice\u001b[0m\u001b[0;34m=\u001b[0m\u001b[0;32mNone\u001b[0m\u001b[0;34m,\u001b[0m \u001b[0minplace\u001b[0m\u001b[0;34m=\u001b[0m\u001b[0;32mTrue\u001b[0m\u001b[0;34m,\u001b[0m \u001b[0mfuse\u001b[0m\u001b[0;34m=\u001b[0m\u001b[0;32mFalse\u001b[0m\u001b[0;34m)\u001b[0m\u001b[0;34m:\u001b[0m\u001b[0;34m\u001b[0m\u001b[0;34m\u001b[0m\u001b[0m\n\u001b[1;32m    854\u001b[0m     \u001b[0;34m\"\"\"Loads a single model weights.\"\"\"\u001b[0m\u001b[0;34m\u001b[0m\u001b[0;34m\u001b[0m\u001b[0m\n\u001b[0;32m--> 855\u001b[0;31m     \u001b[0mckpt\u001b[0m\u001b[0;34m,\u001b[0m \u001b[0mweight\u001b[0m \u001b[0;34m=\u001b[0m \u001b[0mtorch_safe_load\u001b[0m\u001b[0;34m(\u001b[0m\u001b[0mweight\u001b[0m\u001b[0;34m)\u001b[0m  \u001b[0;31m# load ckpt\u001b[0m\u001b[0;34m\u001b[0m\u001b[0;34m\u001b[0m\u001b[0m\n\u001b[0m\u001b[1;32m    856\u001b[0m     \u001b[0margs\u001b[0m \u001b[0;34m=\u001b[0m \u001b[0;34m{\u001b[0m\u001b[0;34m**\u001b[0m\u001b[0mDEFAULT_CFG_DICT\u001b[0m\u001b[0;34m,\u001b[0m \u001b[0;34m**\u001b[0m\u001b[0;34m(\u001b[0m\u001b[0mckpt\u001b[0m\u001b[0;34m.\u001b[0m\u001b[0mget\u001b[0m\u001b[0;34m(\u001b[0m\u001b[0;34m\"train_args\"\u001b[0m\u001b[0;34m,\u001b[0m \u001b[0;34m{\u001b[0m\u001b[0;34m}\u001b[0m\u001b[0;34m)\u001b[0m\u001b[0;34m)\u001b[0m\u001b[0;34m}\u001b[0m  \u001b[0;31m# combine model and default args, preferring model args\u001b[0m\u001b[0;34m\u001b[0m\u001b[0;34m\u001b[0m\u001b[0m\n\u001b[1;32m    857\u001b[0m     \u001b[0mmodel\u001b[0m \u001b[0;34m=\u001b[0m \u001b[0;34m(\u001b[0m\u001b[0mckpt\u001b[0m\u001b[0;34m.\u001b[0m\u001b[0mget\u001b[0m\u001b[0;34m(\u001b[0m\u001b[0;34m\"ema\"\u001b[0m\u001b[0;34m)\u001b[0m \u001b[0;32mor\u001b[0m \u001b[0mckpt\u001b[0m\u001b[0;34m[\u001b[0m\u001b[0;34m\"model\"\u001b[0m\u001b[0;34m]\u001b[0m\u001b[0;34m)\u001b[0m\u001b[0;34m.\u001b[0m\u001b[0mto\u001b[0m\u001b[0;34m(\u001b[0m\u001b[0mdevice\u001b[0m\u001b[0;34m)\u001b[0m\u001b[0;34m.\u001b[0m\u001b[0mfloat\u001b[0m\u001b[0;34m(\u001b[0m\u001b[0;34m)\u001b[0m  \u001b[0;31m# FP32 model\u001b[0m\u001b[0;34m\u001b[0m\u001b[0;34m\u001b[0m\u001b[0m\n",
            "\u001b[0;32m/usr/local/lib/python3.10/dist-packages/ultralytics/nn/tasks.py\u001b[0m in \u001b[0;36mtorch_safe_load\u001b[0;34m(weight)\u001b[0m\n\u001b[1;32m    779\u001b[0m             },\n\u001b[1;32m    780\u001b[0m         ):\n\u001b[0;32m--> 781\u001b[0;31m             \u001b[0mckpt\u001b[0m \u001b[0;34m=\u001b[0m \u001b[0mtorch\u001b[0m\u001b[0;34m.\u001b[0m\u001b[0mload\u001b[0m\u001b[0;34m(\u001b[0m\u001b[0mfile\u001b[0m\u001b[0;34m,\u001b[0m \u001b[0mmap_location\u001b[0m\u001b[0;34m=\u001b[0m\u001b[0;34m\"cpu\"\u001b[0m\u001b[0;34m)\u001b[0m\u001b[0;34m\u001b[0m\u001b[0;34m\u001b[0m\u001b[0m\n\u001b[0m\u001b[1;32m    782\u001b[0m \u001b[0;34m\u001b[0m\u001b[0m\n\u001b[1;32m    783\u001b[0m     \u001b[0;32mexcept\u001b[0m \u001b[0mModuleNotFoundError\u001b[0m \u001b[0;32mas\u001b[0m \u001b[0me\u001b[0m\u001b[0;34m:\u001b[0m  \u001b[0;31m# e.name is missing module name\u001b[0m\u001b[0;34m\u001b[0m\u001b[0;34m\u001b[0m\u001b[0m\n",
            "\u001b[0;32m/usr/local/lib/python3.10/dist-packages/ultralytics/utils/patches.py\u001b[0m in \u001b[0;36mtorch_load\u001b[0;34m(*args, **kwargs)\u001b[0m\n\u001b[1;32m     84\u001b[0m         \u001b[0mkwargs\u001b[0m\u001b[0;34m[\u001b[0m\u001b[0;34m\"weights_only\"\u001b[0m\u001b[0;34m]\u001b[0m \u001b[0;34m=\u001b[0m \u001b[0;32mFalse\u001b[0m\u001b[0;34m\u001b[0m\u001b[0;34m\u001b[0m\u001b[0m\n\u001b[1;32m     85\u001b[0m \u001b[0;34m\u001b[0m\u001b[0m\n\u001b[0;32m---> 86\u001b[0;31m     \u001b[0;32mreturn\u001b[0m \u001b[0m_torch_load\u001b[0m\u001b[0;34m(\u001b[0m\u001b[0;34m*\u001b[0m\u001b[0margs\u001b[0m\u001b[0;34m,\u001b[0m \u001b[0;34m**\u001b[0m\u001b[0mkwargs\u001b[0m\u001b[0;34m)\u001b[0m\u001b[0;34m\u001b[0m\u001b[0;34m\u001b[0m\u001b[0m\n\u001b[0m\u001b[1;32m     87\u001b[0m \u001b[0;34m\u001b[0m\u001b[0m\n\u001b[1;32m     88\u001b[0m \u001b[0;34m\u001b[0m\u001b[0m\n",
            "\u001b[0;32m/usr/local/lib/python3.10/dist-packages/torch/serialization.py\u001b[0m in \u001b[0;36mload\u001b[0;34m(f, map_location, pickle_module, weights_only, mmap, **pickle_load_args)\u001b[0m\n\u001b[1;32m   1002\u001b[0m             \u001b[0morig_position\u001b[0m \u001b[0;34m=\u001b[0m \u001b[0mopened_file\u001b[0m\u001b[0;34m.\u001b[0m\u001b[0mtell\u001b[0m\u001b[0;34m(\u001b[0m\u001b[0;34m)\u001b[0m\u001b[0;34m\u001b[0m\u001b[0;34m\u001b[0m\u001b[0m\n\u001b[1;32m   1003\u001b[0m             \u001b[0moverall_storage\u001b[0m \u001b[0;34m=\u001b[0m \u001b[0;32mNone\u001b[0m\u001b[0;34m\u001b[0m\u001b[0;34m\u001b[0m\u001b[0m\n\u001b[0;32m-> 1004\u001b[0;31m             \u001b[0;32mwith\u001b[0m \u001b[0m_open_zipfile_reader\u001b[0m\u001b[0;34m(\u001b[0m\u001b[0mopened_file\u001b[0m\u001b[0;34m)\u001b[0m \u001b[0;32mas\u001b[0m \u001b[0mopened_zipfile\u001b[0m\u001b[0;34m:\u001b[0m\u001b[0;34m\u001b[0m\u001b[0;34m\u001b[0m\u001b[0m\n\u001b[0m\u001b[1;32m   1005\u001b[0m                 \u001b[0;32mif\u001b[0m \u001b[0m_is_torchscript_zip\u001b[0m\u001b[0;34m(\u001b[0m\u001b[0mopened_zipfile\u001b[0m\u001b[0;34m)\u001b[0m\u001b[0;34m:\u001b[0m\u001b[0;34m\u001b[0m\u001b[0;34m\u001b[0m\u001b[0m\n\u001b[1;32m   1006\u001b[0m                     warnings.warn(\"'torch.load' received a zip file that looks like a TorchScript archive\"\n",
            "\u001b[0;32m/usr/local/lib/python3.10/dist-packages/torch/serialization.py\u001b[0m in \u001b[0;36m__init__\u001b[0;34m(self, name_or_buffer)\u001b[0m\n\u001b[1;32m    454\u001b[0m \u001b[0;32mclass\u001b[0m \u001b[0m_open_zipfile_reader\u001b[0m\u001b[0;34m(\u001b[0m\u001b[0m_opener\u001b[0m\u001b[0;34m)\u001b[0m\u001b[0;34m:\u001b[0m\u001b[0;34m\u001b[0m\u001b[0;34m\u001b[0m\u001b[0m\n\u001b[1;32m    455\u001b[0m     \u001b[0;32mdef\u001b[0m \u001b[0m__init__\u001b[0m\u001b[0;34m(\u001b[0m\u001b[0mself\u001b[0m\u001b[0;34m,\u001b[0m \u001b[0mname_or_buffer\u001b[0m\u001b[0;34m)\u001b[0m \u001b[0;34m->\u001b[0m \u001b[0;32mNone\u001b[0m\u001b[0;34m:\u001b[0m\u001b[0;34m\u001b[0m\u001b[0;34m\u001b[0m\u001b[0m\n\u001b[0;32m--> 456\u001b[0;31m         \u001b[0msuper\u001b[0m\u001b[0;34m(\u001b[0m\u001b[0;34m)\u001b[0m\u001b[0;34m.\u001b[0m\u001b[0m__init__\u001b[0m\u001b[0;34m(\u001b[0m\u001b[0mtorch\u001b[0m\u001b[0;34m.\u001b[0m\u001b[0m_C\u001b[0m\u001b[0;34m.\u001b[0m\u001b[0mPyTorchFileReader\u001b[0m\u001b[0;34m(\u001b[0m\u001b[0mname_or_buffer\u001b[0m\u001b[0;34m)\u001b[0m\u001b[0;34m)\u001b[0m\u001b[0;34m\u001b[0m\u001b[0;34m\u001b[0m\u001b[0m\n\u001b[0m\u001b[1;32m    457\u001b[0m \u001b[0;34m\u001b[0m\u001b[0m\n\u001b[1;32m    458\u001b[0m \u001b[0;34m\u001b[0m\u001b[0m\n",
            "\u001b[0;31mRuntimeError\u001b[0m: PytorchStreamReader failed reading zip archive: failed finding central directory"
          ]
        }
      ]
    },
    {
      "source": [],
      "cell_type": "code",
      "metadata": {
        "colab": {
          "base_uri": "https://localhost:8080/"
        },
        "id": "xPqDW4XAbKyz",
        "outputId": "1c4abd9a-3083-408f-f2cf-8e3f92cd47cc"
      },
      "execution_count": null,
      "outputs": [
        {
          "output_type": "stream",
          "name": "stdout",
          "text": [
            "Error loading the model: unregistered extension code 26523\n",
            "Please make sure '/content/best (3).pt' is a valid PyTorch model file.\n"
          ]
        }
      ]
    }
  ],
  "metadata": {
    "colab": {
      "provenance": [],
      "gpuType": "T4",
      "mount_file_id": "1uEPqi_s8ieibjYZWjY-JaceCxdrUDgz5",
      "authorship_tag": "ABX9TyPpSBL/b/FO/Eo0mR3U5HDB",
      "include_colab_link": true
    },
    "kernelspec": {
      "display_name": "Python 3",
      "name": "python3"
    },
    "language_info": {
      "name": "python"
    },
    "accelerator": "GPU"
  },
  "nbformat": 4,
  "nbformat_minor": 0
}